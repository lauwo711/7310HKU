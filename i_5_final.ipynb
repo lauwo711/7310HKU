{
  "metadata": {
    "kernelspec": {
      "display_name": "Python 3",
      "name": "python3"
    },
    "language_info": {
      "name": "python",
      "version": "3.10.12",
      "mimetype": "text/x-python",
      "codemirror_mode": {
        "name": "ipython",
        "version": 3
      },
      "pygments_lexer": "ipython3",
      "nbconvert_exporter": "python",
      "file_extension": ".py"
    },
    "colab": {
      "provenance": [],
      "machine_shape": "hm",
      "gpuType": "V100"
    },
    "accelerator": "GPU"
  },
  "nbformat_minor": 0,
  "nbformat": 4,
  "cells": [
    {
      "cell_type": "markdown",
      "source": [
        "# COMP 7310 Personal Project"
      ],
      "metadata": {
        "id": "FxwBeGd-LC-v"
      }
    },
    {
      "cell_type": "markdown",
      "source": [
        "### 1. Config Setup"
      ],
      "metadata": {
        "id": "VRzeJebLLC-x"
      }
    },
    {
      "cell_type": "code",
      "source": [
        "# Make Dirs for Model Storage and Test Results\n",
        "import os\n",
        "\n",
        "try:\n",
        "    # Model Storage Path\n",
        "    model_prediction_path = r'/content/drive/MyDrive/ColabNotebooks/out/working/prediction_model'\n",
        "    os.makedirs(model_prediction_path)\n",
        "except:\n",
        "    pass\n",
        "try:\n",
        "    # Test Results Path\n",
        "    test_result_path = r'/content/drive/MyDrive/ColabNotebooks/out/working/test_results'\n",
        "    os.makedirs(test_result_path)\n",
        "except:\n",
        "    pass\n",
        "try:\n",
        "    # Test Seen & Unseen Path\n",
        "    os.makedirs(test_result_path + r'/test_seen')\n",
        "    os.makedirs(test_result_path + r'/test_unseen')\n",
        "except:\n",
        "    pass"
      ],
      "metadata": {
        "execution": {
          "iopub.status.busy": "2023-10-10T11:42:35.653280Z",
          "iopub.execute_input": "2023-10-10T11:42:35.653762Z",
          "iopub.status.idle": "2023-10-10T11:42:35.663389Z",
          "shell.execute_reply.started": "2023-10-10T11:42:35.653738Z",
          "shell.execute_reply": "2023-10-10T11:42:35.662462Z"
        },
        "trusted": true,
        "id": "mURFeQwiLC-x"
      },
      "execution_count": null,
      "outputs": []
    },
    {
      "cell_type": "code",
      "source": [
        "from google.colab import drive\n",
        "drive.mount('/content/drive')"
      ],
      "metadata": {
        "colab": {
          "base_uri": "https://localhost:8080/"
        },
        "id": "A9EfD2EOLFVk",
        "outputId": "a1a7f069-5516-4c4a-d24f-4075e7d3fc23"
      },
      "execution_count": null,
      "outputs": [
        {
          "output_type": "stream",
          "name": "stdout",
          "text": [
            "Mounted at /content/drive\n"
          ]
        }
      ]
    },
    {
      "cell_type": "code",
      "source": [
        "\"\"\"\n",
        "config settings:\n",
        "\"\"\"\n",
        "### TFNET parameters\n",
        "BATCH_SIZE = 64 # Training batch size\n",
        "TEST_BATCH_SIZE = 1 # Test batch size\n",
        "EPOCHS = 150 # Traning epoch\n",
        "SAVE_INTERVAL = 20 # Save model every 20 epochs\n",
        "STEP_SIZE = 120 # Step size for moving forward the window (For training)\n",
        "TEST_STEP_SIZE = 400 # Step size for moving forward the window (For testing)\n",
        "WINDOW_SIZE = 480 # Window size for training and testing\n",
        "INPUT_CHANNEL = 12 # Input feature dimension (Gryo + Acce +lin + gra)\n",
        "OUTPUT_CHANNEL = 2 # Output dimension (2D velocity vector)\n",
        "SAMPLING_RATE = 200 # Sampling rate\n",
        "LAYER_SIZE = 120 # The size of LSTM\n",
        "LAYERS = 4 # The layer size of LSTM\n",
        "DROPOUT = 0.2 # Dropout probability\n",
        "LEARNING_RATE = 0.003 # Learning rate\n",
        "NUM_WORKERS = 8\n",
        "### ------------------ ###\n",
        "\n",
        "### Data preprocessing parameters\n",
        "FEATURE_SIGMA = 2.0 # Sigma for feature gaussian smoothing\n",
        "TARGET_SIGMA = 30.0 # Sigma for target gaussian smoothing\n",
        "### ------------------ ###\n",
        "\n",
        "### Device for training\n",
        "DEVICE = \"cuda:0\" # You can choose GPU or CPU\n",
        "### ------------------ ###\n",
        "\n",
        "### Training and testing setting\n",
        "DATA_DIR = r'/content/drive/MyDrive/ColabNotebooks/original_data/train_dataset/' # Dataset directory for training\n",
        "VAL_DATA_DIR = r'/content/drive/MyDrive/ColabNotebooks/original_data/val_dataset/' # Dataset directory for validation\n",
        "TEST_DIR = r'/content/drive/MyDrive/ColabNotebooks/original_data/test_seen/' # Dataset directory for testing (unseen_subjects_test_set)\n",
        "OUT_DIR = r'/content/drive/MyDrive/ColabNotebooks/out/working/prediction_model' # Output directory for both traning and testing\n",
        "MODEL_PATH = '' # Model path for testing\n",
        "### ------------------ ###\n",
        "\n",
        "def load_config():\n",
        "    kwargs = {}\n",
        "    kwargs['batch_size'] = BATCH_SIZE\n",
        "    kwargs['test_batch_size'] = TEST_BATCH_SIZE\n",
        "    kwargs['epochs'] = EPOCHS\n",
        "    kwargs['save_interval'] = SAVE_INTERVAL\n",
        "    kwargs['step_size'] = STEP_SIZE\n",
        "    kwargs['test_step_size'] = TEST_STEP_SIZE\n",
        "    kwargs['window_size'] = WINDOW_SIZE\n",
        "    kwargs['sampling_rate'] = SAMPLING_RATE\n",
        "    kwargs['input_channel'] = INPUT_CHANNEL\n",
        "    kwargs['output_channel'] = OUTPUT_CHANNEL\n",
        "    kwargs['layer_size'] = LAYER_SIZE\n",
        "    kwargs['layers'] = LAYERS\n",
        "    kwargs['dropout'] = DROPOUT\n",
        "    kwargs['learning_rate'] = LEARNING_RATE\n",
        "    kwargs['num_workers'] = NUM_WORKERS\n",
        "\n",
        "    kwargs['feature_sigma'] = FEATURE_SIGMA\n",
        "    kwargs['target_sigma'] = TARGET_SIGMA\n",
        "\n",
        "    kwargs['device'] = DEVICE\n",
        "\n",
        "    kwargs['data_dir'] = DATA_DIR\n",
        "    kwargs['val_data_dir'] = VAL_DATA_DIR\n",
        "    kwargs['test_dir'] = TEST_DIR\n",
        "    kwargs['out_dir'] = OUT_DIR\n",
        "    kwargs['model_path'] = MODEL_PATH\n",
        "\n",
        "    return kwargs\n"
      ],
      "metadata": {
        "execution": {
          "iopub.status.busy": "2023-10-10T11:42:39.769453Z",
          "iopub.execute_input": "2023-10-10T11:42:39.769860Z",
          "iopub.status.idle": "2023-10-10T11:42:39.784639Z",
          "shell.execute_reply.started": "2023-10-10T11:42:39.769795Z",
          "shell.execute_reply": "2023-10-10T11:42:39.783454Z"
        },
        "trusted": true,
        "id": "1rs7HdKpLC-y"
      },
      "execution_count": null,
      "outputs": []
    },
    {
      "cell_type": "markdown",
      "source": [
        "### 2. Model Design"
      ],
      "metadata": {
        "id": "T8S7BvfNLC-y"
      }
    },
    {
      "cell_type": "code",
      "source": [
        "import torch\n",
        "from scipy import signal\n",
        "import numpy as np\n",
        "import torch.nn as nn\n",
        "import torch.nn.functional as F\n",
        "from torch.autograd import Variable\n",
        "import torchvision.models as models\n",
        "from torch.nn.utils import weight_norm\n",
        "\n",
        "### BiLSTM model\n",
        "class BilinearLSTMSeqNetwork(torch.nn.Module):\n",
        "    def __init__(self, input_size, out_size, batch_size, device,\n",
        "                 lstm_size=100, lstm_layers=3, dropout=0):\n",
        "        \"\"\"\n",
        "        LSTM network with Bilinear layer\n",
        "        Input: torch array [batch x frames x input_size]\n",
        "        Output: torch array [batch x frames x out_size]\n",
        "        :param input_size: num. channels in input\n",
        "        :param out_size: num. channels in output\n",
        "        :param batch_size:\n",
        "        :param device: torch device\n",
        "        :param lstm_size: number of LSTM units per layer\n",
        "        :param lstm_layers: number of LSTM layers\n",
        "        :param dropout: dropout probability of LSTM (@ref https://pytorch.org/docs/stable/nn.html#lstm)\n",
        "        \"\"\"\n",
        "        super(BilinearLSTMSeqNetwork, self).__init__()\n",
        "        self.input_size = input_size\n",
        "        self.lstm_size = lstm_size\n",
        "        self.output_size = out_size\n",
        "        self.num_layers = lstm_layers\n",
        "        self.batch_size = batch_size\n",
        "        self.device = device\n",
        "\n",
        "        self.bilinear = torch.nn.Bilinear(self.input_size, self.input_size, self.input_size * 4)\n",
        "        self.lstm = torch.nn.LSTM(self.input_size * 5, self.lstm_size, self.num_layers, batch_first=True, dropout=dropout)\n",
        "        self.linear1 = torch.nn.Linear(self.lstm_size + self.input_size * 5, self.output_size * 5)\n",
        "        self.linear2 = torch.nn.Linear(self.output_size * 5, self.output_size)\n",
        "        self.hidden = self.init_weights()\n",
        "\n",
        "    def forward(self, input):\n",
        "        input_mix = self.bilinear(input, input)\n",
        "        input_mix = torch.cat([input, input_mix], dim=2)\n",
        "        output, self.hidden = self.lstm(input_mix, self.init_weights())\n",
        "        output = torch.cat([input_mix, output], dim=2)\n",
        "        output = self.linear1(output)\n",
        "        output = self.linear2(output)\n",
        "        return output\n",
        "\n",
        "    def init_weights(self):\n",
        "        h0 = torch.zeros(self.num_layers, self.batch_size, self.lstm_size)\n",
        "        c0 = torch.zeros(self.num_layers, self.batch_size, self.lstm_size)\n",
        "        h0 = h0.to(self.device)\n",
        "        c0 = c0.to(self.device)\n",
        "        return Variable(h0), Variable(c0)\n",
        "### --------------------- End of the model --------------------- ###"
      ],
      "metadata": {
        "execution": {
          "iopub.status.busy": "2023-10-10T11:42:40.813759Z",
          "iopub.execute_input": "2023-10-10T11:42:40.814135Z",
          "iopub.status.idle": "2023-10-10T11:42:47.117410Z",
          "shell.execute_reply.started": "2023-10-10T11:42:40.814105Z",
          "shell.execute_reply": "2023-10-10T11:42:47.116424Z"
        },
        "trusted": true,
        "id": "mf09yRQoLC-z"
      },
      "execution_count": null,
      "outputs": []
    },
    {
      "cell_type": "markdown",
      "source": [
        "### 3. Data Loader"
      ],
      "metadata": {
        "id": "UroEpf0TLC-z"
      }
    },
    {
      "cell_type": "code",
      "source": [
        "!pip install pyquaternion==0.9.9\n",
        "!pip install numpy-quaternion==2022.4.3"
      ],
      "metadata": {
        "execution": {
          "iopub.status.busy": "2023-10-10T11:42:47.118998Z",
          "iopub.execute_input": "2023-10-10T11:42:47.119972Z",
          "iopub.status.idle": "2023-10-10T11:43:07.457377Z",
          "shell.execute_reply.started": "2023-10-10T11:42:47.119939Z",
          "shell.execute_reply": "2023-10-10T11:43:07.456059Z"
        },
        "trusted": true,
        "colab": {
          "base_uri": "https://localhost:8080/"
        },
        "id": "zHKgg-W0LC-z",
        "outputId": "7dbfdac0-7044-47fe-89ad-e806531c83ad"
      },
      "execution_count": null,
      "outputs": [
        {
          "output_type": "stream",
          "name": "stdout",
          "text": [
            "Collecting pyquaternion==0.9.9\n",
            "  Downloading pyquaternion-0.9.9-py3-none-any.whl (14 kB)\n",
            "Requirement already satisfied: numpy in /usr/local/lib/python3.10/dist-packages (from pyquaternion==0.9.9) (1.23.5)\n",
            "Installing collected packages: pyquaternion\n",
            "Successfully installed pyquaternion-0.9.9\n",
            "Collecting numpy-quaternion==2022.4.3\n",
            "  Downloading numpy_quaternion-2022.4.3-cp310-cp310-manylinux_2_5_x86_64.manylinux1_x86_64.manylinux_2_17_x86_64.manylinux2014_x86_64.whl (205 kB)\n",
            "\u001b[2K     \u001b[90m━━━━━━━━━━━━━━━━━━━━━━━━━━━━━━━━━━━━━━━━\u001b[0m \u001b[32m205.9/205.9 kB\u001b[0m \u001b[31m4.9 MB/s\u001b[0m eta \u001b[36m0:00:00\u001b[0m\n",
            "\u001b[?25hRequirement already satisfied: numpy>=1.13 in /usr/local/lib/python3.10/dist-packages (from numpy-quaternion==2022.4.3) (1.23.5)\n",
            "Installing collected packages: numpy-quaternion\n",
            "Successfully installed numpy-quaternion-2022.4.3\n"
          ]
        }
      ]
    },
    {
      "cell_type": "code",
      "source": [
        "import json\n",
        "import random\n",
        "import os\n",
        "from os import path as osp\n",
        "\n",
        "import h5py\n",
        "import torch\n",
        "import numpy as np\n",
        "import quaternion\n",
        "import math\n",
        "from scipy.ndimage import gaussian_filter1d\n",
        "from torch.utils.data import Dataset\n",
        "\n",
        "def convert_data(data_path):\n",
        "    \"\"\"\n",
        "    Data Processing\n",
        "    :param data_path\n",
        "    This function is used to convert the raw data\n",
        "    stored in hdf5 format to numpy array\n",
        "    \"\"\"\n",
        "    # read hdf5 file\n",
        "    file = h5py.File(os.path.join(data_path, 'data.hdf5'), 'r')\n",
        "    synced = file['synced'] # synced data (gyro, acce, magn ...)\n",
        "    pose = file['pose'] # pose data (ground truth)\n",
        "    # timestamp (1D)\n",
        "    timestamps = np.array(synced['time'])\n",
        "    timestamps = timestamps.reshape((len(timestamps), 1)) / 10**9 # - timestamps[0] # start from 0\n",
        "    timestamps = timestamps - timestamps[0]\n",
        "    # gyroscope (3D), accelerometer (3D), magnetometer (3D), rotation vector (4D)\n",
        "    gyro = np.array(synced['gyro'])\n",
        "    acce = np.array(synced['acce'])\n",
        "    lina = np.array(synced[\"linacce\"])\n",
        "    grav = np.array(synced[\"gravity\"])\n",
        "    # game rotation vector can convert acce and gyro\n",
        "    # from body frame to navigation frame\n",
        "    rotation_vector = synced['game_rv']\n",
        "\n",
        "    # position (3D), orientation (4D)\n",
        "    pose = file['pose']\n",
        "    tango_pos = np.array(pose['tango_pos'])\n",
        "    tango_ori = np.array(pose['tango_ori'])\n",
        "\n",
        "    # Compute the IMU orientation in the Tango coordinate frame.\n",
        "    init_tango_ori = quaternion.quaternion(*tango_ori[0])\n",
        "    ori = rotation_vector\n",
        "    ori_q = quaternion.from_float_array(ori)\n",
        "    init_rotor = init_tango_ori * ori_q[0].conj()\n",
        "    ori_q = init_rotor * ori_q\n",
        "\n",
        "    gyro_q = quaternion.from_float_array(np.concatenate([np.zeros([gyro.shape[0], 1]), gyro], axis=1))\n",
        "    acce_q = quaternion.from_float_array(np.concatenate([np.zeros([acce.shape[0], 1]), acce], axis=1))\n",
        "    glob_gyro = quaternion.as_float_array(ori_q * gyro_q * ori_q.conj())[:, 1:]\n",
        "    glob_acce = quaternion.as_float_array(ori_q * acce_q * ori_q.conj())[:, 1:]\n",
        "\n",
        "    rawdata = np.concatenate((timestamps, glob_gyro, glob_acce, lina, grav), axis = 1)\n",
        "    # print(rawdata.shape)\n",
        "    # import sys\n",
        "    # sys.exit(1)\n",
        "    groundtruth = np.concatenate((timestamps, tango_pos, tango_ori), axis = 1)\n",
        "\n",
        "    return rawdata, groundtruth\n",
        "\n",
        "def convert_data_test(data_path):\n",
        "    \"\"\"\n",
        "    Data Processing\n",
        "    :param data_path\n",
        "    This function is used to convert the raw data\n",
        "    stored in hdf5 format to numpy array\n",
        "    \"\"\"\n",
        "    # read hdf5 file\n",
        "    file = h5py.File(os.path.join(data_path, 'data.hdf5'), 'r')\n",
        "    synced = file['synced'] # synced data (gyro, acce, magn ...)\n",
        "    pose = file['pose'] # pose data (ground truth)\n",
        "    # timestamp (1D)\n",
        "    timestamps = np.array(synced['time'])\n",
        "    timestamps = timestamps.reshape((len(timestamps), 1)) / 10**9 # - timestamps[0] # start from 0\n",
        "    timestamps = timestamps - timestamps[0]\n",
        "    # gyroscope (3D), accelerometer (3D), magnetometer (3D), rotation vector (4D)\n",
        "    gyro = np.array(synced['gyro'])\n",
        "    acce = np.array(synced['acce'])\n",
        "    lina = np.array(synced[\"linacce\"])\n",
        "    grav = np.array(synced[\"gravity\"])\n",
        "    # game rotation vector can convert acce and gyro\n",
        "    # from body frame to navigation frame\n",
        "    rotation_vector = synced['game_rv']\n",
        "\n",
        "    # position (3D), orientation (4D)\n",
        "    pose = file['pose']\n",
        "    tango_ori = np.array(pose['tango_ori'])\n",
        "\n",
        "    # Compute the IMU orientation in the Tango coordinate frame.\n",
        "    init_tango_ori = quaternion.quaternion(*tango_ori[0])\n",
        "    ori = rotation_vector\n",
        "    ori_q = quaternion.from_float_array(ori)\n",
        "    init_rotor = init_tango_ori * ori_q[0].conj()\n",
        "    ori_q = init_rotor * ori_q\n",
        "\n",
        "    gyro_q = quaternion.from_float_array(np.concatenate([np.zeros([gyro.shape[0], 1]), gyro], axis=1))\n",
        "    acce_q = quaternion.from_float_array(np.concatenate([np.zeros([acce.shape[0], 1]), acce], axis=1))\n",
        "    glob_gyro = quaternion.as_float_array(ori_q * gyro_q * ori_q.conj())[:, 1:]\n",
        "    glob_acce = quaternion.as_float_array(ori_q * acce_q * ori_q.conj())[:, 1:]\n",
        "\n",
        "    rawdata = np.concatenate((timestamps, glob_gyro, glob_acce, lina, grav), axis = 1)\n",
        "\n",
        "    return rawdata\n",
        "\n",
        "class GlobSequence():\n",
        "    \"\"\"\n",
        "    Property: global coordinate frame\n",
        "    \"\"\"\n",
        "    # add 3-axis magnetometer\n",
        "    # feature_dim = 9\n",
        "    feature_dim = 6\n",
        "    target_dim = 2\n",
        "    aux_dim = 8\n",
        "\n",
        "    def __init__(self, data_path = None, **kwargs):\n",
        "        super().__init__()\n",
        "        self.ts, self.features, self.targets, self.gt_pos = None, None, None, None\n",
        "        # self.info = {}\n",
        "        self.w = kwargs.get('interval', 1)\n",
        "        if data_path is not None:\n",
        "            self.load(data_path)\n",
        "\n",
        "    def load(self, data_path):\n",
        "        # print(\"the data_path is:\", data_path)\n",
        "        data, ground_truth = convert_data(data_path)\n",
        "        # already in global coordinate frame and start from start frame\n",
        "        # timestamp (1D) gyroscope (3D), accelerometer (3D)\n",
        "        gyro = data[:, 1:4]\n",
        "        acce = data[:, 4:7]\n",
        "        lina = data[:, 7:10]\n",
        "        grav = data[:, 10:13]\n",
        "        ts = data[:, 0]\n",
        "        # tango position\n",
        "        tango_pos = ground_truth[:, 1:4]\n",
        "        # tango orientation\n",
        "        tango_ori = ground_truth[:, 4:8]\n",
        "\n",
        "        dt = (ts[self.w:] - ts[:-self.w])[:, None]\n",
        "        # calculate the global velocity\n",
        "        glob_v = (tango_pos[self.w:] - tango_pos[:-self.w]) / dt\n",
        "\n",
        "        self.ts = ts\n",
        "        self.features = np.concatenate([gyro, acce, lina, grav], axis = 1)\n",
        "        # We only use the global velocity in the floor plane\n",
        "        self.targets = glob_v[:, :2]\n",
        "        self.orientations = tango_ori # quaternion.as_float_array(tango_ori)\n",
        "        self.gt_pos = tango_pos\n",
        "\n",
        "    def get_feature(self):\n",
        "        return self.features\n",
        "\n",
        "    def get_target(self):\n",
        "        return self.targets\n",
        "\n",
        "    def get_aux(self):\n",
        "        return np.concatenate([self.ts[:, None], self.orientations, self.gt_pos], axis = 1)\n",
        "\n",
        "class GlobSequenceTest():\n",
        "    \"\"\"\n",
        "    Property: global coordinate frame\n",
        "    \"\"\"\n",
        "    # add 3-axis magnetometer\n",
        "    # feature_dim = 9\n",
        "    feature_dim = 6\n",
        "    aux_dim = 8\n",
        "\n",
        "    def __init__(self, data_path = None, **kwargs):\n",
        "        super().__init__()\n",
        "        self.ts, self.features, self.targets, self.gt_pos = None, None, None, None\n",
        "        # self.info = {}\n",
        "        self.w = kwargs.get('interval', 1)\n",
        "        if data_path is not None:\n",
        "            self.load(data_path)\n",
        "\n",
        "    def load(self, data_path):\n",
        "        # print(\"the data_path is:\", data_path)\n",
        "        data = convert_data_test(data_path)\n",
        "        # already in global coordinate frame and start from start frame\n",
        "        # timestamp (1D) gyroscope (3D), accelerometer (3D)\n",
        "        gyro = data[:, 1:4]\n",
        "        acce = data[:, 4:7]\n",
        "        lina = data[:, 7:10]\n",
        "        grav = data[:, 10:13]\n",
        "        ts = data[:, 0]\n",
        "\n",
        "        dt = (ts[self.w:] - ts[:-self.w])[:, None]\n",
        "\n",
        "        self.ts = ts\n",
        "        self.features = np.concatenate([gyro, acce, lina, grav], axis = 1)\n",
        "\n",
        "    def get_feature(self):\n",
        "        return self.features\n",
        "\n",
        "    def get_aux(self):\n",
        "        return 0\n",
        "\n",
        "def load_sequences(seq_type, root_dir, data_list, **kwargs):\n",
        "    features_all, targets_all, aux_all = [], [], []\n",
        "\n",
        "    for i in range(len(data_list)):\n",
        "        seq = seq_type(osp.join(root_dir, data_list[i]), **kwargs)\n",
        "        feat, targ, aux = seq.get_feature(), seq.get_target(), seq.get_aux()\n",
        "        # add feat, targ, aux to list\n",
        "        features_all.append(feat)\n",
        "        targets_all.append(targ)\n",
        "        aux_all.append(aux)\n",
        "    return features_all, targets_all, aux_all\n",
        "\n",
        "def load_sequences_test(seq_type, root_dir, data_list, **kwargs):\n",
        "    features_all, aux_all = [], []\n",
        "\n",
        "    for i in range(len(data_list)):\n",
        "        seq = seq_type(osp.join(root_dir, data_list[i]), **kwargs)\n",
        "        feat, aux = seq.get_feature(), seq.get_aux()\n",
        "        # add feat, targ, aux to list\n",
        "        features_all.append(feat)\n",
        "        aux_all.append(aux)\n",
        "    return features_all, aux_all\n",
        "\n",
        "class SequenceToSequenceDataset(Dataset):\n",
        "    def __init__(self, seq_type, root_dir, data_list, step_size = 100, window_size = 400,\n",
        "                 random_shift = 0, transform = None, **kwargs):\n",
        "        super(SequenceToSequenceDataset, self).__init__()\n",
        "        self.seq_type = seq_type\n",
        "        self.feature_dim = seq_type.feature_dim\n",
        "        self.target_dim = seq_type.target_dim\n",
        "        self.aux_dim = seq_type.aux_dim\n",
        "        self.window_size = window_size\n",
        "        self.step_size = step_size\n",
        "        self.random_shift = random_shift\n",
        "        self.transform = transform\n",
        "        self.projection_width = kwargs.get('projection_width', 0)\n",
        "        self.data_path = [osp.join(root_dir, data) for data in data_list]\n",
        "        self.index_map = []\n",
        "\n",
        "        self.features, self.targets, aux = load_sequences(\n",
        "            seq_type, root_dir, data_list, **kwargs)\n",
        "\n",
        "        # Optionally smooth the sequence\n",
        "        feat_sigma = kwargs.get('feature_sigma,', -1)\n",
        "        targ_sigma = kwargs.get('target_sigma,', -1)\n",
        "        if feat_sigma > 0:\n",
        "            self.features = [gaussian_filter1d(feat, sigma=feat_sigma, axis=0) for feat in self.features]\n",
        "        if targ_sigma > 0:\n",
        "            self.targets = [gaussian_filter1d(targ, sigma=targ_sigma, axis=0) for targ in self.targets]\n",
        "\n",
        "        max_norm = 3.0 #\n",
        "        self.ts, self.orientations, self.gt_pos, self.local_v = [], [], [], []\n",
        "        for i in range(len(data_list)):\n",
        "            self.features[i] = self.features[i][:-1]\n",
        "            self.targets[i] = self.targets[i]\n",
        "            self.ts.append(aux[i][:-1, :1])\n",
        "            self.orientations.append(aux[i][:-1, 1:5])\n",
        "            self.gt_pos.append(aux[i][:-1, 5:8])\n",
        "\n",
        "            velocity = np.linalg.norm(self.targets[i], axis=1)  # Remove outlier ground truth data\n",
        "            bad_data = velocity > max_norm\n",
        "            for j in range(window_size + random_shift, self.targets[i].shape[0], step_size):\n",
        "                if not bad_data[j - window_size - random_shift:j + random_shift].any():\n",
        "                    self.index_map.append([i, j])\n",
        "\n",
        "        # if shuffle is necessary here? As the training data should be in a logical sequence\n",
        "        if kwargs.get('shuffle', True):\n",
        "            random.shuffle(self.index_map)\n",
        "\n",
        "    def __getitem__(self, item):\n",
        "        # output format: input, target, seq_id, frame_id\n",
        "        seq_id, frame_id = self.index_map[item][0], self.index_map[item][1]\n",
        "\n",
        "        feat = np.copy(self.features[seq_id][frame_id - self.window_size:frame_id])\n",
        "        targ = np.copy(self.targets[seq_id][frame_id - self.window_size:frame_id])\n",
        "        # random rotate the sequence in the horizontal plane\n",
        "        if self.transform is not None:\n",
        "            feat, targ = self.transform(feat, targ)\n",
        "\n",
        "            return feat.astype(np.float32), targ.astype(np.float32), seq_id, frame_id\n",
        "\n",
        "    def __len__(self):\n",
        "        return len(self.index_map)\n",
        "\n",
        "    def get_lstm_test_seq(self):\n",
        "        return np.array(self.features).astype(np.float32), np.array(self.targets).astype(np.float32)\n",
        "\n",
        "class SequenceToSequenceDatasetTest(Dataset):\n",
        "    def __init__(self, seq_type, root_dir, data_list, step_size = 100, window_size = 400,\n",
        "                 random_shift = 0, transform = None, **kwargs):\n",
        "        super(SequenceToSequenceDatasetTest, self).__init__()\n",
        "        self.seq_type = seq_type\n",
        "        self.feature_dim = seq_type.feature_dim\n",
        "        self.aux_dim = seq_type.aux_dim\n",
        "        self.window_size = window_size\n",
        "        self.step_size = step_size\n",
        "        self.random_shift = random_shift\n",
        "        self.transform = transform\n",
        "        self.projection_width = kwargs.get('projection_width', 0)\n",
        "\n",
        "        self.data_path = [osp.join(root_dir, data) for data in data_list]\n",
        "        self.index_map = []\n",
        "\n",
        "        self.features, aux = load_sequences_test(\n",
        "            seq_type, root_dir, data_list, **kwargs)\n",
        "\n",
        "        # Optionally smooth the sequence\n",
        "        feat_sigma = kwargs.get('feature_sigma,', -1)\n",
        "        if feat_sigma > 0:\n",
        "            self.features = [gaussian_filter1d(feat, sigma=feat_sigma, axis=0) for feat in self.features]\n",
        "\n",
        "        max_norm = 3.0 #\n",
        "        for i in range(len(data_list)):\n",
        "            self.features[i] = self.features[i][:-1]\n",
        "\n",
        "        # if shuffle is necessary here? As the training data should be in a logical sequence\n",
        "        if kwargs.get('shuffle', True):\n",
        "            random.shuffle(self.index_map)\n",
        "\n",
        "    def __getitem__(self, item):\n",
        "        # output format: input, target, seq_id, frame_id\n",
        "        seq_id, frame_id = self.index_map[item][0], self.index_map[item][1]\n",
        "        feat = np.copy(self.features[seq_id][frame_id - self.window_size:frame_id])\n",
        "\n",
        "        return feat.astype(np.float32), seq_id, frame_id\n",
        "\n",
        "    def __len__(self):\n",
        "        return len(self.index_map)\n",
        "\n",
        "    def get_lstm_test_seq(self):\n",
        "        return np.array(self.features).astype(np.float32)\n",
        "\n",
        "def change_cf(ori, vectors):\n",
        "    \"\"\"\n",
        "    Euler-Rodrigous formula v'=v+2s(rxv)+2rx(rxv)\n",
        "    :param ori: quaternion [n]x4\n",
        "    :param vectors: vector nx3\n",
        "    :return: rotated vector nx3\n",
        "    \"\"\"\n",
        "    assert ori.shape[-1] == 4\n",
        "    assert vectors.shape[-1] == 3\n",
        "\n",
        "    if len(ori.shape) == 1:\n",
        "        ori = ori.reshape(1, -1)\n",
        "\n",
        "    q_s = ori[:, :1]\n",
        "    q_r = ori[:, 1:]\n",
        "\n",
        "    tmp = np.cross(q_r, vectors)\n",
        "    vectors = np.add(np.add(vectors, np.multiply(2, np.multiply(q_s, tmp))), np.multiply(2, np.cross(q_r, tmp)))\n",
        "    return vectors\n",
        "\n",
        "class ComposeTransform:\n",
        "    def __init__(self, transforms):\n",
        "        self.transforms = transforms\n",
        "\n",
        "    def __call__(self, feat, targ, **kwargs):\n",
        "        for t in self.transforms:\n",
        "            feat, targ = t(feat, targ)\n",
        "        return feat, targ\n",
        "\n",
        "class RandomHoriRotateSeq:\n",
        "    def __init__(self, input_format, output_format=None):\n",
        "        \"\"\"\n",
        "        Rotate global input, global output by a random angle\n",
        "        @:param input format - input feature vector(x,3) boundaries as array (E.g [0,3,6])\n",
        "        @:param output format - output feature vector(x,2/3) boundaries as array (E.g [0,2,5])\n",
        "                                if 2, 0 is appended as z.\n",
        "        \"\"\"\n",
        "        self.i_f = input_format\n",
        "        self.o_f = output_format\n",
        "\n",
        "    def __call__(self, feature, target):\n",
        "        a = np.random.random() * 2 * np.math.pi\n",
        "        # print(\"Rotating by {} degrees\", a/np.math.pi * 180)\n",
        "        t = np.array([np.cos(a), 0, 0, np.sin(a)])\n",
        "\n",
        "        for i in range(len(self.i_f) - 1):\n",
        "            feature[:, self.i_f[i]: self.i_f[i + 1]] = \\\n",
        "                change_cf(t, feature[:, self.i_f[i]: self.i_f[i + 1]])\n",
        "\n",
        "        for i in range(len(self.o_f) - 1):\n",
        "            if self.o_f[i + 1] - self.o_f[i] == 3:\n",
        "                # vector = target[:, self.o_f[i]: self.o_f[i + 1]]\n",
        "                # target[:, self.o_f[i]: self.o_f[i + 1]] = change_cf(t, vector)\n",
        "                vector = target[self.o_f[i]: self.o_f[i + 1]]\n",
        "                target[:, self.o_f[i]: self.o_f[i + 1]] = change_cf(t, vector)\n",
        "            elif self.o_f[i + 1] - self.o_f[i] == 2:\n",
        "                vector = np.concatenate([target[:, self.o_f[i]: self.o_f[i + 1]], np.zeros([target.shape[0], 1])], axis=1)\n",
        "                target[:, self.o_f[i]: self.o_f[i + 1]] = change_cf(t, vector)[:, :2]\n",
        "\n",
        "        return feature.astype(np.float32), target.astype(np.float32)\n",
        "\n",
        "class RandomHoriRotateSeqTensor:\n",
        "    def __init__(self):\n",
        "        \"\"\"\n",
        "        Rotate global input, global output by a random angle\n",
        "        @:param input format - input feature vector(x,3) boundaries as array (E.g [0,3,6])\n",
        "        @:param output format - output feature vector(x,2/3) boundaries as array (E.g [0,2,5])\n",
        "                                if 2, 0 is appended as z.\n",
        "        \"\"\"\n",
        "\n",
        "    def __call__(self, feature, target):\n",
        "        # Tensor random rotation matrix\n",
        "        a = torch.rand(1) * 2 * np.math.pi\n",
        "        rotation_matrix_feat = torch.tensor([[torch.cos(a), torch.sin(a), 0, 0, 0, 0],\n",
        "                                            [-torch.sin(a), torch.cos(a), 0, 0, 0, 0],\n",
        "                                            [0, 0, 1, 0, 0, 0],\n",
        "                                            [0, 0, 0, torch.cos(a), torch.sin(a), 0],\n",
        "                                            [0, 0, 0, -torch.sin(a), torch.cos(a), 0],\n",
        "                                            [0, 0, 0, 0, 0, 1]], dtype=torch.float32)\n",
        "\n",
        "        rotation_matrix_targ = torch.tensor([[torch.cos(a), torch.sin(a)],\n",
        "                                            [-torch.sin(a), torch.cos(a)]], dtype=torch.float32)\n",
        "\n",
        "        # Matrix multiplication\n",
        "        feature = torch.matmul(feature, rotation_matrix_feat)\n",
        "        target = torch.matmul(target, rotation_matrix_targ)\n",
        "\n",
        "        return feature, target\n",
        "\n",
        "def get_dataset(root_dir, data_list, mode, **kwargs):\n",
        "    # load config\n",
        "    global_step_size = 0\n",
        "    # input data includes: accelemeters, gyroscopes\n",
        "    input_format = [0, 3, 6]\n",
        "    # output data is the moving distance and its direction\n",
        "    output_format = [0, 2]\n",
        "\n",
        "    random_shift, shuffle, transforms = 0, False, []\n",
        "\n",
        "    if mode == 'train':\n",
        "        random_shift = global_step_size // 2\n",
        "        shuffle = True\n",
        "        transforms.append(RandomHoriRotateSeq(input_format, output_format))\n",
        "        global_step_size = kwargs.get('step_size')\n",
        "        transforms = ComposeTransform(transforms)\n",
        "        seq_type = GlobSequence\n",
        "        global_window_size = kwargs.get('window_size')\n",
        "        dataset = SequenceToSequenceDataset(seq_type, root_dir, data_list, global_step_size,\n",
        "                                            global_window_size, random_shift = random_shift,\n",
        "                                            transform = transforms, shuffle = shuffle)\n",
        "    elif mode == 'val':\n",
        "        shuffle = True\n",
        "        global_step_size = kwargs.get('step_size')\n",
        "        transforms = ComposeTransform(transforms)\n",
        "        seq_type = GlobSequence\n",
        "        global_window_size = kwargs.get('window_size')\n",
        "        dataset = SequenceToSequenceDataset(seq_type, root_dir, data_list, global_step_size,\n",
        "                                            global_window_size, random_shift = random_shift,\n",
        "                                            transform = transforms, shuffle = shuffle)\n",
        "    elif mode == 'val_test':\n",
        "        shuffle = False\n",
        "        global_step_size = kwargs.get('test_step_size')\n",
        "        transforms = ComposeTransform(transforms)\n",
        "        seq_type = GlobSequence\n",
        "        global_window_size = kwargs.get('window_size')\n",
        "        dataset = SequenceToSequenceDataset(seq_type, root_dir, data_list, global_step_size,\n",
        "                                            global_window_size, random_shift = random_shift,\n",
        "                                            transform = transforms, shuffle = shuffle)\n",
        "    elif mode == 'test':\n",
        "        shuffle = False\n",
        "        global_step_size = kwargs.get('test_step_size')\n",
        "        transforms = ComposeTransform(transforms)\n",
        "        seq_type = GlobSequenceTest\n",
        "        global_window_size = kwargs.get('window_size')\n",
        "        dataset = SequenceToSequenceDatasetTest(seq_type, root_dir, data_list, global_step_size,\n",
        "                                                global_window_size, random_shift = random_shift,\n",
        "                                                transform = transforms, shuffle = shuffle)\n",
        "\n",
        "    return dataset\n",
        "\n",
        "def read_dir(dir_path):\n",
        "    # read dirs from dir_path\n",
        "    for _, dirs, _ in os.walk(dir_path):\n",
        "        return dirs\n",
        "\n",
        "def get_train_dataset(root_dir, **kwargs):\n",
        "    trainlist = read_dir(root_dir)\n",
        "    return get_dataset(root_dir, trainlist, mode = 'train', **kwargs)\n",
        "\n",
        "def get_valid_dataset(root_dir, **kwargs):\n",
        "    validlist = read_dir(root_dir)\n",
        "    return get_dataset(root_dir, validlist, mode = 'val', **kwargs)\n",
        "\n",
        "def get_valid_test_dataset(root_dir, dir, **kwargs):\n",
        "    return get_dataset(root_dir, dir, mode = 'val_test', **kwargs)\n",
        "\n",
        "def get_test_dataset(root_dir, dir, **kwargs):\n",
        "    return get_dataset(root_dir, dir, mode = 'test', **kwargs)"
      ],
      "metadata": {
        "execution": {
          "iopub.status.busy": "2023-10-10T11:43:11.443551Z",
          "iopub.execute_input": "2023-10-10T11:43:11.443903Z",
          "iopub.status.idle": "2023-10-10T11:43:13.257058Z",
          "shell.execute_reply.started": "2023-10-10T11:43:11.443873Z",
          "shell.execute_reply": "2023-10-10T11:43:13.256102Z"
        },
        "trusted": true,
        "id": "tjmTrYGbLC-z"
      },
      "execution_count": null,
      "outputs": []
    },
    {
      "cell_type": "markdown",
      "source": [
        "### 4. Criterion"
      ],
      "metadata": {
        "id": "qPlKX5FLLC-0"
      }
    },
    {
      "cell_type": "code",
      "source": [
        "import json\n",
        "import os\n",
        "import sys\n",
        "import time\n",
        "import random\n",
        "import argparse\n",
        "from os import path as osp\n",
        "from pathlib import Path\n",
        "\n",
        "import numpy as np\n",
        "import torch\n",
        "\n",
        "class GlobalPosLoss(torch.nn.Module):\n",
        "    def __init__(self):\n",
        "        \"\"\"\n",
        "        Calculate position loss in global coordinate frame\n",
        "        Target :- Global Velocity\n",
        "        Prediction :- Global Velocity\n",
        "        \"\"\"\n",
        "        super(GlobalPosLoss, self).__init__()\n",
        "        self.mse_loss = torch.nn.MSELoss(reduction = 'none')\n",
        "\n",
        "    def forward(self, pred, targ):\n",
        "        # dts = 1 / 200\n",
        "        dts = 1\n",
        "        pred = pred * dts\n",
        "        targ = targ * dts\n",
        "        gt_pos = torch.cumsum(targ[:, 1:, ], 1)\n",
        "        pred_pos = torch.cumsum(pred[:, 1:, ], 1)\n",
        "        loss = self.mse_loss(pred_pos, gt_pos)\n",
        "        # loss = 10*PDE + 0.1*AYE + RTE + ATE\n",
        "        # calculate the sum of absolute trajectory error\n",
        "        return torch.mean(loss)\n",
        "\n",
        "class MSEAverage():\n",
        "    def __init__(self):\n",
        "        self.count = 0\n",
        "        self.targets = []\n",
        "        self.predictions = []\n",
        "        self.average = []\n",
        "\n",
        "    def add(self, pred, targ):\n",
        "        self.targets.append(targ)\n",
        "        self.predictions.append(pred)\n",
        "        self.average.append(np.average((pred - targ) ** 2, axis=(0, 1)))\n",
        "        # print(\"The shape of average is: \", np.array(self.average).shape)\n",
        "        # print(\"THe shape of np.average(np.array(self.average), axis=0) is: \", np.average(np.array(self.average), axis=0).shape)\n",
        "        self.count += 1\n",
        "\n",
        "    def get_channel_avg(self):\n",
        "        average = np.average(np.array(self.average), axis=0)\n",
        "        return average\n",
        "\n",
        "    def get_total_avg(self):\n",
        "        average = np.average(np.array(self.average), axis=0)\n",
        "        return np.average(average)\n",
        "\n",
        "    def get_elements(self, axis):\n",
        "        return np.concatenate(self.predictions, axis=axis), np.concatenate(self.targets, axis=axis)\n",
        "\n",
        "def reconstruct_traj(vector, **kwargs):\n",
        "    global_sampling_rate = kwargs.get('sampling_rate', None)\n",
        "    # reconstruct the vector to one sequence\n",
        "    # velocity_sequence = vector.reshape(len(vector) * global_window_size, global_output_channel)\n",
        "\n",
        "    velocity_sequence = vector * 1 / global_sampling_rate\n",
        "    glob_pos = np.cumsum(velocity_sequence, axis = 0)\n",
        "\n",
        "    return glob_pos\n",
        "\n",
        "def compute_absolute_trajectory_error(pred, gt):\n",
        "    \"\"\"\n",
        "    The Absolute Trajectory Error (ATE) defined in:\n",
        "    A Benchmark for the evaluation of RGB-D SLAM Systems\n",
        "    http://ais.informatik.uni-freiburg.de/publications/papers/sturm12iros.pdf\n",
        "\n",
        "    Args:\n",
        "        est: estimated trajectory\n",
        "        gt: ground truth trajectory. It must have the same shape as est.\n",
        "\n",
        "    Return:\n",
        "        Absolution trajectory error, which is the Root Mean Squared Error between\n",
        "        two trajectories.\n",
        "    \"\"\"\n",
        "    return np.sqrt(np.mean((pred - gt) ** 2))\n",
        "\n",
        "\n",
        "def compute_relative_trajectory_error(est, gt, delta, max_delta = -1):\n",
        "    \"\"\"\n",
        "    The Relative Trajectory Error (RTE) defined in:\n",
        "    A Benchmark for the evaluation of RGB-D SLAM Systems\n",
        "    http://ais.informatik.uni-freiburg.de/publications/papers/sturm12iros.pdf\n",
        "\n",
        "    Args:\n",
        "        est: the estimated trajectory\n",
        "        gt: the ground truth trajectory.\n",
        "        delta: fixed window size. If set to -1, the average of all RTE up to max_delta will be computed.\n",
        "        max_delta: maximum delta. If -1 is provided, it will be set to the length of trajectories.\n",
        "\n",
        "    Returns:\n",
        "        Relative trajectory error. This is the mean value under different delta.\n",
        "    \"\"\"\n",
        "    if max_delta == -1:\n",
        "        max_delta = est.shape[0]\n",
        "    # print(\"delta: \", delta)\n",
        "    deltas = np.array([min(delta, max_delta - 1)])\n",
        "    # deltas = np.array([delta]) if delta > 0 else np.arange(1, min(est.shape[0], max_delta))\n",
        "    rtes = np.zeros(deltas.shape[0])\n",
        "    for i in range(deltas.shape[0]):\n",
        "        # For each delta, the RTE is computed as the RMSE of endpoint drifts from fixed windows\n",
        "        # slided through the trajectory.\n",
        "        err = est[deltas[i]:] + gt[:-deltas[i]] - est[:-deltas[i]] - gt[deltas[i]:]\n",
        "        rtes[i] = np.sqrt(np.mean(err ** 2))\n",
        "\n",
        "    # The average of RTE of all window sized is returned.\n",
        "    rtes = rtes[~np.isnan(rtes)]\n",
        "    return np.mean(rtes)\n",
        "\n",
        "def compute_position_drift_error(pos_pred, pos_gt):\n",
        "    \"\"\"\n",
        "    Params:\n",
        "        pos_pred: predicted position [seq_len, 2]\n",
        "        pos_gt: ground truth position [seq_len, 2]\n",
        "    \"\"\"\n",
        "    position_drift = np.linalg.norm((pos_gt[-1] - pos_pred[-1]))\n",
        "    delta_position = pos_gt[1:] - pos_gt[:-1]\n",
        "    delta_length = np.linalg.norm(delta_position, axis=1)\n",
        "    moving_len = np.sum(delta_length)\n",
        "\n",
        "    return position_drift / moving_len\n",
        "\n",
        "def compute_distance_error(pos_pred, pos_gt):\n",
        "    \"\"\"\n",
        "    Params:\n",
        "        pos_pred: predicted position [seq_len, 2]\n",
        "        pos_gt: ground truth position [seq_len, 2]\n",
        "    \"\"\"\n",
        "    distance_error = np.linalg.norm((pos_gt - pos_pred), axis=1)\n",
        "\n",
        "    return distance_error\n",
        "\n",
        "def compute_heading_error(preds, targets):\n",
        "    \"\"\"\n",
        "    Params:\n",
        "        pos_pred: predicted position [seq_len, 2]\n",
        "        pos_gt: ground truth position [seq_len, 2]\n",
        "    \"\"\"\n",
        "    # Find the index of preds with zero norm\n",
        "    zero_norm_index = np.where(np.linalg.norm(preds, axis=1) == 0)[0]\n",
        "    # Remove the zero norm index\n",
        "    preds = np.delete(preds, zero_norm_index, axis=0)\n",
        "    targets = np.delete(targets, zero_norm_index, axis=0)\n",
        "    # Find the index of targets with zero norm\n",
        "    zero_norm_index = np.where(np.linalg.norm(targets, axis=1) == 0)[0]\n",
        "    # Remove the zero norm index\n",
        "    preds = np.delete(preds, zero_norm_index, axis=0)\n",
        "    targets = np.delete(targets, zero_norm_index, axis=0)\n",
        "\n",
        "    pred_v = np.linalg.norm(preds, axis=1)\n",
        "    targ_v = np.linalg.norm(targets, axis=1)\n",
        "\n",
        "    pred_o = preds / pred_v[:, np.newaxis]\n",
        "    targ_o = targets / targ_v[:, np.newaxis]\n",
        "\n",
        "    # calculate the heading angle of the predicted and target vectors\n",
        "    pred_heading = np.arctan2(pred_o[:, 1], pred_o[:, 0])\n",
        "    targ_heading = np.arctan2(targ_o[:, 1], targ_o[:, 0])\n",
        "\n",
        "    # calculate the heading error\n",
        "    heading_error = np.mean(np.abs(pred_heading - targ_heading))\n",
        "    # convert to degrees\n",
        "    heading_error = heading_error * 180 / np.pi\n",
        "\n",
        "    return heading_error"
      ],
      "metadata": {
        "execution": {
          "iopub.status.busy": "2023-10-10T11:43:13.258691Z",
          "iopub.execute_input": "2023-10-10T11:43:13.259205Z",
          "iopub.status.idle": "2023-10-10T11:43:13.278108Z",
          "shell.execute_reply.started": "2023-10-10T11:43:13.259174Z",
          "shell.execute_reply": "2023-10-10T11:43:13.277334Z"
        },
        "trusted": true,
        "id": "aTzPp4ErLC-0"
      },
      "execution_count": null,
      "outputs": []
    },
    {
      "cell_type": "markdown",
      "source": [
        "### 5. Utils"
      ],
      "metadata": {
        "id": "SUUtEjvnLC-1"
      }
    },
    {
      "cell_type": "code",
      "source": [
        "import os\n",
        "import numpy as np\n",
        "import matplotlib.pyplot as plt\n",
        "import os.path as osp\n",
        "\n",
        "def format_string(*argv, sep=' '):\n",
        "    result = ''\n",
        "    for val in argv:\n",
        "        if isinstance(val, (tuple, list, np.ndarray)):\n",
        "            for v in val:\n",
        "                result += format_string(v, sep=sep) + sep\n",
        "        else:\n",
        "            result += str(val) + sep\n",
        "    return result[:-1]\n",
        "\n",
        "def draw_trajectory(pos_pred, pos_gt, dir_name, ate, rte, **kwargs):\n",
        "    \"\"\"\n",
        "    :param data:\n",
        "    :pos_pred: (N, 2)\n",
        "    :pos_gt: (N, 2)\n",
        "    :dir_name: test directory\n",
        "    :ate: average trajectory error\n",
        "    :rte: relative trajectory error\n",
        "    \"\"\"\n",
        "    global_out_dir = kwargs.get('out_dir', None)\n",
        "    if global_out_dir is None:\n",
        "        raise ValueError('out_dir is needed')\n",
        "\n",
        "    plt.figure(figsize=(8, 5), dpi = 400)\n",
        "    plt.plot(pos_pred[:, 0], pos_pred[:, 1], label = 'Predicted')\n",
        "    plt.plot(pos_gt[:, 0], pos_gt[:, 1], label = 'Ground truth')\n",
        "    plt.title(dir_name)\n",
        "    print(\"make title success\")\n",
        "    # Show words in latex format\n",
        "    plt.xlabel('$m$')\n",
        "    plt.ylabel('$m$')\n",
        "    plt.axis('equal')\n",
        "    plt.legend()\n",
        "    plt.title('ATE:{:.3f}, RTE:{:.3f}'.format(ate, rte), y = 0, loc = 'right')\n",
        "\n",
        "    plt.savefig(osp.join(global_out_dir, '{}.png'.format(dir_name)))\n"
      ],
      "metadata": {
        "execution": {
          "iopub.status.busy": "2023-10-10T11:43:15.031406Z",
          "iopub.execute_input": "2023-10-10T11:43:15.031757Z",
          "iopub.status.idle": "2023-10-10T11:43:15.039392Z",
          "shell.execute_reply.started": "2023-10-10T11:43:15.031730Z",
          "shell.execute_reply": "2023-10-10T11:43:15.038501Z"
        },
        "trusted": true,
        "id": "PcxAoTLeLC-1"
      },
      "execution_count": null,
      "outputs": []
    },
    {
      "cell_type": "markdown",
      "source": [
        "### 6. Main Function"
      ],
      "metadata": {
        "id": "o-oQ7Mx2LC-1"
      }
    },
    {
      "cell_type": "code",
      "source": [
        "import os\n",
        "import time\n",
        "import argparse\n",
        "from os import path as osp\n",
        "from pathlib import Path\n",
        "from tqdm import tqdm\n",
        "import numpy as np\n",
        "import torch\n",
        "from torch.optim.lr_scheduler import ReduceLROnPlateau\n",
        "from torch.utils.data import DataLoader\n",
        "\n",
        "def get_model(mode, **kwargs):\n",
        "    global_input_channel = kwargs.get('input_channel')\n",
        "    global_output_channel = kwargs.get('output_channel')\n",
        "    global_dropout = kwargs.get('dropout')\n",
        "    global_batch_size = kwargs.get('batch_size')\n",
        "    global_test_batch_size = kwargs.get('test_batch_size')\n",
        "    global_device = kwargs.get('device')\n",
        "    global_layers = kwargs.get('layers')\n",
        "    global_layer_size = kwargs.get('layer_size')\n",
        "\n",
        "    if mode == 'train':\n",
        "        print(\"LSTM model\")\n",
        "        network = BilinearLSTMSeqNetwork(global_input_channel, global_output_channel, global_batch_size, global_device,\n",
        "                        lstm_size = global_layer_size, lstm_layers = global_layers, dropout = global_dropout).to(global_device)\n",
        "    elif mode == 'test':\n",
        "        print(\"LSTM model\")\n",
        "        network = BilinearLSTMSeqNetwork(global_input_channel, global_output_channel, global_test_batch_size, global_device,\n",
        "                        lstm_size = global_layer_size, lstm_layers = global_layers, dropout = global_dropout).to(global_device)\n",
        "    try:\n",
        "        pytorch_total_params = sum(p.numel() for p in network.parameters() if p.requires_grad)\n",
        "    except:\n",
        "        pytorch_total_params = 0\n",
        "    print('Network constructed. trainable parameters: {}'.format(pytorch_total_params))\n",
        "    return network\n",
        "\n",
        "def train(**kwargs):\n",
        "    # load config\n",
        "    global_data_dir = kwargs.get('data_dir')\n",
        "    global_val_data_dir = kwargs.get('val_data_dir')\n",
        "    global_batch_size = kwargs.get('batch_size')\n",
        "    global_epochs = kwargs.get('epochs')\n",
        "    global_num_workers = kwargs.get('num_workers')\n",
        "    global_device = kwargs.get('device')\n",
        "    global_out_dir = kwargs.get('out_dir', None)\n",
        "    global_learning_rate = kwargs.get('learning_rate')\n",
        "    global_save_interval = kwargs.get('save_interval')\n",
        "    global_sampling_rate = kwargs.get('sampling_rate')\n",
        "    # Loading data\n",
        "    start_t = time.time()\n",
        "    train_dataset = get_train_dataset(global_data_dir, **kwargs)\n",
        "    val_dataset = get_valid_dataset(global_val_data_dir, **kwargs)\n",
        "    train_loader = DataLoader(train_dataset, batch_size = global_batch_size, num_workers = global_num_workers, shuffle = True,\n",
        "                              drop_last = True)\n",
        "    val_loader = DataLoader(val_dataset, batch_size = global_batch_size, shuffle = True, drop_last = True)\n",
        "    end_t = time.time()\n",
        "    print('Training and validation set loaded. Time usage: {:.3f}s'.format(end_t - start_t))\n",
        "    # read val for sequence test\n",
        "    test_dirs = read_dir(global_val_data_dir)\n",
        "\n",
        "\n",
        "\n",
        "    global device\n",
        "    device = torch.device(global_device if torch.cuda.is_available() else 'cpu')\n",
        "    print(\"Device: {}\".format(device))\n",
        "\n",
        "    if global_out_dir:\n",
        "        if not osp.isdir(global_out_dir):\n",
        "            os.makedirs(global_out_dir)\n",
        "        if not osp.isdir(osp.join(global_out_dir, 'checkpoints')):\n",
        "            os.makedirs(osp.join(global_out_dir, 'checkpoints'))\n",
        "\n",
        "    print('\\nNumber of train samples: {}'.format(len(train_dataset)))\n",
        "    train_mini_batches = len(train_loader)\n",
        "    if val_dataset:\n",
        "        print('Number of val samples: {}'.format(len(val_dataset)))\n",
        "        val_mini_batches = len(val_loader)\n",
        "\n",
        "    network = get_model('train', **kwargs).to(device)\n",
        "    testnetwork = get_model('test', **kwargs).to(device)\n",
        "    criterion = GlobalPosLoss()\n",
        "\n",
        "    optimizer = torch.optim.Adam(network.parameters(), global_learning_rate)\n",
        "    scheduler = ReduceLROnPlateau(optimizer, 'min', patience = 10, factor = 0.75, verbose = True, eps = 1e-12)\n",
        "    quiet_mode = kwargs.get('quiet', False)\n",
        "    use_scheduler = kwargs.get('use_scheduler', True)\n",
        "\n",
        "    start_epoch = 0\n",
        "    step = 0\n",
        "    best_val_loss = np.inf\n",
        "    train_errs = np.zeros(global_epochs)\n",
        "\n",
        "    print(\"Starting from epoch {}\".format(start_epoch))\n",
        "    try:\n",
        "        for epoch in range(start_epoch, global_epochs):\n",
        "            log_line = ''\n",
        "            network.train()\n",
        "            train_vel = MSEAverage()\n",
        "            train_loss = 0\n",
        "            start_t = time.time()\n",
        "\n",
        "            for bid, batch in enumerate(tqdm(train_loader)):\n",
        "                feat, targ, _, _ = batch\n",
        "                feat, targ = feat.to(device), targ.to(device)\n",
        "                optimizer.zero_grad()\n",
        "                predicted = network(feat)\n",
        "                train_vel.add(predicted.cpu().detach().numpy(), targ.cpu().detach().numpy())\n",
        "                loss = criterion(predicted, targ)\n",
        "                train_loss += loss.cpu().detach().numpy()\n",
        "                loss.backward()\n",
        "                optimizer.step()\n",
        "                step += 1\n",
        "\n",
        "            train_errs[epoch] = train_loss / train_mini_batches\n",
        "            end_t = time.time()\n",
        "            if not quiet_mode:\n",
        "                print('-' * 25)\n",
        "                print('Epoch {}, time usage: {:.3f}s, loss: {}, vec_loss {}/{:.6f}'.format(\n",
        "                    epoch, end_t - start_t, train_errs[epoch], train_vel.get_channel_avg(), train_vel.get_total_avg()))\n",
        "\n",
        "            saved_model = False\n",
        "            if val_loader:\n",
        "                network.eval()\n",
        "                val_vel = MSEAverage()\n",
        "                val_loss = 0\n",
        "                for bid, batch in enumerate(val_loader):\n",
        "                    feat, targ, _, _ = batch\n",
        "                    feat, targ = feat.to(device), targ.to(device)\n",
        "                    optimizer.zero_grad()\n",
        "                    pred = network(feat)\n",
        "                    val_vel.add(pred.cpu().detach().numpy(), targ.cpu().detach().numpy())\n",
        "                    val_loss += criterion(pred, targ).cpu().detach().numpy()\n",
        "                val_loss = val_loss / val_mini_batches\n",
        "\n",
        "                if not quiet_mode:\n",
        "                    print('Validation loss: {} vec_loss: {}/{:.6f}'.format(val_loss, val_vel.get_channel_avg(),\n",
        "                                                                                val_vel.get_total_avg()))\n",
        "\n",
        "                if val_loss < best_val_loss:\n",
        "                    best_val_loss = val_loss\n",
        "                    saved_model = True\n",
        "                    if global_out_dir:\n",
        "                        model_path = osp.join(global_out_dir, 'checkpoints', 'checkpoint_%d.pt' % epoch)\n",
        "                        torch.save({'model_state_dict': network.state_dict(),\n",
        "                                    'epoch': epoch,\n",
        "                                    'loss': train_errs[epoch],\n",
        "                                    'optimizer_state_dict': optimizer.state_dict()}, model_path)\n",
        "                        print('Best Validation Model saved to ' + model_path)\n",
        "                if use_scheduler:\n",
        "                    scheduler.step(val_loss)\n",
        "\n",
        "            print(\"Reconstruct the validation trajectory and compute the ATE, RTE, PDE, and AYE\")\n",
        "            testnetwork.load_state_dict(network.state_dict())\n",
        "            network.eval().to(device)\n",
        "            ate_all, rte_all, pde_all = [], [], []\n",
        "            aye_all = []\n",
        "            # Every minute\n",
        "            pred_per_min = global_sampling_rate * 60 # 2 + 0.5*(x - 1) = 60\n",
        "            # Test for every sequence\n",
        "            for i in range(len(test_dirs)):\n",
        "            # for i in range(1):\n",
        "                seq_dir = [test_dirs[i]]\n",
        "                seq_dataset = get_valid_test_dataset(global_val_data_dir, seq_dir, **kwargs)\n",
        "                feat, targ = seq_dataset.get_lstm_test_seq()\n",
        "\n",
        "                feat = torch.from_numpy(feat).to(device)\n",
        "                pred = testnetwork(feat).cpu().detach().numpy()\n",
        "\n",
        "                pred = np.squeeze(pred, axis = 0)\n",
        "                targ = np.squeeze(targ, axis = 0)\n",
        "                # Reconstruct the trajectory\n",
        "                pos_pred = reconstruct_traj(pred, **kwargs)\n",
        "                pos_gt = reconstruct_traj(targ, **kwargs)\n",
        "\n",
        "                # Compute the ATE and RTE\n",
        "                ate = compute_absolute_trajectory_error(pos_pred, pos_gt)\n",
        "                rte = compute_relative_trajectory_error(pos_pred, pos_gt, delta = pred_per_min)\n",
        "                pde = compute_position_drift_error(pos_pred, pos_gt)\n",
        "                heading_error = compute_heading_error(pred, targ)\n",
        "                ate_all.append(ate)\n",
        "                if rte >= 0:\n",
        "                    rte_all.append(rte)\n",
        "                pde_all.append(pde)\n",
        "                aye_all.append(heading_error)\n",
        "\n",
        "            ate_all = np.array(ate_all)\n",
        "            rte_all = np.array(rte_all)\n",
        "            pde_all = np.array(pde_all)\n",
        "            aye_all = np.array(aye_all)\n",
        "\n",
        "            measure = format_string('ATE', 'RTE', 'PDE', 'AYE',  sep = '\\t')\n",
        "            values = format_string(np.mean(ate_all), np.mean(rte_all), np.mean(pde_all), np.mean(aye_all), sep = '\\t')\n",
        "            print(measure + '\\n' + values)\n",
        "\n",
        "            if global_out_dir and not saved_model and (epoch + 1) % global_save_interval == 0:  # save even with validation\n",
        "                model_path = osp.join(global_out_dir, 'checkpoints', 'icheckpoint_%d.pt' % epoch)\n",
        "                torch.save({'model_state_dict': network.state_dict(),\n",
        "                            'epoch': epoch,\n",
        "                            'loss': train_errs[epoch],\n",
        "                            'optimizer_state_dict': optimizer.state_dict()}, model_path)\n",
        "                print('Model saved to ' + model_path)\n",
        "\n",
        "            if np.isnan(train_loss):\n",
        "                print(\"Invalid value. Stopping training.\")\n",
        "                break\n",
        "    except KeyboardInterrupt:\n",
        "        print('-' * 60)\n",
        "        print('Early terminate')\n",
        "\n",
        "    print('Training completed')\n",
        "    if global_out_dir:\n",
        "        model_path = osp.join(global_out_dir, 'checkpoints', 'checkpoint_latest.pt')\n",
        "        torch.save({'model_state_dict': network.state_dict(),\n",
        "                    'epoch': epoch,\n",
        "                    'optimizer_state_dict': optimizer.state_dict()}, model_path)\n",
        "\n",
        "# Test and Save the Trajectory for Both Seen and Unseen Data\n",
        "seen_unseen_dataset = {'id1': 'tracermini_hw101_test20230311112635T',\n",
        "                'id2': 'tracermini_hw101_test20230311111507T',\n",
        "                'id3': 'tracermini_hw101_test20230311112235T',\n",
        "                'id4': 'tracermini_hw101_test20230313011357T',\n",
        "                'id5': 'tracermini_hw101_test20230311111842T',\n",
        "                'id6': 'tracermini_hw101_test20230313010954T',\n",
        "                'id7': 'tracermini_hw101_test20230313010546T',\n",
        "                'id8': 'tracermini_hw101_test20230313011731T',\n",
        "                'id9': 'tracermini_hw101_test20230313013335T',\n",
        "                'id10': 'tracermini_hw101_test20230311111027T',\n",
        "                'id11': 'tracermini_hw101_test20230313012956T',\n",
        "                'id12': 'tracermini_hw101_test20230313010204T',\n",
        "                'id13': 'tracermini_unseen_hw520230314091844T',\n",
        "                'id14': 'tracermini_unseen_cym20230314101001T',\n",
        "                'id15': 'tracermini_unseen_hw520230314082319T',\n",
        "                'id16': 'tracermini_unseen_cym20230314101636T',\n",
        "                'id17': 'tracermini_unseen_hw520230314083031T',\n",
        "                'id18': 'tracermini_unseen_hw520230314091110T',\n",
        "                'id19': 'tracermini_unseen_cym20230314100816T',\n",
        "                'id20': 'tracermini_unseen_cym20230314101230T',\n",
        "                'id21': 'tracermini_unseen_cym20230314100559T',\n",
        "                'id22': 'tracermini_unseen_hw520230314081212T',\n",
        "                'id23': 'tracermini_unseen_hw520230314082000T',\n",
        "                'id24': 'tracermini_unseen_hw520230314091603T',\n",
        "                'id25': 'tracermini_unseen_cym20230314100325T',\n",
        "                'id26': 'tracermini_unseen_cym20230314101434T',\n",
        "                'id27': 'tracermini_unseen_cym20230314100103T',\n",
        "                'id28': 'tracermini_unseen_hw520230314091338T',\n",
        "                'id29': 'tracermini_unseen_cym20230314101010T',\n",
        "                'id30': 'tracermini_unseen_cym20230314101850T',\n",
        "                'id31': 'tracermini_unseen_hw520230314081542T',\n",
        "                'id32': 'tracermini_unseen_hw520230314090739T'}\n",
        "seen_unseen_pred = {'id1': [],\n",
        "            'id2': [],\n",
        "            'id3': [],\n",
        "            'id4': [],\n",
        "            'id5': [],\n",
        "            'id6': [],\n",
        "            'id7': [],\n",
        "            'id8': [],\n",
        "            'id9': [],\n",
        "            'id10': [],\n",
        "            'id11': [],\n",
        "            'id12': [],\n",
        "            'id13': [],\n",
        "            'id14': [],\n",
        "            'id15': [],\n",
        "            'id16': [],\n",
        "            'id17': [],\n",
        "            'id18': [],\n",
        "            'id19': [],\n",
        "            'id20': [],\n",
        "            'id21': [],\n",
        "            'id22': [],\n",
        "            'id23': [],\n",
        "            'id24': [],\n",
        "            'id25': [],\n",
        "            'id26': [],\n",
        "            'id27': [],\n",
        "            'id28': [],\n",
        "            'id29': [],\n",
        "            'id30': [],\n",
        "            'id31': [],\n",
        "            'id32': []}\n",
        "def test_lstm(**kwargs):\n",
        "    # load config\n",
        "    global_dataset = kwargs.get('dataset')\n",
        "    global_model_type = kwargs.get('model_type')\n",
        "    global_num_workers = kwargs.get('num_workers')\n",
        "    global_sampling_rate = kwargs.get('sampling_rate')\n",
        "    global_device = kwargs.get('device')\n",
        "    global_out_dir = kwargs.get('out_dir', None)\n",
        "    global_test_dir = kwargs.get('test_dir', None)\n",
        "    global_out_dir = kwargs.get('out_dir', None)\n",
        "    global_model_path = kwargs.get('model_path', None)\n",
        "\n",
        "    global device\n",
        "    device = torch.device(global_device if torch.cuda.is_available() else 'cpu')\n",
        "\n",
        "    if global_test_dir is None:\n",
        "        raise ValueError('Test_path is needed.')\n",
        "\n",
        "    # read dirs\n",
        "    test_dirs = read_dir(global_test_dir)\n",
        "\n",
        "    # Make sure the test output dir exists\n",
        "    if global_out_dir and not osp.exists(global_out_dir):\n",
        "        os.makedirs(global_out_dir)\n",
        "    # Load the model config\n",
        "    if global_model_path is None:\n",
        "        raise ValueError('Model path is needed.')\n",
        "\n",
        "    checkpoint = torch.load(global_model_path, map_location=global_device)\n",
        "\n",
        "    network = get_model('test', **kwargs)\n",
        "    network.load_state_dict(checkpoint.get('model_state_dict'))\n",
        "    # network.load_state_dict(checkpoint.get('model_state_dict'))\n",
        "    print(\"The model is loaded.\")\n",
        "    network.eval().to(device)\n",
        "    print('Model {} loaded to device {}.'.format(global_model_path, device))\n",
        "\n",
        "    # Test for every sequence\n",
        "    for i in range(len(test_dirs)):\n",
        "    # for i in range(1):\n",
        "        seq_dir = [test_dirs[i]]\n",
        "        seq_dataset = get_test_dataset(global_test_dir, seq_dir, **kwargs)\n",
        "        feat = seq_dataset.get_lstm_test_seq()\n",
        "\n",
        "        feat = torch.from_numpy(feat).to(device)\n",
        "        pred = network(feat).cpu().detach().numpy()\n",
        "\n",
        "        pred = np.squeeze(pred, axis = 0)\n",
        "\n",
        "        # Reconstruct the trajectory\n",
        "        print(\"Reconstruct the {}\".format(seq_dir[0]))\n",
        "        pos_pred = reconstruct_traj(pred, **kwargs)\n",
        "\n",
        "        # Find the index of the sequence\n",
        "        for key, value in seen_unseen_dataset.items():\n",
        "            if value == seq_dir[0]:\n",
        "                index = key\n",
        "                seen_unseen_pred[index] = pos_pred\n",
        "\n",
        "        # # Make directory\n",
        "        # if global_out_dir and not osp.exists(osp.join(global_out_dir, seq_dir[0])):\n",
        "        #     os.makedirs(osp.join(global_out_dir, seq_dir[0]))\n",
        "        # # Save the trajectory\n",
        "        # np.save(osp.join(global_out_dir, seq_dir[0], 'pred.npy'), pos_pred)\n",
        "\n",
        "def test(**kwargs):\n",
        "    # Model type\n",
        "    print(\"Testing LSTM model\")\n",
        "    test_lstm(**kwargs)"
      ],
      "metadata": {
        "execution": {
          "iopub.status.busy": "2023-10-10T11:43:17.152100Z",
          "iopub.execute_input": "2023-10-10T11:43:17.152881Z",
          "iopub.status.idle": "2023-10-10T11:43:17.187872Z",
          "shell.execute_reply.started": "2023-10-10T11:43:17.152847Z",
          "shell.execute_reply": "2023-10-10T11:43:17.187008Z"
        },
        "trusted": true,
        "id": "Ps8_K-ddLC-1"
      },
      "execution_count": null,
      "outputs": []
    },
    {
      "cell_type": "markdown",
      "source": [
        "### 7. Training"
      ],
      "metadata": {
        "id": "r98BCXNvLC-1"
      }
    },
    {
      "cell_type": "code",
      "source": [
        "# Load config settings\n",
        "kwargs = load_config()\n",
        "import warnings\n",
        "# Suspend warnings\n",
        "warnings.filterwarnings('ignore')\n",
        "train(**kwargs)"
      ],
      "metadata": {
        "execution": {
          "iopub.status.busy": "2023-10-10T11:43:19.098234Z",
          "iopub.execute_input": "2023-10-10T11:43:19.098928Z",
          "iopub.status.idle": "2023-10-10T11:43:19.103422Z",
          "shell.execute_reply.started": "2023-10-10T11:43:19.098899Z",
          "shell.execute_reply": "2023-10-10T11:43:19.102358Z"
        },
        "trusted": true,
        "colab": {
          "base_uri": "https://localhost:8080/"
        },
        "id": "899APcS2LC-1",
        "outputId": "259a2fca-febd-4dde-d120-72b9c03bc59e"
      },
      "execution_count": null,
      "outputs": [
        {
          "output_type": "stream",
          "name": "stdout",
          "text": [
            "Training and validation set loaded. Time usage: 2.954s\n",
            "Device: cuda:0\n",
            "\n",
            "Number of train samples: 30993\n",
            "Number of val samples: 5436\n",
            "LSTM model\n",
            "Network constructed. trainable parameters: 444632\n",
            "LSTM model\n",
            "Network constructed. trainable parameters: 444632\n",
            "Starting from epoch 0\n"
          ]
        },
        {
          "output_type": "stream",
          "name": "stderr",
          "text": [
            "100%|██████████| 484/484 [00:14<00:00, 32.98it/s]\n"
          ]
        },
        {
          "output_type": "stream",
          "name": "stdout",
          "text": [
            "-------------------------\n",
            "Epoch 0, time usage: 14.677s, loss: 50007.518136521016, vec_loss [1.0504694 4.186765 ]/2.618617\n",
            "Validation loss: 4325.428405761719 vec_loss: [0.5009264 1.2236528]/0.862290\n",
            "Best Validation Model saved to /content/drive/MyDrive/ColabNotebooks/out/working/prediction_model/checkpoints/checkpoint_0.pt\n",
            "Reconstruct the validation trajectory and compute the ATE, RTE, PDE, and AYE\n",
            "ATE\tRTE\tPDE\tAYE\n",
            "10.199997\t5.02634258703752\t0.19289719\t106.88733290141172\n"
          ]
        },
        {
          "output_type": "stream",
          "name": "stderr",
          "text": [
            "100%|██████████| 484/484 [00:14<00:00, 33.03it/s]\n"
          ]
        },
        {
          "output_type": "stream",
          "name": "stdout",
          "text": [
            "-------------------------\n",
            "Epoch 1, time usage: 14.659s, loss: 4165.889948821265, vec_loss [0.47737652 0.98442745]/0.730902\n",
            "Validation loss: 3111.76511492048 vec_loss: [0.44671822 0.53194916]/0.489334\n",
            "Best Validation Model saved to /content/drive/MyDrive/ColabNotebooks/out/working/prediction_model/checkpoints/checkpoint_1.pt\n",
            "Reconstruct the validation trajectory and compute the ATE, RTE, PDE, and AYE\n",
            "ATE\tRTE\tPDE\tAYE\n",
            "6.2596254\t3.8892373821952124\t0.11400742\t102.75126031262859\n"
          ]
        },
        {
          "output_type": "stream",
          "name": "stderr",
          "text": [
            "100%|██████████| 484/484 [00:14<00:00, 33.06it/s]\n"
          ]
        },
        {
          "output_type": "stream",
          "name": "stdout",
          "text": [
            "-------------------------\n",
            "Epoch 2, time usage: 14.644s, loss: 3718.674800147695, vec_loss [0.44045594 0.57340455]/0.506930\n",
            "Validation loss: 3053.2745535714284 vec_loss: [0.34750816 0.49213514]/0.419822\n",
            "Best Validation Model saved to /content/drive/MyDrive/ColabNotebooks/out/working/prediction_model/checkpoints/checkpoint_2.pt\n",
            "Reconstruct the validation trajectory and compute the ATE, RTE, PDE, and AYE\n",
            "ATE\tRTE\tPDE\tAYE\n",
            "17.703836\t7.36112455888228\t0.315259\t98.55265796292028\n"
          ]
        },
        {
          "output_type": "stream",
          "name": "stderr",
          "text": [
            "100%|██████████| 484/484 [00:14<00:00, 33.03it/s]\n"
          ]
        },
        {
          "output_type": "stream",
          "name": "stdout",
          "text": [
            "-------------------------\n",
            "Epoch 3, time usage: 14.658s, loss: 3601.778373529103, vec_loss [0.45243388 0.5278861 ]/0.490160\n",
            "Validation loss: 2798.352106003534 vec_loss: [0.37701976 0.4689254 ]/0.422973\n",
            "Best Validation Model saved to /content/drive/MyDrive/ColabNotebooks/out/working/prediction_model/checkpoints/checkpoint_3.pt\n",
            "Reconstruct the validation trajectory and compute the ATE, RTE, PDE, and AYE\n",
            "ATE\tRTE\tPDE\tAYE\n",
            "10.246911\t4.729341680353338\t0.18592349\t99.98263568144847\n"
          ]
        },
        {
          "output_type": "stream",
          "name": "stderr",
          "text": [
            "100%|██████████| 484/484 [00:14<00:00, 32.68it/s]\n"
          ]
        },
        {
          "output_type": "stream",
          "name": "stdout",
          "text": [
            "-------------------------\n",
            "Epoch 4, time usage: 14.813s, loss: 3402.512205770193, vec_loss [0.40864328 0.49733943]/0.452991\n",
            "Validation loss: 3328.907004220145 vec_loss: [0.38202313 0.46371815]/0.422871\n",
            "Reconstruct the validation trajectory and compute the ATE, RTE, PDE, and AYE\n",
            "ATE\tRTE\tPDE\tAYE\n",
            "18.215122\t6.942073475230824\t0.33114558\t94.6786926416838\n"
          ]
        },
        {
          "output_type": "stream",
          "name": "stderr",
          "text": [
            "100%|██████████| 484/484 [00:14<00:00, 32.70it/s]\n"
          ]
        },
        {
          "output_type": "stream",
          "name": "stdout",
          "text": [
            "-------------------------\n",
            "Epoch 5, time usage: 14.805s, loss: 3328.446477464408, vec_loss [0.40590852 0.4630153 ]/0.434462\n",
            "Validation loss: 2664.5476582845054 vec_loss: [0.35810322 0.4284167 ]/0.393260\n",
            "Best Validation Model saved to /content/drive/MyDrive/ColabNotebooks/out/working/prediction_model/checkpoints/checkpoint_5.pt\n",
            "Reconstruct the validation trajectory and compute the ATE, RTE, PDE, and AYE\n",
            "ATE\tRTE\tPDE\tAYE\n",
            "4.2574153\t3.339162739840421\t0.061159\t102.02886721784108\n"
          ]
        },
        {
          "output_type": "stream",
          "name": "stderr",
          "text": [
            "100%|██████████| 484/484 [00:14<00:00, 32.78it/s]\n"
          ]
        },
        {
          "output_type": "stream",
          "name": "stdout",
          "text": [
            "-------------------------\n",
            "Epoch 6, time usage: 14.769s, loss: 3166.2102658610697, vec_loss [0.39188373 0.44534335]/0.418614\n",
            "Validation loss: 2792.5699448358446 vec_loss: [0.37598124 0.4545321 ]/0.415257\n",
            "Reconstruct the validation trajectory and compute the ATE, RTE, PDE, and AYE\n",
            "ATE\tRTE\tPDE\tAYE\n",
            "14.117291\t6.157823649319735\t0.24764414\t95.42502927506995\n"
          ]
        },
        {
          "output_type": "stream",
          "name": "stderr",
          "text": [
            "100%|██████████| 484/484 [00:14<00:00, 32.55it/s]\n"
          ]
        },
        {
          "output_type": "stream",
          "name": "stdout",
          "text": [
            "-------------------------\n",
            "Epoch 7, time usage: 14.872s, loss: 3094.791019408171, vec_loss [0.37084752 0.4425053 ]/0.406676\n",
            "Validation loss: 2812.23525710333 vec_loss: [0.3322365  0.43572557]/0.383981\n",
            "Reconstruct the validation trajectory and compute the ATE, RTE, PDE, and AYE\n",
            "ATE\tRTE\tPDE\tAYE\n",
            "11.372114\t4.520477793433449\t0.20611839\t103.44321249613796\n"
          ]
        },
        {
          "output_type": "stream",
          "name": "stderr",
          "text": [
            "100%|██████████| 484/484 [00:14<00:00, 32.49it/s]\n"
          ]
        },
        {
          "output_type": "stream",
          "name": "stdout",
          "text": [
            "-------------------------\n",
            "Epoch 8, time usage: 14.902s, loss: 2890.923400122272, vec_loss [0.3692386  0.41193536]/0.390587\n",
            "Validation loss: 2186.540975661505 vec_loss: [0.32236218 0.38713327]/0.354748\n",
            "Best Validation Model saved to /content/drive/MyDrive/ColabNotebooks/out/working/prediction_model/checkpoints/checkpoint_8.pt\n",
            "Reconstruct the validation trajectory and compute the ATE, RTE, PDE, and AYE\n",
            "ATE\tRTE\tPDE\tAYE\n",
            "7.0455403\t3.367032592946833\t0.12782049\t95.16783415538912\n"
          ]
        },
        {
          "output_type": "stream",
          "name": "stderr",
          "text": [
            "100%|██████████| 484/484 [00:14<00:00, 32.85it/s]\n"
          ]
        },
        {
          "output_type": "stream",
          "name": "stdout",
          "text": [
            "-------------------------\n",
            "Epoch 9, time usage: 14.738s, loss: 2705.365660738354, vec_loss [0.35791963 0.40431055]/0.381115\n",
            "Validation loss: 2380.085970924014 vec_loss: [0.31686988 0.41344076]/0.365155\n",
            "Reconstruct the validation trajectory and compute the ATE, RTE, PDE, and AYE\n",
            "ATE\tRTE\tPDE\tAYE\n",
            "9.544002\t4.116758823394775\t0.1724907\t88.56585899148256\n"
          ]
        },
        {
          "output_type": "stream",
          "name": "stderr",
          "text": [
            "100%|██████████| 484/484 [00:14<00:00, 32.85it/s]\n"
          ]
        },
        {
          "output_type": "stream",
          "name": "stdout",
          "text": [
            "-------------------------\n",
            "Epoch 10, time usage: 14.738s, loss: 2714.1371689473303, vec_loss [0.34389842 0.3821882 ]/0.363043\n",
            "Validation loss: 2130.641584123884 vec_loss: [0.311569  0.3721021]/0.341836\n",
            "Best Validation Model saved to /content/drive/MyDrive/ColabNotebooks/out/working/prediction_model/checkpoints/checkpoint_10.pt\n",
            "Reconstruct the validation trajectory and compute the ATE, RTE, PDE, and AYE\n",
            "ATE\tRTE\tPDE\tAYE\n",
            "6.44536\t3.4321188709952613\t0.10285056\t91.40836515798843\n"
          ]
        },
        {
          "output_type": "stream",
          "name": "stderr",
          "text": [
            "100%|██████████| 484/484 [00:14<00:00, 32.47it/s]\n"
          ]
        },
        {
          "output_type": "stream",
          "name": "stdout",
          "text": [
            "-------------------------\n",
            "Epoch 11, time usage: 14.911s, loss: 2424.7394706789128, vec_loss [0.3312936 0.3519505]/0.341622\n",
            "Validation loss: 2496.5476960681735 vec_loss: [0.26812723 0.33297688]/0.300552\n",
            "Reconstruct the validation trajectory and compute the ATE, RTE, PDE, and AYE\n",
            "ATE\tRTE\tPDE\tAYE\n",
            "14.225525\t5.640175255862149\t0.26123577\t86.3739755338183\n"
          ]
        },
        {
          "output_type": "stream",
          "name": "stderr",
          "text": [
            "100%|██████████| 484/484 [00:14<00:00, 32.67it/s]\n"
          ]
        },
        {
          "output_type": "stream",
          "name": "stdout",
          "text": [
            "-------------------------\n",
            "Epoch 12, time usage: 14.818s, loss: 2282.4271927510413, vec_loss [0.30190745 0.33255723]/0.317232\n",
            "Validation loss: 1919.3773629324776 vec_loss: [0.26623243 0.31747016]/0.291851\n",
            "Best Validation Model saved to /content/drive/MyDrive/ColabNotebooks/out/working/prediction_model/checkpoints/checkpoint_12.pt\n",
            "Reconstruct the validation trajectory and compute the ATE, RTE, PDE, and AYE\n",
            "ATE\tRTE\tPDE\tAYE\n",
            "7.899905\t3.4592760042710737\t0.1436395\t86.29732528817357\n"
          ]
        },
        {
          "output_type": "stream",
          "name": "stderr",
          "text": [
            "100%|██████████| 484/484 [00:14<00:00, 32.89it/s]\n"
          ]
        },
        {
          "output_type": "stream",
          "name": "stdout",
          "text": [
            "-------------------------\n",
            "Epoch 13, time usage: 14.721s, loss: 2169.878234484964, vec_loss [0.2805564  0.30504915]/0.292803\n",
            "Validation loss: 1731.252960931687 vec_loss: [0.23770866 0.2751673 ]/0.256438\n",
            "Best Validation Model saved to /content/drive/MyDrive/ColabNotebooks/out/working/prediction_model/checkpoints/checkpoint_13.pt\n",
            "Reconstruct the validation trajectory and compute the ATE, RTE, PDE, and AYE\n",
            "ATE\tRTE\tPDE\tAYE\n",
            "4.2460475\t2.6048381328582764\t0.065472804\t84.18159781882865\n"
          ]
        },
        {
          "output_type": "stream",
          "name": "stderr",
          "text": [
            "100%|██████████| 484/484 [00:14<00:00, 32.93it/s]\n"
          ]
        },
        {
          "output_type": "stream",
          "name": "stdout",
          "text": [
            "-------------------------\n",
            "Epoch 14, time usage: 14.702s, loss: 1923.5876588427332, vec_loss [0.2577121  0.28777447]/0.272743\n",
            "Validation loss: 1857.4058452787854 vec_loss: [0.19697574 0.24427216]/0.220624\n",
            "Reconstruct the validation trajectory and compute the ATE, RTE, PDE, and AYE\n",
            "ATE\tRTE\tPDE\tAYE\n",
            "5.3173733\t2.7516028881073\t0.08348629\t80.36892661520388\n"
          ]
        },
        {
          "output_type": "stream",
          "name": "stderr",
          "text": [
            "100%|██████████| 484/484 [00:14<00:00, 32.95it/s]\n"
          ]
        },
        {
          "output_type": "stream",
          "name": "stdout",
          "text": [
            "-------------------------\n",
            "Epoch 15, time usage: 14.692s, loss: 1950.5270644258862, vec_loss [0.24974652 0.25582653]/0.252787\n",
            "Validation loss: 1967.4829980759393 vec_loss: [0.21686558 0.24441001]/0.230638\n",
            "Reconstruct the validation trajectory and compute the ATE, RTE, PDE, and AYE\n",
            "ATE\tRTE\tPDE\tAYE\n",
            "12.43128\t4.5214786963029345\t0.2245284\t83.61846921232863\n"
          ]
        },
        {
          "output_type": "stream",
          "name": "stderr",
          "text": [
            "100%|██████████| 484/484 [00:14<00:00, 32.82it/s]\n"
          ]
        },
        {
          "output_type": "stream",
          "name": "stdout",
          "text": [
            "-------------------------\n",
            "Epoch 16, time usage: 14.753s, loss: 1749.9599937249807, vec_loss [0.2197718  0.25108427]/0.235428\n",
            "Validation loss: 2121.834729875837 vec_loss: [0.1753638  0.23254576]/0.203955\n",
            "Reconstruct the validation trajectory and compute the ATE, RTE, PDE, and AYE\n",
            "ATE\tRTE\tPDE\tAYE\n",
            "9.257331\t3.7047910473563452\t0.16101354\t80.5558434348093\n"
          ]
        },
        {
          "output_type": "stream",
          "name": "stderr",
          "text": [
            "100%|██████████| 484/484 [00:14<00:00, 33.13it/s]\n"
          ]
        },
        {
          "output_type": "stream",
          "name": "stdout",
          "text": [
            "-------------------------\n",
            "Epoch 17, time usage: 14.613s, loss: 1711.0261844603483, vec_loss [0.1977189  0.22395916]/0.210839\n",
            "Validation loss: 1435.7273130871001 vec_loss: [0.16765893 0.2029797 ]/0.185319\n",
            "Best Validation Model saved to /content/drive/MyDrive/ColabNotebooks/out/working/prediction_model/checkpoints/checkpoint_17.pt\n",
            "Reconstruct the validation trajectory and compute the ATE, RTE, PDE, and AYE\n",
            "ATE\tRTE\tPDE\tAYE\n",
            "4.0962915\t2.202175422148271\t0.06375589\t74.2813745997523\n"
          ]
        },
        {
          "output_type": "stream",
          "name": "stderr",
          "text": [
            "100%|██████████| 484/484 [00:14<00:00, 33.44it/s]\n"
          ]
        },
        {
          "output_type": "stream",
          "name": "stdout",
          "text": [
            "-------------------------\n",
            "Epoch 18, time usage: 14.479s, loss: 1588.4119081103113, vec_loss [0.1959983  0.21064423]/0.203321\n",
            "Validation loss: 1683.0390959240142 vec_loss: [0.16454962 0.20636004]/0.185455\n",
            "Reconstruct the validation trajectory and compute the ATE, RTE, PDE, and AYE\n",
            "ATE\tRTE\tPDE\tAYE\n",
            "7.219496\t2.867186264558272\t0.136255\t78.20055887792569\n"
          ]
        },
        {
          "output_type": "stream",
          "name": "stderr",
          "text": [
            "100%|██████████| 484/484 [00:14<00:00, 33.07it/s]\n"
          ]
        },
        {
          "output_type": "stream",
          "name": "stdout",
          "text": [
            "-------------------------\n",
            "Epoch 19, time usage: 14.642s, loss: 1567.4630570214642, vec_loss [0.18457296 0.21225865]/0.198416\n",
            "Validation loss: 1541.4254397437685 vec_loss: [0.16187195 0.20508528]/0.183479\n",
            "Reconstruct the validation trajectory and compute the ATE, RTE, PDE, and AYE\n",
            "ATE\tRTE\tPDE\tAYE\n",
            "6.868414\t2.868905717676336\t0.12763992\t76.01896913626695\n",
            "Model saved to /content/drive/MyDrive/ColabNotebooks/out/working/prediction_model/checkpoints/icheckpoint_19.pt\n"
          ]
        },
        {
          "output_type": "stream",
          "name": "stderr",
          "text": [
            "100%|██████████| 484/484 [00:14<00:00, 33.12it/s]\n"
          ]
        },
        {
          "output_type": "stream",
          "name": "stdout",
          "text": [
            "-------------------------\n",
            "Epoch 20, time usage: 14.618s, loss: 1470.6995126393215, vec_loss [0.18435708 0.20652632]/0.195442\n",
            "Validation loss: 1464.3265497116815 vec_loss: [0.15838711 0.21768697]/0.188037\n",
            "Reconstruct the validation trajectory and compute the ATE, RTE, PDE, and AYE\n",
            "ATE\tRTE\tPDE\tAYE\n",
            "5.017776\t2.2073594981973823\t0.09134147\t77.93455778162583\n"
          ]
        },
        {
          "output_type": "stream",
          "name": "stderr",
          "text": [
            "100%|██████████| 484/484 [00:14<00:00, 33.40it/s]\n"
          ]
        },
        {
          "output_type": "stream",
          "name": "stdout",
          "text": [
            "-------------------------\n",
            "Epoch 21, time usage: 14.493s, loss: 1425.8609173356995, vec_loss [0.1827559  0.19573136]/0.189244\n",
            "Validation loss: 1499.1587742396764 vec_loss: [0.15589727 0.17604563]/0.165971\n",
            "Reconstruct the validation trajectory and compute the ATE, RTE, PDE, and AYE\n",
            "ATE\tRTE\tPDE\tAYE\n",
            "7.7375903\t3.168663740158081\t0.14744371\t69.43460778837726\n"
          ]
        },
        {
          "output_type": "stream",
          "name": "stderr",
          "text": [
            "100%|██████████| 484/484 [00:14<00:00, 33.05it/s]\n"
          ]
        },
        {
          "output_type": "stream",
          "name": "stdout",
          "text": [
            "-------------------------\n",
            "Epoch 22, time usage: 14.650s, loss: 1425.1663250883748, vec_loss [0.17207876 0.18254268]/0.177311\n",
            "Validation loss: 1565.7552751813616 vec_loss: [0.13363841 0.15525167]/0.144445\n",
            "Reconstruct the validation trajectory and compute the ATE, RTE, PDE, and AYE\n",
            "ATE\tRTE\tPDE\tAYE\n",
            "7.522224\t3.3214738260615957\t0.14224829\t68.51581446678489\n"
          ]
        },
        {
          "output_type": "stream",
          "name": "stderr",
          "text": [
            "100%|██████████| 484/484 [00:14<00:00, 33.06it/s]\n"
          ]
        },
        {
          "output_type": "stream",
          "name": "stdout",
          "text": [
            "-------------------------\n",
            "Epoch 23, time usage: 14.645s, loss: 1258.5143903621956, vec_loss [0.15600796 0.16566354]/0.160836\n",
            "Validation loss: 1610.1364382789247 vec_loss: [0.12598187 0.16842358]/0.147203\n",
            "Reconstruct the validation trajectory and compute the ATE, RTE, PDE, and AYE\n",
            "ATE\tRTE\tPDE\tAYE\n",
            "11.1630335\t4.060256567868319\t0.20692936\t72.36962079514922\n"
          ]
        },
        {
          "output_type": "stream",
          "name": "stderr",
          "text": [
            "100%|██████████| 484/484 [00:14<00:00, 33.20it/s]\n"
          ]
        },
        {
          "output_type": "stream",
          "name": "stdout",
          "text": [
            "-------------------------\n",
            "Epoch 24, time usage: 14.586s, loss: 1152.6412146702285, vec_loss [0.14750345 0.16351733]/0.155510\n",
            "Validation loss: 1391.0062284923736 vec_loss: [0.12594184 0.15267295]/0.139307\n",
            "Best Validation Model saved to /content/drive/MyDrive/ColabNotebooks/out/working/prediction_model/checkpoints/checkpoint_24.pt\n",
            "Reconstruct the validation trajectory and compute the ATE, RTE, PDE, and AYE\n",
            "ATE\tRTE\tPDE\tAYE\n",
            "3.7849982\t2.052733703093095\t0.07026095\t69.36273805422526\n"
          ]
        },
        {
          "output_type": "stream",
          "name": "stderr",
          "text": [
            "100%|██████████| 484/484 [00:14<00:00, 32.93it/s]\n"
          ]
        },
        {
          "output_type": "stream",
          "name": "stdout",
          "text": [
            "-------------------------\n",
            "Epoch 25, time usage: 14.703s, loss: 1207.574598769511, vec_loss [0.14386727 0.15553886]/0.149703\n",
            "Validation loss: 1467.995767139253 vec_loss: [0.11367573 0.15730931]/0.135493\n",
            "Reconstruct the validation trajectory and compute the ATE, RTE, PDE, and AYE\n",
            "ATE\tRTE\tPDE\tAYE\n",
            "6.7380934\t2.9158553210171787\t0.11951792\t68.60346814718253\n"
          ]
        },
        {
          "output_type": "stream",
          "name": "stderr",
          "text": [
            "100%|██████████| 484/484 [00:14<00:00, 32.97it/s]\n"
          ]
        },
        {
          "output_type": "stream",
          "name": "stdout",
          "text": [
            "-------------------------\n",
            "Epoch 26, time usage: 14.685s, loss: 1124.1861667475425, vec_loss [0.1384139  0.14462939]/0.141522\n",
            "Validation loss: 1328.8613070533388 vec_loss: [0.11926911 0.15342876]/0.136349\n",
            "Best Validation Model saved to /content/drive/MyDrive/ColabNotebooks/out/working/prediction_model/checkpoints/checkpoint_26.pt\n",
            "Reconstruct the validation trajectory and compute the ATE, RTE, PDE, and AYE\n",
            "ATE\tRTE\tPDE\tAYE\n",
            "2.747391\t1.727595481005582\t0.03726918\t66.86954390595733\n"
          ]
        },
        {
          "output_type": "stream",
          "name": "stderr",
          "text": [
            "100%|██████████| 484/484 [00:14<00:00, 33.17it/s]\n"
          ]
        },
        {
          "output_type": "stream",
          "name": "stdout",
          "text": [
            "-------------------------\n",
            "Epoch 27, time usage: 14.594s, loss: 1090.5798303903628, vec_loss [0.13017133 0.13055797]/0.130365\n",
            "Validation loss: 1674.4327559698195 vec_loss: [0.1410348  0.14494017]/0.142987\n",
            "Reconstruct the validation trajectory and compute the ATE, RTE, PDE, and AYE\n",
            "ATE\tRTE\tPDE\tAYE\n",
            "7.3207073\t3.2130624814466997\t0.13407947\t66.63540781537758\n"
          ]
        },
        {
          "output_type": "stream",
          "name": "stderr",
          "text": [
            "100%|██████████| 484/484 [00:14<00:00, 33.05it/s]\n"
          ]
        },
        {
          "output_type": "stream",
          "name": "stdout",
          "text": [
            "-------------------------\n",
            "Epoch 28, time usage: 14.648s, loss: 1109.7798724213908, vec_loss [0.13195957 0.13262948]/0.132295\n",
            "Validation loss: 1233.5104094005767 vec_loss: [0.10524491 0.11504763]/0.110146\n",
            "Best Validation Model saved to /content/drive/MyDrive/ColabNotebooks/out/working/prediction_model/checkpoints/checkpoint_28.pt\n",
            "Reconstruct the validation trajectory and compute the ATE, RTE, PDE, and AYE\n",
            "ATE\tRTE\tPDE\tAYE\n",
            "2.3332632\t1.5470689210024746\t0.04145598\t62.790045463606255\n"
          ]
        },
        {
          "output_type": "stream",
          "name": "stderr",
          "text": [
            "100%|██████████| 484/484 [00:14<00:00, 33.07it/s]\n"
          ]
        },
        {
          "output_type": "stream",
          "name": "stdout",
          "text": [
            "-------------------------\n",
            "Epoch 29, time usage: 14.638s, loss: 1070.3141483275358, vec_loss [0.12206616 0.12395356]/0.123010\n",
            "Validation loss: 1444.6978018624443 vec_loss: [0.11946786 0.15305454]/0.136261\n",
            "Reconstruct the validation trajectory and compute the ATE, RTE, PDE, and AYE\n",
            "ATE\tRTE\tPDE\tAYE\n",
            "3.577706\t1.8562686118212612\t0.064805515\t67.0046077921629\n"
          ]
        },
        {
          "output_type": "stream",
          "name": "stderr",
          "text": [
            "100%|██████████| 484/484 [00:14<00:00, 33.07it/s]\n"
          ]
        },
        {
          "output_type": "stream",
          "name": "stdout",
          "text": [
            "-------------------------\n",
            "Epoch 30, time usage: 14.642s, loss: 1223.7466156384176, vec_loss [0.12469247 0.13393274]/0.129313\n",
            "Validation loss: 1342.5996148245674 vec_loss: [0.09530225 0.12589301]/0.110598\n",
            "Reconstruct the validation trajectory and compute the ATE, RTE, PDE, and AYE\n",
            "ATE\tRTE\tPDE\tAYE\n",
            "3.2548647\t1.7270260778340427\t0.054565456\t64.81392644779255\n"
          ]
        },
        {
          "output_type": "stream",
          "name": "stderr",
          "text": [
            "100%|██████████| 484/484 [00:14<00:00, 33.33it/s]\n"
          ]
        },
        {
          "output_type": "stream",
          "name": "stdout",
          "text": [
            "-------------------------\n",
            "Epoch 31, time usage: 14.524s, loss: 1069.7067500343007, vec_loss [0.11501898 0.12139634]/0.118208\n",
            "Validation loss: 1219.2584649948847 vec_loss: [0.09737814 0.10717736]/0.102278\n",
            "Best Validation Model saved to /content/drive/MyDrive/ColabNotebooks/out/working/prediction_model/checkpoints/checkpoint_31.pt\n",
            "Reconstruct the validation trajectory and compute the ATE, RTE, PDE, and AYE\n",
            "ATE\tRTE\tPDE\tAYE\n",
            "2.882226\t1.749811215834184\t0.049535338\t62.95766389417495\n"
          ]
        },
        {
          "output_type": "stream",
          "name": "stderr",
          "text": [
            "100%|██████████| 484/484 [00:14<00:00, 32.99it/s]\n"
          ]
        },
        {
          "output_type": "stream",
          "name": "stdout",
          "text": [
            "-------------------------\n",
            "Epoch 32, time usage: 14.676s, loss: 978.8273934608649, vec_loss [0.11307865 0.11206884]/0.112574\n",
            "Validation loss: 1282.8181413922991 vec_loss: [0.09516993 0.12191753]/0.108544\n",
            "Reconstruct the validation trajectory and compute the ATE, RTE, PDE, and AYE\n",
            "ATE\tRTE\tPDE\tAYE\n",
            "3.762709\t1.7896878719329834\t0.06247097\t64.83893114941769\n"
          ]
        },
        {
          "output_type": "stream",
          "name": "stderr",
          "text": [
            "100%|██████████| 484/484 [00:14<00:00, 33.01it/s]\n"
          ]
        },
        {
          "output_type": "stream",
          "name": "stdout",
          "text": [
            "-------------------------\n",
            "Epoch 33, time usage: 14.670s, loss: 919.0602791526101, vec_loss [0.10392107 0.10287021]/0.103396\n",
            "Validation loss: 1253.123758951823 vec_loss: [0.08730622 0.1118313 ]/0.099569\n",
            "Reconstruct the validation trajectory and compute the ATE, RTE, PDE, and AYE\n",
            "ATE\tRTE\tPDE\tAYE\n",
            "5.6548233\t2.4242129759355024\t0.10689595\t59.33388095112059\n"
          ]
        },
        {
          "output_type": "stream",
          "name": "stderr",
          "text": [
            "100%|██████████| 484/484 [00:14<00:00, 32.82it/s]\n"
          ]
        },
        {
          "output_type": "stream",
          "name": "stdout",
          "text": [
            "-------------------------\n",
            "Epoch 34, time usage: 14.753s, loss: 864.1886973735715, vec_loss [0.09691923 0.09796732]/0.097443\n",
            "Validation loss: 1356.843970889137 vec_loss: [0.09039958 0.11653575]/0.103468\n",
            "Reconstruct the validation trajectory and compute the ATE, RTE, PDE, and AYE\n",
            "ATE\tRTE\tPDE\tAYE\n",
            "3.3285384\t1.7162868597290732\t0.055488203\t63.24832228384172\n"
          ]
        },
        {
          "output_type": "stream",
          "name": "stderr",
          "text": [
            "100%|██████████| 484/484 [00:14<00:00, 32.97it/s]\n"
          ]
        },
        {
          "output_type": "stream",
          "name": "stdout",
          "text": [
            "-------------------------\n",
            "Epoch 35, time usage: 14.684s, loss: 875.0576783487619, vec_loss [0.09774575 0.09647536]/0.097111\n",
            "Validation loss: 1526.9017355782646 vec_loss: [0.11764383 0.12620725]/0.121926\n",
            "Reconstruct the validation trajectory and compute the ATE, RTE, PDE, and AYE\n",
            "ATE\tRTE\tPDE\tAYE\n",
            "3.3472962\t1.8369903781197288\t0.05959365\t62.41019132310517\n"
          ]
        },
        {
          "output_type": "stream",
          "name": "stderr",
          "text": [
            "100%|██████████| 484/484 [00:14<00:00, 33.03it/s]\n"
          ]
        },
        {
          "output_type": "stream",
          "name": "stdout",
          "text": [
            "-------------------------\n",
            "Epoch 36, time usage: 14.658s, loss: 930.1517826427113, vec_loss [0.10252184 0.09429499]/0.098408\n",
            "Validation loss: 1287.7389631725493 vec_loss: [0.08211844 0.10100148]/0.091560\n",
            "Reconstruct the validation trajectory and compute the ATE, RTE, PDE, and AYE\n",
            "ATE\tRTE\tPDE\tAYE\n",
            "3.7314575\t1.796267032623291\t0.06644969\t55.748534276694166\n"
          ]
        },
        {
          "output_type": "stream",
          "name": "stderr",
          "text": [
            "100%|██████████| 484/484 [00:14<00:00, 33.20it/s]\n"
          ]
        },
        {
          "output_type": "stream",
          "name": "stdout",
          "text": [
            "-------------------------\n",
            "Epoch 37, time usage: 14.583s, loss: 948.1245249598479, vec_loss [0.10638902 0.09574123]/0.101065\n",
            "Validation loss: 1146.0249949863978 vec_loss: [0.09965082 0.11366703]/0.106659\n",
            "Best Validation Model saved to /content/drive/MyDrive/ColabNotebooks/out/working/prediction_model/checkpoints/checkpoint_37.pt\n",
            "Reconstruct the validation trajectory and compute the ATE, RTE, PDE, and AYE\n",
            "ATE\tRTE\tPDE\tAYE\n",
            "6.2287307\t2.472135836427862\t0.115358956\t58.148189294741925\n"
          ]
        },
        {
          "output_type": "stream",
          "name": "stderr",
          "text": [
            "100%|██████████| 484/484 [00:14<00:00, 33.12it/s]\n"
          ]
        },
        {
          "output_type": "stream",
          "name": "stdout",
          "text": [
            "-------------------------\n",
            "Epoch 38, time usage: 14.619s, loss: 835.6633967880375, vec_loss [0.09533805 0.08698195]/0.091160\n",
            "Validation loss: 1116.494719369071 vec_loss: [0.07612471 0.08648939]/0.081307\n",
            "Best Validation Model saved to /content/drive/MyDrive/ColabNotebooks/out/working/prediction_model/checkpoints/checkpoint_38.pt\n",
            "Reconstruct the validation trajectory and compute the ATE, RTE, PDE, and AYE\n",
            "ATE\tRTE\tPDE\tAYE\n",
            "4.0556827\t1.9047261801632969\t0.07563442\t55.177403172192044\n"
          ]
        },
        {
          "output_type": "stream",
          "name": "stderr",
          "text": [
            "100%|██████████| 484/484 [00:14<00:00, 33.11it/s]\n"
          ]
        },
        {
          "output_type": "stream",
          "name": "stdout",
          "text": [
            "-------------------------\n",
            "Epoch 39, time usage: 14.621s, loss: 856.6394477402869, vec_loss [0.09940103 0.09020042]/0.094801\n",
            "Validation loss: 1120.1270494006928 vec_loss: [0.07727743 0.08468534]/0.080981\n",
            "Reconstruct the validation trajectory and compute the ATE, RTE, PDE, and AYE\n",
            "ATE\tRTE\tPDE\tAYE\n",
            "5.2054715\t2.143124894662337\t0.097801924\t54.49275742831572\n",
            "Model saved to /content/drive/MyDrive/ColabNotebooks/out/working/prediction_model/checkpoints/icheckpoint_39.pt\n"
          ]
        },
        {
          "output_type": "stream",
          "name": "stderr",
          "text": [
            "100%|██████████| 484/484 [00:14<00:00, 33.09it/s]\n"
          ]
        },
        {
          "output_type": "stream",
          "name": "stdout",
          "text": [
            "-------------------------\n",
            "Epoch 40, time usage: 14.632s, loss: 789.6546639056245, vec_loss [0.09327026 0.09129913]/0.092285\n",
            "Validation loss: 1355.8513394310362 vec_loss: [0.08270863 0.11535034]/0.099029\n",
            "Reconstruct the validation trajectory and compute the ATE, RTE, PDE, and AYE\n",
            "ATE\tRTE\tPDE\tAYE\n",
            "3.6361268\t1.7362412214279175\t0.065682426\t59.37383010664971\n"
          ]
        },
        {
          "output_type": "stream",
          "name": "stderr",
          "text": [
            "100%|██████████| 484/484 [00:14<00:00, 32.96it/s]\n"
          ]
        },
        {
          "output_type": "stream",
          "name": "stdout",
          "text": [
            "-------------------------\n",
            "Epoch 41, time usage: 14.690s, loss: 777.0437309958718, vec_loss [0.09579613 0.0942764 ]/0.095036\n",
            "Validation loss: 1251.8736397879463 vec_loss: [0.09074189 0.10550857]/0.098125\n",
            "Reconstruct the validation trajectory and compute the ATE, RTE, PDE, and AYE\n",
            "ATE\tRTE\tPDE\tAYE\n",
            "3.898394\t1.838898859240792\t0.07606738\t54.874501668438036\n"
          ]
        },
        {
          "output_type": "stream",
          "name": "stderr",
          "text": [
            "100%|██████████| 484/484 [00:14<00:00, 32.66it/s]\n"
          ]
        },
        {
          "output_type": "stream",
          "name": "stdout",
          "text": [
            "-------------------------\n",
            "Epoch 42, time usage: 14.824s, loss: 753.8204094122264, vec_loss [0.09188994 0.09262647]/0.092258\n",
            "Validation loss: 1146.3309100923084 vec_loss: [0.09609292 0.11452159]/0.105307\n",
            "Reconstruct the validation trajectory and compute the ATE, RTE, PDE, and AYE\n",
            "ATE\tRTE\tPDE\tAYE\n",
            "5.134627\t2.2390385541048916\t0.09041072\t57.623770164436635\n"
          ]
        },
        {
          "output_type": "stream",
          "name": "stderr",
          "text": [
            "100%|██████████| 484/484 [00:14<00:00, 32.91it/s]\n"
          ]
        },
        {
          "output_type": "stream",
          "name": "stdout",
          "text": [
            "-------------------------\n",
            "Epoch 43, time usage: 14.711s, loss: 991.4384858312685, vec_loss [0.10571153 0.0995933 ]/0.102652\n",
            "Validation loss: 1146.7824260166713 vec_loss: [0.08375131 0.11004554]/0.096898\n",
            "Reconstruct the validation trajectory and compute the ATE, RTE, PDE, and AYE\n",
            "ATE\tRTE\tPDE\tAYE\n",
            "2.5759747\t1.5499261942776767\t0.047047183\t58.10598183030268\n"
          ]
        },
        {
          "output_type": "stream",
          "name": "stderr",
          "text": [
            "100%|██████████| 484/484 [00:14<00:00, 33.20it/s]\n"
          ]
        },
        {
          "output_type": "stream",
          "name": "stdout",
          "text": [
            "-------------------------\n",
            "Epoch 44, time usage: 14.582s, loss: 764.8711236370497, vec_loss [0.09877631 0.09298496]/0.095881\n",
            "Validation loss: 1136.8098126366026 vec_loss: [0.08662387 0.11604623]/0.101335\n",
            "Reconstruct the validation trajectory and compute the ATE, RTE, PDE, and AYE\n",
            "ATE\tRTE\tPDE\tAYE\n",
            "2.3837478\t1.4677666208960793\t0.044710115\t55.77938655163826\n"
          ]
        },
        {
          "output_type": "stream",
          "name": "stderr",
          "text": [
            "100%|██████████| 484/484 [00:14<00:00, 33.26it/s]\n"
          ]
        },
        {
          "output_type": "stream",
          "name": "stdout",
          "text": [
            "-------------------------\n",
            "Epoch 45, time usage: 14.554s, loss: 672.0072668406589, vec_loss [0.09114104 0.0879081 ]/0.089525\n",
            "Validation loss: 1068.4422985258557 vec_loss: [0.09650024 0.11596538]/0.106233\n",
            "Best Validation Model saved to /content/drive/MyDrive/ColabNotebooks/out/working/prediction_model/checkpoints/checkpoint_45.pt\n",
            "Reconstruct the validation trajectory and compute the ATE, RTE, PDE, and AYE\n",
            "ATE\tRTE\tPDE\tAYE\n",
            "2.730744\t1.6120697476647117\t0.052433822\t59.97708359081842\n"
          ]
        },
        {
          "output_type": "stream",
          "name": "stderr",
          "text": [
            "100%|██████████| 484/484 [00:14<00:00, 33.08it/s]\n"
          ]
        },
        {
          "output_type": "stream",
          "name": "stdout",
          "text": [
            "-------------------------\n",
            "Epoch 46, time usage: 14.634s, loss: 783.14887086222, vec_loss [0.09614489 0.09394471]/0.095045\n",
            "Validation loss: 1470.855977376302 vec_loss: [0.10450085 0.1445813 ]/0.124541\n",
            "Reconstruct the validation trajectory and compute the ATE, RTE, PDE, and AYE\n",
            "ATE\tRTE\tPDE\tAYE\n",
            "5.894196\t2.333814577622847\t0.10511134\t65.44894403715956\n"
          ]
        },
        {
          "output_type": "stream",
          "name": "stderr",
          "text": [
            "100%|██████████| 484/484 [00:14<00:00, 33.21it/s]\n"
          ]
        },
        {
          "output_type": "stream",
          "name": "stdout",
          "text": [
            "-------------------------\n",
            "Epoch 47, time usage: 14.577s, loss: 773.7660352848778, vec_loss [0.10057487 0.09369539]/0.097135\n",
            "Validation loss: 1081.272357395717 vec_loss: [0.08363632 0.0845608 ]/0.084099\n",
            "Reconstruct the validation trajectory and compute the ATE, RTE, PDE, and AYE\n",
            "ATE\tRTE\tPDE\tAYE\n",
            "4.615335\t2.141470432281494\t0.08356163\t56.935665550672\n"
          ]
        },
        {
          "output_type": "stream",
          "name": "stderr",
          "text": [
            "100%|██████████| 484/484 [00:14<00:00, 33.34it/s]\n"
          ]
        },
        {
          "output_type": "stream",
          "name": "stdout",
          "text": [
            "-------------------------\n",
            "Epoch 48, time usage: 14.523s, loss: 640.5970153178065, vec_loss [0.09476463 0.08955441]/0.092160\n",
            "Validation loss: 1123.162081037249 vec_loss: [0.08133116 0.10080853]/0.091070\n",
            "Reconstruct the validation trajectory and compute the ATE, RTE, PDE, and AYE\n",
            "ATE\tRTE\tPDE\tAYE\n",
            "3.252395\t1.6316818324002353\t0.06031884\t52.79116419798993\n"
          ]
        },
        {
          "output_type": "stream",
          "name": "stderr",
          "text": [
            "100%|██████████| 484/484 [00:14<00:00, 33.35it/s]\n"
          ]
        },
        {
          "output_type": "stream",
          "name": "stdout",
          "text": [
            "-------------------------\n",
            "Epoch 49, time usage: 14.518s, loss: 617.6341147304566, vec_loss [0.0963918  0.08605756]/0.091225\n",
            "Validation loss: 959.9718678792318 vec_loss: [0.06667899 0.0824271 ]/0.074553\n",
            "Best Validation Model saved to /content/drive/MyDrive/ColabNotebooks/out/working/prediction_model/checkpoints/checkpoint_49.pt\n",
            "Reconstruct the validation trajectory and compute the ATE, RTE, PDE, and AYE\n",
            "ATE\tRTE\tPDE\tAYE\n",
            "1.8365573\t1.324116517197002\t0.02935211\t55.28376970813665\n"
          ]
        },
        {
          "output_type": "stream",
          "name": "stderr",
          "text": [
            "100%|██████████| 484/484 [00:14<00:00, 33.37it/s]\n"
          ]
        },
        {
          "output_type": "stream",
          "name": "stdout",
          "text": [
            "-------------------------\n",
            "Epoch 50, time usage: 14.508s, loss: 769.8420651018128, vec_loss [0.09604388 0.09458595]/0.095315\n",
            "Validation loss: 1008.4652619134812 vec_loss: [0.08234868 0.09559306]/0.088971\n",
            "Reconstruct the validation trajectory and compute the ATE, RTE, PDE, and AYE\n",
            "ATE\tRTE\tPDE\tAYE\n",
            "4.154057\t1.8586015809666028\t0.07789269\t51.610621262392876\n"
          ]
        },
        {
          "output_type": "stream",
          "name": "stderr",
          "text": [
            "100%|██████████| 484/484 [00:14<00:00, 33.53it/s]\n"
          ]
        },
        {
          "output_type": "stream",
          "name": "stdout",
          "text": [
            "-------------------------\n",
            "Epoch 51, time usage: 14.440s, loss: 794.0698493768361, vec_loss [0.10011626 0.09239206]/0.096254\n",
            "Validation loss: 1048.064095996675 vec_loss: [0.08075721 0.09329097]/0.087024\n",
            "Reconstruct the validation trajectory and compute the ATE, RTE, PDE, and AYE\n",
            "ATE\tRTE\tPDE\tAYE\n",
            "3.7959511\t1.8445288918235085\t0.06667229\t55.05207665203777\n"
          ]
        },
        {
          "output_type": "stream",
          "name": "stderr",
          "text": [
            "100%|██████████| 484/484 [00:14<00:00, 33.47it/s]\n"
          ]
        },
        {
          "output_type": "stream",
          "name": "stdout",
          "text": [
            "-------------------------\n",
            "Epoch 52, time usage: 14.466s, loss: 690.9889165074372, vec_loss [0.09665404 0.08666145]/0.091658\n",
            "Validation loss: 878.5716076805478 vec_loss: [0.08937596 0.10103437]/0.095205\n",
            "Best Validation Model saved to /content/drive/MyDrive/ColabNotebooks/out/working/prediction_model/checkpoints/checkpoint_52.pt\n",
            "Reconstruct the validation trajectory and compute the ATE, RTE, PDE, and AYE\n",
            "ATE\tRTE\tPDE\tAYE\n",
            "1.668552\t1.218928868120367\t0.028872974\t56.19249905645017\n"
          ]
        },
        {
          "output_type": "stream",
          "name": "stderr",
          "text": [
            "100%|██████████| 484/484 [00:14<00:00, 33.48it/s]\n"
          ]
        },
        {
          "output_type": "stream",
          "name": "stdout",
          "text": [
            "-------------------------\n",
            "Epoch 53, time usage: 14.462s, loss: 768.2139948064631, vec_loss [0.10352416 0.09409147]/0.098808\n",
            "Validation loss: 950.9859746297201 vec_loss: [0.07537478 0.09289715]/0.084136\n",
            "Reconstruct the validation trajectory and compute the ATE, RTE, PDE, and AYE\n",
            "ATE\tRTE\tPDE\tAYE\n",
            "2.9680238\t1.5368428772146052\t0.050752833\t54.53234489428198\n"
          ]
        },
        {
          "output_type": "stream",
          "name": "stderr",
          "text": [
            "100%|██████████| 484/484 [00:14<00:00, 33.85it/s]\n"
          ]
        },
        {
          "output_type": "stream",
          "name": "stdout",
          "text": [
            "-------------------------\n",
            "Epoch 54, time usage: 14.305s, loss: 635.8460454389084, vec_loss [0.09327967 0.09096827]/0.092124\n",
            "Validation loss: 1008.336443219866 vec_loss: [0.0779356  0.09842506]/0.088180\n",
            "Reconstruct the validation trajectory and compute the ATE, RTE, PDE, and AYE\n",
            "ATE\tRTE\tPDE\tAYE\n",
            "2.553301\t1.4637381705370816\t0.03994315\t56.466039750204274\n"
          ]
        },
        {
          "output_type": "stream",
          "name": "stderr",
          "text": [
            "100%|██████████| 484/484 [00:14<00:00, 33.70it/s]\n"
          ]
        },
        {
          "output_type": "stream",
          "name": "stdout",
          "text": [
            "-------------------------\n",
            "Epoch 55, time usage: 14.368s, loss: 582.8626321209364, vec_loss [0.08981339 0.08651939]/0.088166\n",
            "Validation loss: 1057.4489313761394 vec_loss: [0.08263043 0.10445601]/0.093543\n",
            "Reconstruct the validation trajectory and compute the ATE, RTE, PDE, and AYE\n",
            "ATE\tRTE\tPDE\tAYE\n",
            "2.46754\t1.3510958606546575\t0.042084314\t54.71719558166347\n"
          ]
        },
        {
          "output_type": "stream",
          "name": "stderr",
          "text": [
            "100%|██████████| 484/484 [00:14<00:00, 33.93it/s]\n"
          ]
        },
        {
          "output_type": "stream",
          "name": "stdout",
          "text": [
            "-------------------------\n",
            "Epoch 56, time usage: 14.267s, loss: 672.3066853294688, vec_loss [0.09452987 0.09425672]/0.094393\n",
            "Validation loss: 1029.013517470587 vec_loss: [0.09667262 0.11763167]/0.107152\n",
            "Reconstruct the validation trajectory and compute the ATE, RTE, PDE, and AYE\n",
            "ATE\tRTE\tPDE\tAYE\n",
            "5.1635633\t2.185150048949502\t0.092027195\t57.99528588581372\n"
          ]
        },
        {
          "output_type": "stream",
          "name": "stderr",
          "text": [
            "100%|██████████| 484/484 [00:14<00:00, 33.38it/s]\n"
          ]
        },
        {
          "output_type": "stream",
          "name": "stdout",
          "text": [
            "-------------------------\n",
            "Epoch 57, time usage: 14.504s, loss: 676.5558534732535, vec_loss [0.09721269 0.09322724]/0.095220\n",
            "Validation loss: 897.5125499906994 vec_loss: [0.07564646 0.10943931]/0.092543\n",
            "Reconstruct the validation trajectory and compute the ATE, RTE, PDE, and AYE\n",
            "ATE\tRTE\tPDE\tAYE\n",
            "1.8777539\t1.387297267263586\t0.034722093\t52.78744143442911\n"
          ]
        },
        {
          "output_type": "stream",
          "name": "stderr",
          "text": [
            "100%|██████████| 484/484 [00:14<00:00, 33.80it/s]\n"
          ]
        },
        {
          "output_type": "stream",
          "name": "stdout",
          "text": [
            "-------------------------\n",
            "Epoch 58, time usage: 14.325s, loss: 677.8473399453912, vec_loss [0.09675185 0.09519877]/0.095975\n",
            "Validation loss: 956.1883377801804 vec_loss: [0.07956548 0.09590721]/0.087736\n",
            "Reconstruct the validation trajectory and compute the ATE, RTE, PDE, and AYE\n",
            "ATE\tRTE\tPDE\tAYE\n",
            "1.9817272\t1.3466508117589084\t0.038291603\t52.035632577665204\n"
          ]
        },
        {
          "output_type": "stream",
          "name": "stderr",
          "text": [
            "100%|██████████| 484/484 [00:14<00:00, 33.68it/s]\n"
          ]
        },
        {
          "output_type": "stream",
          "name": "stdout",
          "text": [
            "-------------------------\n",
            "Epoch 59, time usage: 14.373s, loss: 620.1324629665406, vec_loss [0.09546962 0.09133627]/0.093403\n",
            "Validation loss: 859.2911260695685 vec_loss: [0.08383409 0.09822646]/0.091030\n",
            "Best Validation Model saved to /content/drive/MyDrive/ColabNotebooks/out/working/prediction_model/checkpoints/checkpoint_59.pt\n",
            "Reconstruct the validation trajectory and compute the ATE, RTE, PDE, and AYE\n",
            "ATE\tRTE\tPDE\tAYE\n",
            "1.8097069\t1.2295178229158574\t0.03542594\t52.66863898678479\n"
          ]
        },
        {
          "output_type": "stream",
          "name": "stderr",
          "text": [
            "100%|██████████| 484/484 [00:14<00:00, 32.62it/s]\n"
          ]
        },
        {
          "output_type": "stream",
          "name": "stdout",
          "text": [
            "-------------------------\n",
            "Epoch 60, time usage: 14.843s, loss: 581.695896621578, vec_loss [0.09686039 0.0944723 ]/0.095666\n",
            "Validation loss: 897.1683033534458 vec_loss: [0.07539072 0.09293663]/0.084164\n",
            "Reconstruct the validation trajectory and compute the ATE, RTE, PDE, and AYE\n",
            "ATE\tRTE\tPDE\tAYE\n",
            "2.2292712\t1.33002230795947\t0.037874963\t53.492379049403254\n"
          ]
        },
        {
          "output_type": "stream",
          "name": "stderr",
          "text": [
            "100%|██████████| 484/484 [00:15<00:00, 31.95it/s]\n"
          ]
        },
        {
          "output_type": "stream",
          "name": "stdout",
          "text": [
            "-------------------------\n",
            "Epoch 61, time usage: 15.156s, loss: 576.123583454731, vec_loss [0.09444346 0.09143674]/0.092940\n",
            "Validation loss: 1128.7357435680572 vec_loss: [0.08598834 0.09998007]/0.092984\n",
            "Reconstruct the validation trajectory and compute the ATE, RTE, PDE, and AYE\n",
            "ATE\tRTE\tPDE\tAYE\n",
            "4.5861974\t2.0156525048342617\t0.07965534\t59.2561509146607\n"
          ]
        },
        {
          "output_type": "stream",
          "name": "stderr",
          "text": [
            "100%|██████████| 484/484 [00:15<00:00, 32.07it/s]\n"
          ]
        },
        {
          "output_type": "stream",
          "name": "stdout",
          "text": [
            "-------------------------\n",
            "Epoch 62, time usage: 15.099s, loss: 656.7810293465607, vec_loss [0.09918606 0.09807722]/0.098632\n",
            "Validation loss: 810.961556207566 vec_loss: [0.08391928 0.10093106]/0.092425\n",
            "Best Validation Model saved to /content/drive/MyDrive/ColabNotebooks/out/working/prediction_model/checkpoints/checkpoint_62.pt\n",
            "Reconstruct the validation trajectory and compute the ATE, RTE, PDE, and AYE\n",
            "ATE\tRTE\tPDE\tAYE\n",
            "3.4782593\t1.6762801517139783\t0.06654573\t55.2852698660489\n"
          ]
        },
        {
          "output_type": "stream",
          "name": "stderr",
          "text": [
            "100%|██████████| 484/484 [00:14<00:00, 32.42it/s]\n"
          ]
        },
        {
          "output_type": "stream",
          "name": "stdout",
          "text": [
            "-------------------------\n",
            "Epoch 63, time usage: 14.934s, loss: 666.4221877736494, vec_loss [0.09985014 0.09710702]/0.098479\n",
            "Validation loss: 1034.4306600661505 vec_loss: [0.08989436 0.10445274]/0.097174\n",
            "Reconstruct the validation trajectory and compute the ATE, RTE, PDE, and AYE\n",
            "ATE\tRTE\tPDE\tAYE\n",
            "3.8606112\t1.9902881492267956\t0.06989643\t58.12895330879715\n"
          ]
        },
        {
          "output_type": "stream",
          "name": "stderr",
          "text": [
            "100%|██████████| 484/484 [00:14<00:00, 32.90it/s]\n"
          ]
        },
        {
          "output_type": "stream",
          "name": "stdout",
          "text": [
            "-------------------------\n",
            "Epoch 64, time usage: 14.714s, loss: 523.8924338916116, vec_loss [0.09400418 0.08992458]/0.091964\n",
            "Validation loss: 1027.3120894659132 vec_loss: [0.09112452 0.10836049]/0.099743\n",
            "Reconstruct the validation trajectory and compute the ATE, RTE, PDE, and AYE\n",
            "ATE\tRTE\tPDE\tAYE\n",
            "2.106493\t1.4222208044745706\t0.03905559\t58.91065604077935\n"
          ]
        },
        {
          "output_type": "stream",
          "name": "stderr",
          "text": [
            "100%|██████████| 484/484 [00:14<00:00, 32.51it/s]\n"
          ]
        },
        {
          "output_type": "stream",
          "name": "stdout",
          "text": [
            "-------------------------\n",
            "Epoch 65, time usage: 14.891s, loss: 520.4290207476655, vec_loss [0.09471379 0.09350142]/0.094108\n",
            "Validation loss: 893.1733725411551 vec_loss: [0.07584421 0.08914256]/0.082493\n",
            "Reconstruct the validation trajectory and compute the ATE, RTE, PDE, and AYE\n",
            "ATE\tRTE\tPDE\tAYE\n",
            "2.6512752\t1.486221963709051\t0.048639074\t52.780696312160586\n"
          ]
        },
        {
          "output_type": "stream",
          "name": "stderr",
          "text": [
            "100%|██████████| 484/484 [00:14<00:00, 32.55it/s]\n"
          ]
        },
        {
          "output_type": "stream",
          "name": "stdout",
          "text": [
            "-------------------------\n",
            "Epoch 66, time usage: 14.876s, loss: 618.9396693016872, vec_loss [0.10081641 0.09662568]/0.098721\n",
            "Validation loss: 1132.5193822951544 vec_loss: [0.07559684 0.08290564]/0.079251\n",
            "Reconstruct the validation trajectory and compute the ATE, RTE, PDE, and AYE\n",
            "ATE\tRTE\tPDE\tAYE\n",
            "4.340326\t2.0001637285405938\t0.08186159\t58.52622629446064\n"
          ]
        },
        {
          "output_type": "stream",
          "name": "stderr",
          "text": [
            "100%|██████████| 484/484 [00:14<00:00, 32.58it/s]\n"
          ]
        },
        {
          "output_type": "stream",
          "name": "stdout",
          "text": [
            "-------------------------\n",
            "Epoch 67, time usage: 14.862s, loss: 616.6757146661931, vec_loss [0.09772219 0.09286371]/0.095293\n",
            "Validation loss: 921.9034819830032 vec_loss: [0.08664418 0.11006919]/0.098357\n",
            "Reconstruct the validation trajectory and compute the ATE, RTE, PDE, and AYE\n",
            "ATE\tRTE\tPDE\tAYE\n",
            "2.9809015\t1.5631343668157405\t0.05795003\t50.455081476105214\n"
          ]
        },
        {
          "output_type": "stream",
          "name": "stderr",
          "text": [
            "100%|██████████| 484/484 [00:14<00:00, 32.85it/s]\n"
          ]
        },
        {
          "output_type": "stream",
          "name": "stdout",
          "text": [
            "-------------------------\n",
            "Epoch 68, time usage: 14.740s, loss: 662.6964644755213, vec_loss [0.0982824  0.09318709]/0.095735\n",
            "Validation loss: 864.4150521414621 vec_loss: [0.07932377 0.09276006]/0.086042\n",
            "Reconstruct the validation trajectory and compute the ATE, RTE, PDE, and AYE\n",
            "ATE\tRTE\tPDE\tAYE\n",
            "3.4147565\t1.7133962349458174\t0.06486552\t51.758255801302695\n"
          ]
        },
        {
          "output_type": "stream",
          "name": "stderr",
          "text": [
            "100%|██████████| 484/484 [00:14<00:00, 32.98it/s]\n"
          ]
        },
        {
          "output_type": "stream",
          "name": "stdout",
          "text": [
            "-------------------------\n",
            "Epoch 69, time usage: 14.678s, loss: 713.6717889643897, vec_loss [0.10393263 0.09842791]/0.101180\n",
            "Validation loss: 871.0614278884161 vec_loss: [0.07582647 0.09753121]/0.086679\n",
            "Reconstruct the validation trajectory and compute the ATE, RTE, PDE, and AYE\n",
            "ATE\tRTE\tPDE\tAYE\n",
            "1.9691029\t1.2892259467731824\t0.03585374\t53.274969781637736\n"
          ]
        },
        {
          "output_type": "stream",
          "name": "stderr",
          "text": [
            "100%|██████████| 484/484 [00:14<00:00, 33.39it/s]\n"
          ]
        },
        {
          "output_type": "stream",
          "name": "stdout",
          "text": [
            "-------------------------\n",
            "Epoch 70, time usage: 14.500s, loss: 557.8811450043986, vec_loss [0.09410524 0.09242754]/0.093266\n",
            "Validation loss: 860.5471714564732 vec_loss: [0.07611234 0.09489737]/0.085505\n",
            "Reconstruct the validation trajectory and compute the ATE, RTE, PDE, and AYE\n",
            "ATE\tRTE\tPDE\tAYE\n",
            "2.5524416\t1.37649174711921\t0.04586413\t53.00122169850336\n"
          ]
        },
        {
          "output_type": "stream",
          "name": "stderr",
          "text": [
            "100%|██████████| 484/484 [00:14<00:00, 33.53it/s]\n"
          ]
        },
        {
          "output_type": "stream",
          "name": "stdout",
          "text": [
            "-------------------------\n",
            "Epoch 71, time usage: 14.437s, loss: 519.3587662562851, vec_loss [0.09503324 0.09227614]/0.093655\n",
            "Validation loss: 946.3053686959403 vec_loss: [0.07805292 0.09501123]/0.086532\n",
            "Reconstruct the validation trajectory and compute the ATE, RTE, PDE, and AYE\n",
            "ATE\tRTE\tPDE\tAYE\n",
            "4.1495013\t1.8374200842597268\t0.077516794\t49.51990532486227\n"
          ]
        },
        {
          "output_type": "stream",
          "name": "stderr",
          "text": [
            "100%|██████████| 484/484 [00:14<00:00, 32.99it/s]\n"
          ]
        },
        {
          "output_type": "stream",
          "name": "stdout",
          "text": [
            "-------------------------\n",
            "Epoch 72, time usage: 14.673s, loss: 510.92592374943507, vec_loss [0.09351459 0.09172717]/0.092621\n",
            "Validation loss: 941.8491697765533 vec_loss: [0.08121398 0.10202079]/0.091617\n",
            "Reconstruct the validation trajectory and compute the ATE, RTE, PDE, and AYE\n",
            "ATE\tRTE\tPDE\tAYE\n",
            "3.6928442\t1.7143431143327192\t0.066500306\t53.5250279745622\n"
          ]
        },
        {
          "output_type": "stream",
          "name": "stderr",
          "text": [
            "100%|██████████| 484/484 [00:14<00:00, 32.88it/s]\n"
          ]
        },
        {
          "output_type": "stream",
          "name": "stdout",
          "text": [
            "-------------------------\n",
            "Epoch 73, time usage: 14.725s, loss: 763.4039794984927, vec_loss [0.10698909 0.09946015]/0.103225\n",
            "Validation loss: 995.3193944295248 vec_loss: [0.08491828 0.09999541]/0.092457\n",
            "Epoch 00074: reducing learning rate of group 0 to 7.5000e-04.\n",
            "Reconstruct the validation trajectory and compute the ATE, RTE, PDE, and AYE\n",
            "ATE\tRTE\tPDE\tAYE\n",
            "2.4291313\t1.4793610518628901\t0.043744456\t59.242058992550376\n"
          ]
        },
        {
          "output_type": "stream",
          "name": "stderr",
          "text": [
            "100%|██████████| 484/484 [00:14<00:00, 33.24it/s]\n"
          ]
        },
        {
          "output_type": "stream",
          "name": "stdout",
          "text": [
            "-------------------------\n",
            "Epoch 74, time usage: 14.566s, loss: 506.9864565005972, vec_loss [0.09923913 0.09560147]/0.097420\n",
            "Validation loss: 852.9664513724191 vec_loss: [0.08890036 0.10662238]/0.097761\n",
            "Reconstruct the validation trajectory and compute the ATE, RTE, PDE, and AYE\n",
            "ATE\tRTE\tPDE\tAYE\n",
            "2.2926939\t1.4621072194793008\t0.04112863\t55.016528311576145\n"
          ]
        },
        {
          "output_type": "stream",
          "name": "stderr",
          "text": [
            "100%|██████████| 484/484 [00:14<00:00, 32.88it/s]\n"
          ]
        },
        {
          "output_type": "stream",
          "name": "stdout",
          "text": [
            "-------------------------\n",
            "Epoch 75, time usage: 14.727s, loss: 484.76162669284287, vec_loss [0.0967707  0.09460825]/0.095689\n",
            "Validation loss: 847.962906610398 vec_loss: [0.07975356 0.0933729 ]/0.086563\n",
            "Reconstruct the validation trajectory and compute the ATE, RTE, PDE, and AYE\n",
            "ATE\tRTE\tPDE\tAYE\n",
            "1.9584941\t1.2848061594096096\t0.03519942\t51.63794915972523\n"
          ]
        },
        {
          "output_type": "stream",
          "name": "stderr",
          "text": [
            "100%|██████████| 484/484 [00:14<00:00, 32.76it/s]\n"
          ]
        },
        {
          "output_type": "stream",
          "name": "stdout",
          "text": [
            "-------------------------\n",
            "Epoch 76, time usage: 14.779s, loss: 438.65198094391627, vec_loss [0.09113164 0.09160952]/0.091371\n",
            "Validation loss: 771.3825211297898 vec_loss: [0.07283755 0.09309705]/0.082967\n",
            "Best Validation Model saved to /content/drive/MyDrive/ColabNotebooks/out/working/prediction_model/checkpoints/checkpoint_76.pt\n",
            "Reconstruct the validation trajectory and compute the ATE, RTE, PDE, and AYE\n",
            "ATE\tRTE\tPDE\tAYE\n",
            "2.1432805\t1.3185345259579746\t0.04151009\t50.27274119370684\n"
          ]
        },
        {
          "output_type": "stream",
          "name": "stderr",
          "text": [
            "100%|██████████| 484/484 [00:14<00:00, 33.03it/s]\n"
          ]
        },
        {
          "output_type": "stream",
          "name": "stdout",
          "text": [
            "-------------------------\n",
            "Epoch 77, time usage: 14.657s, loss: 455.5104406372575, vec_loss [0.09046222 0.09265283]/0.091558\n",
            "Validation loss: 782.220078604562 vec_loss: [0.07398756 0.10052107]/0.087254\n",
            "Reconstruct the validation trajectory and compute the ATE, RTE, PDE, and AYE\n",
            "ATE\tRTE\tPDE\tAYE\n",
            "3.14721\t1.5132400881160388\t0.058634397\t51.49058224004561\n"
          ]
        },
        {
          "output_type": "stream",
          "name": "stderr",
          "text": [
            "100%|██████████| 484/484 [00:14<00:00, 32.55it/s]\n"
          ]
        },
        {
          "output_type": "stream",
          "name": "stdout",
          "text": [
            "-------------------------\n",
            "Epoch 78, time usage: 14.873s, loss: 421.42763109443604, vec_loss [0.09000149 0.08911182]/0.089557\n",
            "Validation loss: 796.7571269444057 vec_loss: [0.07709197 0.0930046 ]/0.085048\n",
            "Reconstruct the validation trajectory and compute the ATE, RTE, PDE, and AYE\n",
            "ATE\tRTE\tPDE\tAYE\n",
            "2.0581946\t1.3195221424102783\t0.03960711\t51.84187935962688\n"
          ]
        },
        {
          "output_type": "stream",
          "name": "stderr",
          "text": [
            "100%|██████████| 484/484 [00:15<00:00, 32.24it/s]\n"
          ]
        },
        {
          "output_type": "stream",
          "name": "stdout",
          "text": [
            "-------------------------\n",
            "Epoch 79, time usage: 15.017s, loss: 420.53109829484924, vec_loss [0.09019462 0.08772039]/0.088958\n",
            "Validation loss: 830.840586344401 vec_loss: [0.07701126 0.08912772]/0.083069\n",
            "Reconstruct the validation trajectory and compute the ATE, RTE, PDE, and AYE\n",
            "ATE\tRTE\tPDE\tAYE\n",
            "2.2481508\t1.4181756431406194\t0.0401671\t50.04436823047087\n",
            "Model saved to /content/drive/MyDrive/ColabNotebooks/out/working/prediction_model/checkpoints/icheckpoint_79.pt\n"
          ]
        },
        {
          "output_type": "stream",
          "name": "stderr",
          "text": [
            "100%|██████████| 484/484 [00:14<00:00, 32.51it/s]\n"
          ]
        },
        {
          "output_type": "stream",
          "name": "stdout",
          "text": [
            "-------------------------\n",
            "Epoch 80, time usage: 14.892s, loss: 483.5751690509891, vec_loss [0.09616448 0.09325686]/0.094711\n",
            "Validation loss: 766.2412316458566 vec_loss: [0.08639573 0.0886949 ]/0.087545\n",
            "Best Validation Model saved to /content/drive/MyDrive/ColabNotebooks/out/working/prediction_model/checkpoints/checkpoint_80.pt\n",
            "Reconstruct the validation trajectory and compute the ATE, RTE, PDE, and AYE\n",
            "ATE\tRTE\tPDE\tAYE\n",
            "2.0318139\t1.2253305045041172\t0.03855699\t51.36372917261183\n"
          ]
        },
        {
          "output_type": "stream",
          "name": "stderr",
          "text": [
            "100%|██████████| 484/484 [00:14<00:00, 32.52it/s]\n"
          ]
        },
        {
          "output_type": "stream",
          "name": "stdout",
          "text": [
            "-------------------------\n",
            "Epoch 81, time usage: 14.889s, loss: 416.73207193169713, vec_loss [0.0921398  0.08894175]/0.090541\n",
            "Validation loss: 801.75937579927 vec_loss: [0.08999982 0.09792415]/0.093962\n",
            "Reconstruct the validation trajectory and compute the ATE, RTE, PDE, and AYE\n",
            "ATE\tRTE\tPDE\tAYE\n",
            "2.6431327\t1.3528769666498357\t0.05205883\t49.61523800066586\n"
          ]
        },
        {
          "output_type": "stream",
          "name": "stderr",
          "text": [
            "100%|██████████| 484/484 [00:14<00:00, 32.83it/s]\n"
          ]
        },
        {
          "output_type": "stream",
          "name": "stdout",
          "text": [
            "-------------------------\n",
            "Epoch 82, time usage: 14.748s, loss: 405.8000125727378, vec_loss [0.09046015 0.08677723]/0.088619\n",
            "Validation loss: 742.4229685465494 vec_loss: [0.0802053  0.09480162]/0.087503\n",
            "Best Validation Model saved to /content/drive/MyDrive/ColabNotebooks/out/working/prediction_model/checkpoints/checkpoint_82.pt\n",
            "Reconstruct the validation trajectory and compute the ATE, RTE, PDE, and AYE\n",
            "ATE\tRTE\tPDE\tAYE\n",
            "1.5231465\t1.1137211214412341\t0.028035842\t50.90879790321713\n"
          ]
        },
        {
          "output_type": "stream",
          "name": "stderr",
          "text": [
            "100%|██████████| 484/484 [00:14<00:00, 32.70it/s]\n"
          ]
        },
        {
          "output_type": "stream",
          "name": "stdout",
          "text": [
            "-------------------------\n",
            "Epoch 83, time usage: 14.805s, loss: 425.455091366098, vec_loss [0.09071087 0.08507855]/0.087895\n",
            "Validation loss: 867.3877240135556 vec_loss: [0.0831065  0.09181122]/0.087459\n",
            "Reconstruct the validation trajectory and compute the ATE, RTE, PDE, and AYE\n",
            "ATE\tRTE\tPDE\tAYE\n",
            "2.591534\t1.3963476094332608\t0.048036624\t50.805665461844505\n"
          ]
        },
        {
          "output_type": "stream",
          "name": "stderr",
          "text": [
            "100%|██████████| 484/484 [00:14<00:00, 32.77it/s]\n"
          ]
        },
        {
          "output_type": "stream",
          "name": "stdout",
          "text": [
            "-------------------------\n",
            "Epoch 84, time usage: 14.776s, loss: 434.82576909341105, vec_loss [0.09291731 0.09069864]/0.091808\n",
            "Validation loss: 778.5480626424154 vec_loss: [0.09182102 0.11635431]/0.104088\n",
            "Reconstruct the validation trajectory and compute the ATE, RTE, PDE, and AYE\n",
            "ATE\tRTE\tPDE\tAYE\n",
            "1.4779233\t1.0976056781682102\t0.027879644\t52.028146690334886\n"
          ]
        },
        {
          "output_type": "stream",
          "name": "stderr",
          "text": [
            "100%|██████████| 484/484 [00:14<00:00, 32.75it/s]\n"
          ]
        },
        {
          "output_type": "stream",
          "name": "stdout",
          "text": [
            "-------------------------\n",
            "Epoch 85, time usage: 14.781s, loss: 398.98194068719533, vec_loss [0.08903681 0.08878141]/0.088909\n",
            "Validation loss: 761.695067632766 vec_loss: [0.08242601 0.09137284]/0.086899\n",
            "Reconstruct the validation trajectory and compute the ATE, RTE, PDE, and AYE\n",
            "ATE\tRTE\tPDE\tAYE\n",
            "1.771199\t1.1955205256288701\t0.029675066\t50.98630720038156\n"
          ]
        },
        {
          "output_type": "stream",
          "name": "stderr",
          "text": [
            "100%|██████████| 484/484 [00:14<00:00, 32.76it/s]\n"
          ]
        },
        {
          "output_type": "stream",
          "name": "stdout",
          "text": [
            "-------------------------\n",
            "Epoch 86, time usage: 14.779s, loss: 376.86687393819005, vec_loss [0.08998279 0.08506039]/0.087522\n",
            "Validation loss: 791.9277677990142 vec_loss: [0.08246532 0.09964608]/0.091056\n",
            "Reconstruct the validation trajectory and compute the ATE, RTE, PDE, and AYE\n",
            "ATE\tRTE\tPDE\tAYE\n",
            "1.4721745\t1.1067520054903897\t0.03011446\t50.922554835594944\n"
          ]
        },
        {
          "output_type": "stream",
          "name": "stderr",
          "text": [
            "100%|██████████| 484/484 [00:14<00:00, 32.90it/s]\n"
          ]
        },
        {
          "output_type": "stream",
          "name": "stdout",
          "text": [
            "-------------------------\n",
            "Epoch 87, time usage: 14.714s, loss: 429.57813947062846, vec_loss [0.09168944 0.08825286]/0.089971\n",
            "Validation loss: 885.688111441476 vec_loss: [0.09045344 0.10362235]/0.097038\n",
            "Reconstruct the validation trajectory and compute the ATE, RTE, PDE, and AYE\n",
            "ATE\tRTE\tPDE\tAYE\n",
            "2.8262618\t1.3940802541646091\t0.053756654\t51.641738051935725\n"
          ]
        },
        {
          "output_type": "stream",
          "name": "stderr",
          "text": [
            "100%|██████████| 484/484 [00:15<00:00, 32.21it/s]\n"
          ]
        },
        {
          "output_type": "stream",
          "name": "stdout",
          "text": [
            "-------------------------\n",
            "Epoch 88, time usage: 15.032s, loss: 396.224292534442, vec_loss [0.09036278 0.08657003]/0.088466\n",
            "Validation loss: 867.7607062203543 vec_loss: [0.07674628 0.09092652]/0.083836\n",
            "Reconstruct the validation trajectory and compute the ATE, RTE, PDE, and AYE\n",
            "ATE\tRTE\tPDE\tAYE\n",
            "3.5994027\t1.6090124953876843\t0.06542612\t52.49311430178864\n"
          ]
        },
        {
          "output_type": "stream",
          "name": "stderr",
          "text": [
            "100%|██████████| 484/484 [00:14<00:00, 32.46it/s]\n"
          ]
        },
        {
          "output_type": "stream",
          "name": "stdout",
          "text": [
            "-------------------------\n",
            "Epoch 89, time usage: 14.914s, loss: 407.42916094567164, vec_loss [0.09390448 0.09016014]/0.092032\n",
            "Validation loss: 849.5362745012555 vec_loss: [0.08601437 0.10260591]/0.094310\n",
            "Reconstruct the validation trajectory and compute the ATE, RTE, PDE, and AYE\n",
            "ATE\tRTE\tPDE\tAYE\n",
            "2.219128\t1.3115712675181301\t0.043997087\t52.85833383060355\n"
          ]
        },
        {
          "output_type": "stream",
          "name": "stderr",
          "text": [
            "100%|██████████| 484/484 [00:14<00:00, 32.29it/s]\n"
          ]
        },
        {
          "output_type": "stream",
          "name": "stdout",
          "text": [
            "-------------------------\n",
            "Epoch 90, time usage: 14.994s, loss: 422.0844244523482, vec_loss [0.09337655 0.09182817]/0.092602\n",
            "Validation loss: 839.0206291562035 vec_loss: [0.0805684  0.09125131]/0.085910\n",
            "Reconstruct the validation trajectory and compute the ATE, RTE, PDE, and AYE\n",
            "ATE\tRTE\tPDE\tAYE\n",
            "4.601171\t1.8995981108058582\t0.08083352\t56.54203522907813\n"
          ]
        },
        {
          "output_type": "stream",
          "name": "stderr",
          "text": [
            "100%|██████████| 484/484 [00:15<00:00, 32.05it/s]\n"
          ]
        },
        {
          "output_type": "stream",
          "name": "stdout",
          "text": [
            "-------------------------\n",
            "Epoch 91, time usage: 15.104s, loss: 381.8227655395003, vec_loss [0.0911976 0.0879911]/0.089594\n",
            "Validation loss: 909.2659690493629 vec_loss: [0.08420168 0.10162772]/0.092915\n",
            "Reconstruct the validation trajectory and compute the ATE, RTE, PDE, and AYE\n",
            "ATE\tRTE\tPDE\tAYE\n",
            "3.2156663\t1.4767603820020503\t0.05691998\t54.10333077769287\n"
          ]
        },
        {
          "output_type": "stream",
          "name": "stderr",
          "text": [
            "100%|██████████| 484/484 [00:14<00:00, 32.30it/s]\n"
          ]
        },
        {
          "output_type": "stream",
          "name": "stdout",
          "text": [
            "-------------------------\n",
            "Epoch 92, time usage: 14.987s, loss: 409.08443368959036, vec_loss [0.09133524 0.09098863]/0.091162\n",
            "Validation loss: 777.6931101481119 vec_loss: [0.08149169 0.09537329]/0.088432\n",
            "Reconstruct the validation trajectory and compute the ATE, RTE, PDE, and AYE\n",
            "ATE\tRTE\tPDE\tAYE\n",
            "2.4793968\t1.3604382439093157\t0.042043954\t52.05215542619376\n"
          ]
        },
        {
          "output_type": "stream",
          "name": "stderr",
          "text": [
            "100%|██████████| 484/484 [00:14<00:00, 32.68it/s]\n"
          ]
        },
        {
          "output_type": "stream",
          "name": "stdout",
          "text": [
            "-------------------------\n",
            "Epoch 93, time usage: 14.817s, loss: 370.92675604702026, vec_loss [0.08783223 0.08643074]/0.087131\n",
            "Validation loss: 980.3308861142114 vec_loss: [0.09993063 0.11269268]/0.106312\n",
            "Epoch 00094: reducing learning rate of group 0 to 5.6250e-04.\n",
            "Reconstruct the validation trajectory and compute the ATE, RTE, PDE, and AYE\n",
            "ATE\tRTE\tPDE\tAYE\n",
            "2.7098086\t1.4178504727103494\t0.04990673\t53.56623698953004\n"
          ]
        },
        {
          "output_type": "stream",
          "name": "stderr",
          "text": [
            "100%|██████████| 484/484 [00:14<00:00, 32.42it/s]\n"
          ]
        },
        {
          "output_type": "stream",
          "name": "stdout",
          "text": [
            "-------------------------\n",
            "Epoch 94, time usage: 14.933s, loss: 352.59395917782115, vec_loss [0.09020816 0.08633704]/0.088273\n",
            "Validation loss: 778.526249113537 vec_loss: [0.09118131 0.09907419]/0.095128\n",
            "Reconstruct the validation trajectory and compute the ATE, RTE, PDE, and AYE\n",
            "ATE\tRTE\tPDE\tAYE\n",
            "1.3462441\t1.088817379691384\t0.024529189\t51.39676462438518\n"
          ]
        },
        {
          "output_type": "stream",
          "name": "stderr",
          "text": [
            "100%|██████████| 484/484 [00:14<00:00, 32.48it/s]\n"
          ]
        },
        {
          "output_type": "stream",
          "name": "stdout",
          "text": [
            "-------------------------\n",
            "Epoch 95, time usage: 14.906s, loss: 341.85482107115183, vec_loss [0.08647697 0.0839607 ]/0.085219\n",
            "Validation loss: 775.8887111118862 vec_loss: [0.08502195 0.09089495]/0.087958\n",
            "Reconstruct the validation trajectory and compute the ATE, RTE, PDE, and AYE\n",
            "ATE\tRTE\tPDE\tAYE\n",
            "2.215584\t1.2804843187332153\t0.041766997\t52.10767461886219\n"
          ]
        },
        {
          "output_type": "stream",
          "name": "stderr",
          "text": [
            "100%|██████████| 484/484 [00:14<00:00, 32.81it/s]\n"
          ]
        },
        {
          "output_type": "stream",
          "name": "stdout",
          "text": [
            "-------------------------\n",
            "Epoch 96, time usage: 14.757s, loss: 333.0385408953202, vec_loss [0.08631409 0.08451588]/0.085415\n",
            "Validation loss: 831.247192746117 vec_loss: [0.0774755 0.0902297]/0.083853\n",
            "Reconstruct the validation trajectory and compute the ATE, RTE, PDE, and AYE\n",
            "ATE\tRTE\tPDE\tAYE\n",
            "3.0523438\t1.4973749789324673\t0.052784026\t54.46987350042789\n"
          ]
        },
        {
          "output_type": "stream",
          "name": "stderr",
          "text": [
            "100%|██████████| 484/484 [00:14<00:00, 32.63it/s]\n"
          ]
        },
        {
          "output_type": "stream",
          "name": "stdout",
          "text": [
            "-------------------------\n",
            "Epoch 97, time usage: 14.839s, loss: 344.61394185468185, vec_loss [0.08913282 0.08698384]/0.088058\n",
            "Validation loss: 796.8549150739398 vec_loss: [0.08484727 0.09917172]/0.092009\n",
            "Reconstruct the validation trajectory and compute the ATE, RTE, PDE, and AYE\n",
            "ATE\tRTE\tPDE\tAYE\n",
            "2.431616\t1.3300555077466099\t0.041867133\t51.24485469751807\n"
          ]
        },
        {
          "output_type": "stream",
          "name": "stderr",
          "text": [
            "100%|██████████| 484/484 [00:14<00:00, 33.01it/s]\n"
          ]
        },
        {
          "output_type": "stream",
          "name": "stdout",
          "text": [
            "-------------------------\n",
            "Epoch 98, time usage: 14.669s, loss: 318.60580321382884, vec_loss [0.08586691 0.08438727]/0.085127\n",
            "Validation loss: 817.7066977364676 vec_loss: [0.08419748 0.10212853]/0.093163\n",
            "Reconstruct the validation trajectory and compute the ATE, RTE, PDE, and AYE\n",
            "ATE\tRTE\tPDE\tAYE\n",
            "1.8052758\t1.2065142664042385\t0.031600177\t53.58381572321164\n"
          ]
        },
        {
          "output_type": "stream",
          "name": "stderr",
          "text": [
            "100%|██████████| 484/484 [00:14<00:00, 32.64it/s]\n"
          ]
        },
        {
          "output_type": "stream",
          "name": "stdout",
          "text": [
            "-------------------------\n",
            "Epoch 99, time usage: 14.835s, loss: 319.2365829215562, vec_loss [0.08478322 0.08293644]/0.083860\n",
            "Validation loss: 714.0249056134905 vec_loss: [0.07922374 0.09271059]/0.085967\n",
            "Best Validation Model saved to /content/drive/MyDrive/ColabNotebooks/out/working/prediction_model/checkpoints/checkpoint_99.pt\n",
            "Reconstruct the validation trajectory and compute the ATE, RTE, PDE, and AYE\n",
            "ATE\tRTE\tPDE\tAYE\n",
            "2.3554049\t1.3252866322344\t0.045825113\t50.27926247204848\n"
          ]
        },
        {
          "output_type": "stream",
          "name": "stderr",
          "text": [
            "100%|██████████| 484/484 [00:14<00:00, 32.90it/s]\n"
          ]
        },
        {
          "output_type": "stream",
          "name": "stdout",
          "text": [
            "-------------------------\n",
            "Epoch 100, time usage: 14.715s, loss: 316.4984054880694, vec_loss [0.08503153 0.08152901]/0.083280\n",
            "Validation loss: 798.1942796253022 vec_loss: [0.07546332 0.08595261]/0.080708\n",
            "Reconstruct the validation trajectory and compute the ATE, RTE, PDE, and AYE\n",
            "ATE\tRTE\tPDE\tAYE\n",
            "1.4825543\t1.0847711779854514\t0.02792529\t50.50845443705857\n"
          ]
        },
        {
          "output_type": "stream",
          "name": "stderr",
          "text": [
            "100%|██████████| 484/484 [00:14<00:00, 32.96it/s]\n"
          ]
        },
        {
          "output_type": "stream",
          "name": "stdout",
          "text": [
            "-------------------------\n",
            "Epoch 101, time usage: 14.686s, loss: 329.97029116922175, vec_loss [0.08554759 0.0826331 ]/0.084090\n",
            "Validation loss: 812.7952753702799 vec_loss: [0.07467933 0.08428839]/0.079484\n",
            "Reconstruct the validation trajectory and compute the ATE, RTE, PDE, and AYE\n",
            "ATE\tRTE\tPDE\tAYE\n",
            "2.0982494\t1.2628262855789878\t0.03753533\t53.06256424836553\n"
          ]
        },
        {
          "output_type": "stream",
          "name": "stderr",
          "text": [
            "100%|██████████| 484/484 [00:14<00:00, 32.59it/s]\n"
          ]
        },
        {
          "output_type": "stream",
          "name": "stdout",
          "text": [
            "-------------------------\n",
            "Epoch 102, time usage: 14.855s, loss: 324.01359526579046, vec_loss [0.0856318  0.08129945]/0.083466\n",
            "Validation loss: 830.2880714053199 vec_loss: [0.08162402 0.09854742]/0.090086\n",
            "Reconstruct the validation trajectory and compute the ATE, RTE, PDE, and AYE\n",
            "ATE\tRTE\tPDE\tAYE\n",
            "2.203788\t1.2746576124971563\t0.040358935\t50.73807825630208\n"
          ]
        },
        {
          "output_type": "stream",
          "name": "stderr",
          "text": [
            "100%|██████████| 484/484 [00:14<00:00, 32.83it/s]\n"
          ]
        },
        {
          "output_type": "stream",
          "name": "stdout",
          "text": [
            "-------------------------\n",
            "Epoch 103, time usage: 14.748s, loss: 341.7701330894281, vec_loss [0.08697613 0.08344465]/0.085210\n",
            "Validation loss: 859.6872834705171 vec_loss: [0.07525746 0.09134661]/0.083302\n",
            "Reconstruct the validation trajectory and compute the ATE, RTE, PDE, and AYE\n",
            "ATE\tRTE\tPDE\tAYE\n",
            "3.5781724\t1.568762324073098\t0.06750498\t50.23704724603064\n"
          ]
        },
        {
          "output_type": "stream",
          "name": "stderr",
          "text": [
            "100%|██████████| 484/484 [00:14<00:00, 32.58it/s]\n"
          ]
        },
        {
          "output_type": "stream",
          "name": "stdout",
          "text": [
            "-------------------------\n",
            "Epoch 104, time usage: 14.860s, loss: 303.9202074098193, vec_loss [0.08532438 0.08094129]/0.083133\n",
            "Validation loss: 819.6076285952613 vec_loss: [0.09483742 0.10249331]/0.098665\n",
            "Reconstruct the validation trajectory and compute the ATE, RTE, PDE, and AYE\n",
            "ATE\tRTE\tPDE\tAYE\n",
            "1.3307191\t1.1228314692323857\t0.02689869\t53.84166467827395\n"
          ]
        },
        {
          "output_type": "stream",
          "name": "stderr",
          "text": [
            "100%|██████████| 484/484 [00:14<00:00, 32.85it/s]\n"
          ]
        },
        {
          "output_type": "stream",
          "name": "stdout",
          "text": [
            "-------------------------\n",
            "Epoch 105, time usage: 14.740s, loss: 294.49690224513535, vec_loss [0.08231695 0.08057184]/0.081444\n",
            "Validation loss: 832.2365341186523 vec_loss: [0.07509641 0.09313494]/0.084116\n",
            "Reconstruct the validation trajectory and compute the ATE, RTE, PDE, and AYE\n",
            "ATE\tRTE\tPDE\tAYE\n",
            "1.8343929\t1.1504436893896623\t0.037428096\t47.896631700506994\n"
          ]
        },
        {
          "output_type": "stream",
          "name": "stderr",
          "text": [
            "100%|██████████| 484/484 [00:15<00:00, 32.18it/s]\n"
          ]
        },
        {
          "output_type": "stream",
          "name": "stdout",
          "text": [
            "-------------------------\n",
            "Epoch 106, time usage: 15.044s, loss: 306.6103989467148, vec_loss [0.08456425 0.08130892]/0.082937\n",
            "Validation loss: 751.0468245006743 vec_loss: [0.08061121 0.09699943]/0.088805\n",
            "Reconstruct the validation trajectory and compute the ATE, RTE, PDE, and AYE\n",
            "ATE\tRTE\tPDE\tAYE\n",
            "3.483396\t1.5225817290219394\t0.06344897\t52.77753548689059\n"
          ]
        },
        {
          "output_type": "stream",
          "name": "stderr",
          "text": [
            "100%|██████████| 484/484 [00:14<00:00, 32.83it/s]\n"
          ]
        },
        {
          "output_type": "stream",
          "name": "stdout",
          "text": [
            "-------------------------\n",
            "Epoch 107, time usage: 14.749s, loss: 307.24649624785116, vec_loss [0.08308426 0.08177225]/0.082428\n",
            "Validation loss: 1213.7563291277204 vec_loss: [0.07525002 0.09411641]/0.084683\n",
            "Reconstruct the validation trajectory and compute the ATE, RTE, PDE, and AYE\n",
            "ATE\tRTE\tPDE\tAYE\n",
            "3.246546\t1.612485576759685\t0.057284046\t50.976933076208866\n"
          ]
        },
        {
          "output_type": "stream",
          "name": "stderr",
          "text": [
            "100%|██████████| 484/484 [00:14<00:00, 32.74it/s]\n"
          ]
        },
        {
          "output_type": "stream",
          "name": "stdout",
          "text": [
            "-------------------------\n",
            "Epoch 108, time usage: 14.789s, loss: 343.4305232339654, vec_loss [0.08650581 0.0862335 ]/0.086370\n",
            "Validation loss: 867.8847848801386 vec_loss: [0.07955196 0.08833407]/0.083943\n",
            "Reconstruct the validation trajectory and compute the ATE, RTE, PDE, and AYE\n",
            "ATE\tRTE\tPDE\tAYE\n",
            "1.9845394\t1.2780941291288896\t0.03633607\t49.41344223487985\n"
          ]
        },
        {
          "output_type": "stream",
          "name": "stderr",
          "text": [
            "100%|██████████| 484/484 [00:14<00:00, 32.68it/s]\n"
          ]
        },
        {
          "output_type": "stream",
          "name": "stdout",
          "text": [
            "-------------------------\n",
            "Epoch 109, time usage: 14.815s, loss: 294.1828332696079, vec_loss [0.08101564 0.08097845]/0.080997\n",
            "Validation loss: 853.1505047026135 vec_loss: [0.07925645 0.09140597]/0.085331\n",
            "Reconstruct the validation trajectory and compute the ATE, RTE, PDE, and AYE\n",
            "ATE\tRTE\tPDE\tAYE\n",
            "1.5178548\t1.1066437851298938\t0.025195606\t49.55063062038043\n"
          ]
        },
        {
          "output_type": "stream",
          "name": "stderr",
          "text": [
            "100%|██████████| 484/484 [00:14<00:00, 32.75it/s]\n"
          ]
        },
        {
          "output_type": "stream",
          "name": "stdout",
          "text": [
            "-------------------------\n",
            "Epoch 110, time usage: 14.784s, loss: 306.5003579825409, vec_loss [0.08301008 0.08302429]/0.083017\n",
            "Validation loss: 908.4810391380673 vec_loss: [0.07725551 0.09483357]/0.086045\n",
            "Epoch 00111: reducing learning rate of group 0 to 4.2188e-04.\n",
            "Reconstruct the validation trajectory and compute the ATE, RTE, PDE, and AYE\n",
            "ATE\tRTE\tPDE\tAYE\n",
            "1.6187538\t1.114108221097426\t0.029036343\t49.92794858745743\n"
          ]
        },
        {
          "output_type": "stream",
          "name": "stderr",
          "text": [
            "100%|██████████| 484/484 [00:14<00:00, 32.54it/s]\n"
          ]
        },
        {
          "output_type": "stream",
          "name": "stdout",
          "text": [
            "-------------------------\n",
            "Epoch 111, time usage: 14.878s, loss: 278.60915570219686, vec_loss [0.08165616 0.08063567]/0.081146\n",
            "Validation loss: 858.9378531319754 vec_loss: [0.08424   0.1027624]/0.093501\n",
            "Reconstruct the validation trajectory and compute the ATE, RTE, PDE, and AYE\n",
            "ATE\tRTE\tPDE\tAYE\n",
            "2.5065494\t1.3933989622376182\t0.042394068\t50.697848752553845\n"
          ]
        },
        {
          "output_type": "stream",
          "name": "stderr",
          "text": [
            "100%|██████████| 484/484 [00:14<00:00, 33.09it/s]\n"
          ]
        },
        {
          "output_type": "stream",
          "name": "stdout",
          "text": [
            "-------------------------\n",
            "Epoch 112, time usage: 14.632s, loss: 274.2006293683013, vec_loss [0.08318701 0.08026264]/0.081725\n",
            "Validation loss: 738.8330248878116 vec_loss: [0.08923912 0.09576292]/0.092501\n",
            "Reconstruct the validation trajectory and compute the ATE, RTE, PDE, and AYE\n",
            "ATE\tRTE\tPDE\tAYE\n",
            "1.9182137\t1.259758933023973\t0.036514476\t48.14415899788083\n"
          ]
        },
        {
          "output_type": "stream",
          "name": "stderr",
          "text": [
            "100%|██████████| 484/484 [00:14<00:00, 32.85it/s]\n"
          ]
        },
        {
          "output_type": "stream",
          "name": "stdout",
          "text": [
            "-------------------------\n",
            "Epoch 113, time usage: 14.736s, loss: 272.35678453681885, vec_loss [0.08174139 0.08037879]/0.081060\n",
            "Validation loss: 869.3335117158435 vec_loss: [0.07012421 0.08704428]/0.078584\n",
            "Reconstruct the validation trajectory and compute the ATE, RTE, PDE, and AYE\n",
            "ATE\tRTE\tPDE\tAYE\n",
            "1.6888787\t1.1496864774010398\t0.032018043\t49.405647126258\n"
          ]
        },
        {
          "output_type": "stream",
          "name": "stderr",
          "text": [
            "100%|██████████| 484/484 [00:14<00:00, 33.08it/s]\n"
          ]
        },
        {
          "output_type": "stream",
          "name": "stdout",
          "text": [
            "-------------------------\n",
            "Epoch 114, time usage: 14.636s, loss: 268.00855226753174, vec_loss [0.08152421 0.07978748]/0.080656\n",
            "Validation loss: 836.6995504470099 vec_loss: [0.07523851 0.09071201]/0.082975\n",
            "Reconstruct the validation trajectory and compute the ATE, RTE, PDE, and AYE\n",
            "ATE\tRTE\tPDE\tAYE\n",
            "1.5741467\t1.1432366100224582\t0.030969197\t48.69934937224959\n"
          ]
        },
        {
          "output_type": "stream",
          "name": "stderr",
          "text": [
            "100%|██████████| 484/484 [00:14<00:00, 33.05it/s]\n"
          ]
        },
        {
          "output_type": "stream",
          "name": "stdout",
          "text": [
            "-------------------------\n",
            "Epoch 115, time usage: 14.649s, loss: 269.89467690207744, vec_loss [0.08144275 0.07976294]/0.080603\n",
            "Validation loss: 847.6831512451172 vec_loss: [0.08546302 0.09342045]/0.089442\n",
            "Reconstruct the validation trajectory and compute the ATE, RTE, PDE, and AYE\n",
            "ATE\tRTE\tPDE\tAYE\n",
            "1.6026511\t1.119465860453519\t0.03225498\t48.720479804299615\n"
          ]
        },
        {
          "output_type": "stream",
          "name": "stderr",
          "text": [
            "100%|██████████| 484/484 [00:14<00:00, 32.55it/s]\n"
          ]
        },
        {
          "output_type": "stream",
          "name": "stdout",
          "text": [
            "-------------------------\n",
            "Epoch 116, time usage: 14.874s, loss: 273.8576233919002, vec_loss [0.08174723 0.08039891]/0.081073\n",
            "Validation loss: 876.8937465122768 vec_loss: [0.07574378 0.09026424]/0.083004\n",
            "Reconstruct the validation trajectory and compute the ATE, RTE, PDE, and AYE\n",
            "ATE\tRTE\tPDE\tAYE\n",
            "1.8192489\t1.2371976104649631\t0.033382796\t50.47045871563207\n"
          ]
        },
        {
          "output_type": "stream",
          "name": "stderr",
          "text": [
            "100%|██████████| 484/484 [00:14<00:00, 32.93it/s]\n"
          ]
        },
        {
          "output_type": "stream",
          "name": "stdout",
          "text": [
            "-------------------------\n",
            "Epoch 117, time usage: 14.700s, loss: 265.31591355505066, vec_loss [0.08146265 0.08041365]/0.080938\n",
            "Validation loss: 843.4497575305757 vec_loss: [0.07901903 0.09808226]/0.088551\n",
            "Reconstruct the validation trajectory and compute the ATE, RTE, PDE, and AYE\n",
            "ATE\tRTE\tPDE\tAYE\n",
            "1.486615\t1.0730341564525256\t0.028493112\t48.813260783521926\n"
          ]
        },
        {
          "output_type": "stream",
          "name": "stderr",
          "text": [
            "100%|██████████| 484/484 [00:14<00:00, 32.98it/s]\n"
          ]
        },
        {
          "output_type": "stream",
          "name": "stdout",
          "text": [
            "-------------------------\n",
            "Epoch 118, time usage: 14.682s, loss: 263.94849900174734, vec_loss [0.07913303 0.07951888]/0.079326\n",
            "Validation loss: 858.75475529262 vec_loss: [0.0751958  0.09326988]/0.084233\n",
            "Reconstruct the validation trajectory and compute the ATE, RTE, PDE, and AYE\n",
            "ATE\tRTE\tPDE\tAYE\n",
            "1.1913803\t1.0488141666759143\t0.019591438\t48.93002907664617\n"
          ]
        },
        {
          "output_type": "stream",
          "name": "stderr",
          "text": [
            "100%|██████████| 484/484 [00:14<00:00, 32.71it/s]\n"
          ]
        },
        {
          "output_type": "stream",
          "name": "stdout",
          "text": [
            "-------------------------\n",
            "Epoch 119, time usage: 14.803s, loss: 264.3535986971264, vec_loss [0.08145273 0.07989953]/0.080676\n",
            "Validation loss: 851.4305841355097 vec_loss: [0.08999592 0.11149824]/0.100747\n",
            "Reconstruct the validation trajectory and compute the ATE, RTE, PDE, and AYE\n",
            "ATE\tRTE\tPDE\tAYE\n",
            "1.9399395\t1.1576356291770935\t0.032196313\t51.032934418140094\n",
            "Model saved to /content/drive/MyDrive/ColabNotebooks/out/working/prediction_model/checkpoints/icheckpoint_119.pt\n"
          ]
        },
        {
          "output_type": "stream",
          "name": "stderr",
          "text": [
            "100%|██████████| 484/484 [00:14<00:00, 32.70it/s]\n"
          ]
        },
        {
          "output_type": "stream",
          "name": "stdout",
          "text": [
            "-------------------------\n",
            "Epoch 120, time usage: 14.806s, loss: 260.27491733456446, vec_loss [0.0812915  0.08018091]/0.080736\n",
            "Validation loss: 833.0599615914481 vec_loss: [0.08007258 0.09883902]/0.089456\n",
            "Reconstruct the validation trajectory and compute the ATE, RTE, PDE, and AYE\n",
            "ATE\tRTE\tPDE\tAYE\n",
            "1.647678\t1.1535519849170337\t0.03213882\t49.297496358624294\n"
          ]
        },
        {
          "output_type": "stream",
          "name": "stderr",
          "text": [
            "100%|██████████| 484/484 [00:14<00:00, 32.57it/s]\n"
          ]
        },
        {
          "output_type": "stream",
          "name": "stdout",
          "text": [
            "-------------------------\n",
            "Epoch 121, time usage: 14.866s, loss: 253.1084834957911, vec_loss [0.07976954 0.07832705]/0.079048\n",
            "Validation loss: 767.147809346517 vec_loss: [0.07955579 0.09478283]/0.087169\n",
            "Epoch 00122: reducing learning rate of group 0 to 3.1641e-04.\n",
            "Reconstruct the validation trajectory and compute the ATE, RTE, PDE, and AYE\n",
            "ATE\tRTE\tPDE\tAYE\n",
            "1.4825019\t1.1137400513345546\t0.027342744\t48.141871815898305\n"
          ]
        },
        {
          "output_type": "stream",
          "name": "stderr",
          "text": [
            "100%|██████████| 484/484 [00:14<00:00, 32.39it/s]\n"
          ]
        },
        {
          "output_type": "stream",
          "name": "stdout",
          "text": [
            "-------------------------\n",
            "Epoch 122, time usage: 14.948s, loss: 243.34154882509847, vec_loss [0.07981651 0.07689434]/0.078355\n",
            "Validation loss: 839.1111610049293 vec_loss: [0.07907198 0.09771091]/0.088391\n",
            "Reconstruct the validation trajectory and compute the ATE, RTE, PDE, and AYE\n",
            "ATE\tRTE\tPDE\tAYE\n",
            "1.3507333\t1.0883743979714133\t0.025589257\t48.951027251396795\n"
          ]
        },
        {
          "output_type": "stream",
          "name": "stderr",
          "text": [
            "100%|██████████| 484/484 [00:14<00:00, 32.77it/s]\n"
          ]
        },
        {
          "output_type": "stream",
          "name": "stdout",
          "text": [
            "-------------------------\n",
            "Epoch 123, time usage: 14.777s, loss: 242.17456637926338, vec_loss [0.07876801 0.07745969]/0.078114\n",
            "Validation loss: 804.9075669788178 vec_loss: [0.07738647 0.09427897]/0.085833\n",
            "Reconstruct the validation trajectory and compute the ATE, RTE, PDE, and AYE\n",
            "ATE\tRTE\tPDE\tAYE\n",
            "1.4721993\t1.1141613071615046\t0.028443987\t48.865283540261615\n"
          ]
        },
        {
          "output_type": "stream",
          "name": "stderr",
          "text": [
            "100%|██████████| 484/484 [00:14<00:00, 32.65it/s]\n"
          ]
        },
        {
          "output_type": "stream",
          "name": "stdout",
          "text": [
            "-------------------------\n",
            "Epoch 124, time usage: 14.826s, loss: 239.62023088754702, vec_loss [0.0777176  0.07682893]/0.077273\n",
            "Validation loss: 846.8177755446661 vec_loss: [0.0750268  0.09377953]/0.084403\n",
            "Reconstruct the validation trajectory and compute the ATE, RTE, PDE, and AYE\n",
            "ATE\tRTE\tPDE\tAYE\n",
            "1.4757257\t1.1163831407373601\t0.024996297\t48.519156563418896\n"
          ]
        },
        {
          "output_type": "stream",
          "name": "stderr",
          "text": [
            "100%|██████████| 484/484 [00:14<00:00, 33.13it/s]\n"
          ]
        },
        {
          "output_type": "stream",
          "name": "stdout",
          "text": [
            "-------------------------\n",
            "Epoch 125, time usage: 14.611s, loss: 238.6152524711672, vec_loss [0.07905816 0.07742082]/0.078239\n",
            "Validation loss: 850.7602960495722 vec_loss: [0.08455954 0.09967704]/0.092118\n",
            "Reconstruct the validation trajectory and compute the ATE, RTE, PDE, and AYE\n",
            "ATE\tRTE\tPDE\tAYE\n",
            "2.2626145\t1.241433783011003\t0.045833945\t48.35241550169539\n"
          ]
        },
        {
          "output_type": "stream",
          "name": "stderr",
          "text": [
            "100%|██████████| 484/484 [00:14<00:00, 33.09it/s]\n"
          ]
        },
        {
          "output_type": "stream",
          "name": "stdout",
          "text": [
            "-------------------------\n",
            "Epoch 126, time usage: 14.633s, loss: 237.987485727988, vec_loss [0.07992022 0.07775176]/0.078836\n",
            "Validation loss: 827.7026650565011 vec_loss: [0.08431546 0.10226107]/0.093288\n",
            "Reconstruct the validation trajectory and compute the ATE, RTE, PDE, and AYE\n",
            "ATE\tRTE\tPDE\tAYE\n",
            "1.4341916\t1.0677617896686902\t0.02646294\t48.08805489264892\n"
          ]
        },
        {
          "output_type": "stream",
          "name": "stderr",
          "text": [
            "100%|██████████| 484/484 [00:14<00:00, 32.76it/s]\n"
          ]
        },
        {
          "output_type": "stream",
          "name": "stdout",
          "text": [
            "-------------------------\n",
            "Epoch 127, time usage: 14.780s, loss: 234.80153760043058, vec_loss [0.07867604 0.07777701]/0.078227\n",
            "Validation loss: 795.4303999401275 vec_loss: [0.07622503 0.09995504]/0.088090\n",
            "Reconstruct the validation trajectory and compute the ATE, RTE, PDE, and AYE\n",
            "ATE\tRTE\tPDE\tAYE\n",
            "2.043402\t1.2222556580196728\t0.035094373\t50.080435354846266\n"
          ]
        },
        {
          "output_type": "stream",
          "name": "stderr",
          "text": [
            "100%|██████████| 484/484 [00:14<00:00, 32.54it/s]\n"
          ]
        },
        {
          "output_type": "stream",
          "name": "stdout",
          "text": [
            "-------------------------\n",
            "Epoch 128, time usage: 14.879s, loss: 232.5237015968512, vec_loss [0.07745362 0.07684547]/0.077150\n",
            "Validation loss: 826.9491199311756 vec_loss: [0.08340368 0.1004613 ]/0.091932\n",
            "Reconstruct the validation trajectory and compute the ATE, RTE, PDE, and AYE\n",
            "ATE\tRTE\tPDE\tAYE\n",
            "1.7192711\t1.1654029867865823\t0.033838477\t48.51839654964217\n"
          ]
        },
        {
          "output_type": "stream",
          "name": "stderr",
          "text": [
            "100%|██████████| 484/484 [00:14<00:00, 32.56it/s]\n"
          ]
        },
        {
          "output_type": "stream",
          "name": "stdout",
          "text": [
            "-------------------------\n",
            "Epoch 129, time usage: 14.868s, loss: 238.96055041857002, vec_loss [0.07818139 0.07712171]/0.077652\n",
            "Validation loss: 782.9398331415085 vec_loss: [0.07674483 0.09185039]/0.084298\n",
            "Reconstruct the validation trajectory and compute the ATE, RTE, PDE, and AYE\n",
            "ATE\tRTE\tPDE\tAYE\n",
            "1.1423436\t1.0175343914465471\t0.018242696\t47.63033845838856\n"
          ]
        },
        {
          "output_type": "stream",
          "name": "stderr",
          "text": [
            "100%|██████████| 484/484 [00:14<00:00, 32.62it/s]\n"
          ]
        },
        {
          "output_type": "stream",
          "name": "stdout",
          "text": [
            "-------------------------\n",
            "Epoch 130, time usage: 14.843s, loss: 230.34646237586156, vec_loss [0.07821099 0.07671598]/0.077463\n",
            "Validation loss: 840.4531124659946 vec_loss: [0.08126992 0.097693  ]/0.089481\n",
            "Reconstruct the validation trajectory and compute the ATE, RTE, PDE, and AYE\n",
            "ATE\tRTE\tPDE\tAYE\n",
            "2.051772\t1.212151977148923\t0.03952648\t46.828798683814625\n"
          ]
        },
        {
          "output_type": "stream",
          "name": "stderr",
          "text": [
            "100%|██████████| 484/484 [00:14<00:00, 32.54it/s]\n"
          ]
        },
        {
          "output_type": "stream",
          "name": "stdout",
          "text": [
            "-------------------------\n",
            "Epoch 131, time usage: 14.879s, loss: 227.08124044118833, vec_loss [0.07741294 0.07525404]/0.076333\n",
            "Validation loss: 802.5998389834449 vec_loss: [0.08135932 0.09815122]/0.089755\n",
            "Reconstruct the validation trajectory and compute the ATE, RTE, PDE, and AYE\n",
            "ATE\tRTE\tPDE\tAYE\n",
            "1.9538932\t1.1950996789065274\t0.034037467\t48.903178050703126\n"
          ]
        },
        {
          "output_type": "stream",
          "name": "stderr",
          "text": [
            "100%|██████████| 484/484 [00:14<00:00, 32.27it/s]\n"
          ]
        },
        {
          "output_type": "stream",
          "name": "stdout",
          "text": [
            "-------------------------\n",
            "Epoch 132, time usage: 15.001s, loss: 230.0139212332481, vec_loss [0.07879385 0.07626925]/0.077532\n",
            "Validation loss: 840.6306929815383 vec_loss: [0.08038362 0.0967924 ]/0.088588\n",
            "Epoch 00133: reducing learning rate of group 0 to 2.3730e-04.\n",
            "Reconstruct the validation trajectory and compute the ATE, RTE, PDE, and AYE\n",
            "ATE\tRTE\tPDE\tAYE\n",
            "1.7646502\t1.1314500895413486\t0.031638987\t49.012020840685004\n"
          ]
        },
        {
          "output_type": "stream",
          "name": "stderr",
          "text": [
            "100%|██████████| 484/484 [00:14<00:00, 32.96it/s]\n"
          ]
        },
        {
          "output_type": "stream",
          "name": "stdout",
          "text": [
            "-------------------------\n",
            "Epoch 133, time usage: 14.690s, loss: 219.77623802374217, vec_loss [0.07687637 0.07530403]/0.076090\n",
            "Validation loss: 841.4003463018508 vec_loss: [0.08413013 0.09518774]/0.089659\n",
            "Reconstruct the validation trajectory and compute the ATE, RTE, PDE, and AYE\n",
            "ATE\tRTE\tPDE\tAYE\n",
            "1.2635201\t1.0446890592575073\t0.021581436\t48.42930915044511\n"
          ]
        },
        {
          "output_type": "stream",
          "name": "stderr",
          "text": [
            "100%|██████████| 484/484 [00:14<00:00, 32.88it/s]\n"
          ]
        },
        {
          "output_type": "stream",
          "name": "stdout",
          "text": [
            "-------------------------\n",
            "Epoch 134, time usage: 14.725s, loss: 218.11783336607877, vec_loss [0.07686035 0.07541678]/0.076139\n",
            "Validation loss: 796.2480813889276 vec_loss: [0.07517715 0.08889145]/0.082034\n",
            "Reconstruct the validation trajectory and compute the ATE, RTE, PDE, and AYE\n",
            "ATE\tRTE\tPDE\tAYE\n",
            "1.2532902\t1.0228353467854587\t0.023004351\t47.93530423158761\n"
          ]
        },
        {
          "output_type": "stream",
          "name": "stderr",
          "text": [
            "100%|██████████| 484/484 [00:14<00:00, 32.72it/s]\n"
          ]
        },
        {
          "output_type": "stream",
          "name": "stdout",
          "text": [
            "-------------------------\n",
            "Epoch 135, time usage: 14.797s, loss: 215.05513910025604, vec_loss [0.07604612 0.07496928]/0.075508\n",
            "Validation loss: 780.4802118937174 vec_loss: [0.07594054 0.09079789]/0.083369\n",
            "Reconstruct the validation trajectory and compute the ATE, RTE, PDE, and AYE\n",
            "ATE\tRTE\tPDE\tAYE\n",
            "1.1887355\t1.0646525485949083\t0.022194311\t48.7303671240495\n"
          ]
        },
        {
          "output_type": "stream",
          "name": "stderr",
          "text": [
            "100%|██████████| 484/484 [00:14<00:00, 32.74it/s]\n"
          ]
        },
        {
          "output_type": "stream",
          "name": "stdout",
          "text": [
            "-------------------------\n",
            "Epoch 136, time usage: 14.788s, loss: 215.5276743045523, vec_loss [0.07675872 0.07547612]/0.076117\n",
            "Validation loss: 799.1545415605817 vec_loss: [0.07323328 0.08609325]/0.079663\n",
            "Reconstruct the validation trajectory and compute the ATE, RTE, PDE, and AYE\n",
            "ATE\tRTE\tPDE\tAYE\n",
            "1.5734767\t1.023123719475486\t0.030463321\t47.68158164217343\n"
          ]
        },
        {
          "output_type": "stream",
          "name": "stderr",
          "text": [
            "100%|██████████| 484/484 [00:14<00:00, 32.73it/s]\n"
          ]
        },
        {
          "output_type": "stream",
          "name": "stdout",
          "text": [
            "-------------------------\n",
            "Epoch 137, time usage: 14.795s, loss: 216.0241760380012, vec_loss [0.07631106 0.07436921]/0.075340\n",
            "Validation loss: 808.9047597249349 vec_loss: [0.07476705 0.0894371 ]/0.082102\n",
            "Reconstruct the validation trajectory and compute the ATE, RTE, PDE, and AYE\n",
            "ATE\tRTE\tPDE\tAYE\n",
            "1.26797\t1.0144291520118713\t0.02374959\t48.423905849885344\n"
          ]
        },
        {
          "output_type": "stream",
          "name": "stderr",
          "text": [
            "100%|██████████| 484/484 [00:14<00:00, 32.82it/s]\n"
          ]
        },
        {
          "output_type": "stream",
          "name": "stdout",
          "text": [
            "-------------------------\n",
            "Epoch 138, time usage: 14.754s, loss: 211.5967551932847, vec_loss [0.07581245 0.073557  ]/0.074685\n",
            "Validation loss: 812.736989520845 vec_loss: [0.07620158 0.09061115]/0.083406\n",
            "Reconstruct the validation trajectory and compute the ATE, RTE, PDE, and AYE\n",
            "ATE\tRTE\tPDE\tAYE\n",
            "1.9933769\t1.1774923205375671\t0.038061567\t47.19319113881366\n"
          ]
        },
        {
          "output_type": "stream",
          "name": "stderr",
          "text": [
            "100%|██████████| 484/484 [00:14<00:00, 32.59it/s]\n"
          ]
        },
        {
          "output_type": "stream",
          "name": "stdout",
          "text": [
            "-------------------------\n",
            "Epoch 139, time usage: 14.854s, loss: 210.61435585967766, vec_loss [0.07498959 0.07313094]/0.074060\n",
            "Validation loss: 825.8350292387463 vec_loss: [0.08773214 0.09750249]/0.092617\n",
            "Reconstruct the validation trajectory and compute the ATE, RTE, PDE, and AYE\n",
            "ATE\tRTE\tPDE\tAYE\n",
            "1.6592113\t1.1290253373709591\t0.03361793\t47.79173427616022\n",
            "Model saved to /content/drive/MyDrive/ColabNotebooks/out/working/prediction_model/checkpoints/icheckpoint_139.pt\n"
          ]
        },
        {
          "output_type": "stream",
          "name": "stderr",
          "text": [
            "100%|██████████| 484/484 [00:14<00:00, 33.07it/s]\n"
          ]
        },
        {
          "output_type": "stream",
          "name": "stdout",
          "text": [
            "-------------------------\n",
            "Epoch 140, time usage: 14.640s, loss: 209.6457461995527, vec_loss [0.07381058 0.07360949]/0.073710\n",
            "Validation loss: 886.3613117762974 vec_loss: [0.07090273 0.08594877]/0.078426\n",
            "Reconstruct the validation trajectory and compute the ATE, RTE, PDE, and AYE\n",
            "ATE\tRTE\tPDE\tAYE\n",
            "1.1658231\t0.9949472085996107\t0.016691016\t48.94952305746367\n"
          ]
        },
        {
          "output_type": "stream",
          "name": "stderr",
          "text": [
            "100%|██████████| 484/484 [00:14<00:00, 32.59it/s]\n"
          ]
        },
        {
          "output_type": "stream",
          "name": "stdout",
          "text": [
            "-------------------------\n",
            "Epoch 141, time usage: 14.854s, loss: 214.59142443759382, vec_loss [0.07703058 0.07512885]/0.076080\n",
            "Validation loss: 809.4507885887509 vec_loss: [0.07805875 0.09365787]/0.085858\n",
            "Reconstruct the validation trajectory and compute the ATE, RTE, PDE, and AYE\n",
            "ATE\tRTE\tPDE\tAYE\n",
            "1.4546665\t1.0302851714871146\t0.027895903\t47.65501282722837\n"
          ]
        },
        {
          "output_type": "stream",
          "name": "stderr",
          "text": [
            "100%|██████████| 484/484 [00:14<00:00, 32.39it/s]\n"
          ]
        },
        {
          "output_type": "stream",
          "name": "stdout",
          "text": [
            "-------------------------\n",
            "Epoch 142, time usage: 14.946s, loss: 205.8827073278506, vec_loss [0.07514529 0.07409911]/0.074622\n",
            "Validation loss: 795.2832347324917 vec_loss: [0.07195335 0.08951274]/0.080733\n",
            "Reconstruct the validation trajectory and compute the ATE, RTE, PDE, and AYE\n",
            "ATE\tRTE\tPDE\tAYE\n",
            "1.536584\t1.0896422808820552\t0.029751211\t46.69803253891273\n"
          ]
        },
        {
          "output_type": "stream",
          "name": "stderr",
          "text": [
            "100%|██████████| 484/484 [00:14<00:00, 32.56it/s]\n"
          ]
        },
        {
          "output_type": "stream",
          "name": "stdout",
          "text": [
            "-------------------------\n",
            "Epoch 143, time usage: 14.870s, loss: 205.32235355219566, vec_loss [0.07485264 0.07474585]/0.074799\n",
            "Validation loss: 779.5668398539225 vec_loss: [0.07943976 0.09324015]/0.086340\n",
            "Epoch 00144: reducing learning rate of group 0 to 1.7798e-04.\n",
            "Reconstruct the validation trajectory and compute the ATE, RTE, PDE, and AYE\n",
            "ATE\tRTE\tPDE\tAYE\n",
            "1.0189713\t0.9832066785205494\t0.01693774\t47.57365533939289\n"
          ]
        },
        {
          "output_type": "stream",
          "name": "stderr",
          "text": [
            "100%|██████████| 484/484 [00:14<00:00, 32.52it/s]\n"
          ]
        },
        {
          "output_type": "stream",
          "name": "stdout",
          "text": [
            "-------------------------\n",
            "Epoch 144, time usage: 14.887s, loss: 205.72540508617055, vec_loss [0.07640126 0.07454728]/0.075474\n",
            "Validation loss: 794.517072405134 vec_loss: [0.07621621 0.09248379]/0.084350\n",
            "Reconstruct the validation trajectory and compute the ATE, RTE, PDE, and AYE\n",
            "ATE\tRTE\tPDE\tAYE\n",
            "1.3338554\t1.0565293675119227\t0.02582956\t47.409519684374615\n"
          ]
        },
        {
          "output_type": "stream",
          "name": "stderr",
          "text": [
            "100%|██████████| 484/484 [00:14<00:00, 32.83it/s]\n"
          ]
        },
        {
          "output_type": "stream",
          "name": "stdout",
          "text": [
            "-------------------------\n",
            "Epoch 145, time usage: 14.746s, loss: 200.6781418697893, vec_loss [0.07466937 0.07429902]/0.074484\n",
            "Validation loss: 787.897784096854 vec_loss: [0.07459617 0.09050177]/0.082549\n",
            "Reconstruct the validation trajectory and compute the ATE, RTE, PDE, and AYE\n",
            "ATE\tRTE\tPDE\tAYE\n",
            "1.0412403\t0.9732892513275146\t0.018652149\t47.473998843381544\n"
          ]
        },
        {
          "output_type": "stream",
          "name": "stderr",
          "text": [
            "100%|██████████| 484/484 [00:14<00:00, 32.81it/s]\n"
          ]
        },
        {
          "output_type": "stream",
          "name": "stdout",
          "text": [
            "-------------------------\n",
            "Epoch 146, time usage: 14.756s, loss: 199.33203749223188, vec_loss [0.07618358 0.07412705]/0.075155\n",
            "Validation loss: 793.3563657488141 vec_loss: [0.07723652 0.09139782]/0.084317\n",
            "Reconstruct the validation trajectory and compute the ATE, RTE, PDE, and AYE\n",
            "ATE\tRTE\tPDE\tAYE\n",
            "1.1652275\t0.9963513179258867\t0.021210859\t47.05413500703824\n"
          ]
        },
        {
          "output_type": "stream",
          "name": "stderr",
          "text": [
            "100%|██████████| 484/484 [00:14<00:00, 32.64it/s]\n"
          ]
        },
        {
          "output_type": "stream",
          "name": "stdout",
          "text": [
            "-------------------------\n",
            "Epoch 147, time usage: 14.836s, loss: 197.35420900139925, vec_loss [0.07437666 0.07266647]/0.073522\n",
            "Validation loss: 762.0697966076079 vec_loss: [0.07778112 0.09524151]/0.086511\n",
            "Reconstruct the validation trajectory and compute the ATE, RTE, PDE, and AYE\n",
            "ATE\tRTE\tPDE\tAYE\n",
            "1.3673062\t1.0468673272566362\t0.02468226\t48.08557336073819\n"
          ]
        },
        {
          "output_type": "stream",
          "name": "stderr",
          "text": [
            "100%|██████████| 484/484 [00:14<00:00, 32.62it/s]\n"
          ]
        },
        {
          "output_type": "stream",
          "name": "stdout",
          "text": [
            "-------------------------\n",
            "Epoch 148, time usage: 14.842s, loss: 197.33533465172633, vec_loss [0.0747766  0.07292187]/0.073849\n",
            "Validation loss: 749.4926950363886 vec_loss: [0.07261117 0.09147649]/0.082044\n",
            "Reconstruct the validation trajectory and compute the ATE, RTE, PDE, and AYE\n",
            "ATE\tRTE\tPDE\tAYE\n",
            "1.1407638\t1.0203043655915693\t0.020994721\t47.270383763571154\n"
          ]
        },
        {
          "output_type": "stream",
          "name": "stderr",
          "text": [
            "100%|██████████| 484/484 [00:14<00:00, 32.50it/s]\n"
          ]
        },
        {
          "output_type": "stream",
          "name": "stdout",
          "text": [
            "-------------------------\n",
            "Epoch 149, time usage: 14.895s, loss: 199.32048893763013, vec_loss [0.07348505 0.07305236]/0.073269\n",
            "Validation loss: 807.974243527367 vec_loss: [0.08078028 0.09391274]/0.087347\n",
            "Reconstruct the validation trajectory and compute the ATE, RTE, PDE, and AYE\n",
            "ATE\tRTE\tPDE\tAYE\n",
            "1.9695786\t1.1752062385732478\t0.03904834\t46.66415914711347\n",
            "Training completed\n"
          ]
        }
      ]
    },
    {
      "cell_type": "code",
      "source": [
        "import torch\n",
        "torch.cuda.is_available()"
      ],
      "metadata": {
        "colab": {
          "base_uri": "https://localhost:8080/"
        },
        "id": "2ezA1N3DPTS6",
        "outputId": "b7d28575-3d0b-40dd-9c71-8f7809ee2e1a"
      },
      "execution_count": null,
      "outputs": [
        {
          "output_type": "execute_result",
          "data": {
            "text/plain": [
              "True"
            ]
          },
          "metadata": {},
          "execution_count": 14
        }
      ]
    },
    {
      "cell_type": "code",
      "source": [
        "# Check Saved Checkpoints\n",
        "# Define the directory path\n",
        "dir_path = r'/content/drive/MyDrive/ColabNotebooks/out/working/prediction_model/checkpoints'\n",
        "\n",
        "# Loop over all files in the directory\n",
        "for filename in os.listdir(dir_path):\n",
        "    # Check if the file is a regular file (not a directory)\n",
        "    if os.path.isfile(os.path.join(dir_path, filename)):\n",
        "        # Do something with the file\n",
        "        print(filename)"
      ],
      "metadata": {
        "execution": {
          "iopub.status.busy": "2023-10-10T12:57:26.779225Z",
          "iopub.execute_input": "2023-10-10T12:57:26.779618Z",
          "iopub.status.idle": "2023-10-10T12:57:26.786913Z",
          "shell.execute_reply.started": "2023-10-10T12:57:26.779592Z",
          "shell.execute_reply": "2023-10-10T12:57:26.786031Z"
        },
        "trusted": true,
        "id": "N4DV7XDzLC-1",
        "colab": {
          "base_uri": "https://localhost:8080/"
        },
        "outputId": "b19bf803-a7e7-47ce-e428-5cbea0204ad7"
      },
      "execution_count": null,
      "outputs": [
        {
          "output_type": "stream",
          "name": "stdout",
          "text": [
            "checkpoint_0.pt\n",
            "checkpoint_1.pt\n",
            "checkpoint_2.pt\n",
            "checkpoint_3.pt\n",
            "checkpoint_5.pt\n",
            "checkpoint_8.pt\n",
            "checkpoint_10.pt\n",
            "checkpoint_12.pt\n",
            "checkpoint_13.pt\n",
            "checkpoint_17.pt\n",
            "icheckpoint_19.pt\n",
            "checkpoint_24.pt\n",
            "checkpoint_26.pt\n",
            "checkpoint_28.pt\n",
            "checkpoint_31.pt\n",
            "checkpoint_37.pt\n",
            "checkpoint_38.pt\n",
            "icheckpoint_39.pt\n",
            "checkpoint_45.pt\n",
            "checkpoint_49.pt\n",
            "checkpoint_52.pt\n",
            "checkpoint_59.pt\n",
            "checkpoint_62.pt\n",
            "checkpoint_76.pt\n",
            "icheckpoint_79.pt\n",
            "checkpoint_80.pt\n",
            "checkpoint_82.pt\n",
            "checkpoint_99.pt\n",
            "icheckpoint_119.pt\n",
            "icheckpoint_139.pt\n",
            "checkpoint_latest.pt\n"
          ]
        }
      ]
    },
    {
      "cell_type": "markdown",
      "source": [
        "Download the checkpoints."
      ],
      "metadata": {
        "id": "licUdpT0LC-2"
      }
    },
    {
      "cell_type": "code",
      "source": [
        "!zip -r /content/drive/MyDrive/ColabNotebooks/out/checkpoints.zip /content/drive/MyDrive/ColabNotebooks/out/working/prediction_model"
      ],
      "metadata": {
        "execution": {
          "iopub.status.busy": "2023-10-10T12:47:51.224730Z",
          "iopub.execute_input": "2023-10-10T12:47:51.225081Z",
          "iopub.status.idle": "2023-10-10T12:47:58.520725Z",
          "shell.execute_reply.started": "2023-10-10T12:47:51.225053Z",
          "shell.execute_reply": "2023-10-10T12:47:58.519550Z"
        },
        "trusted": true,
        "colab": {
          "base_uri": "https://localhost:8080/"
        },
        "id": "j1_oVdn7LC-2",
        "outputId": "eaec4e9a-c193-4c4b-e49d-ae6266d7ac5c"
      },
      "execution_count": null,
      "outputs": [
        {
          "output_type": "stream",
          "name": "stdout",
          "text": [
            "  adding: content/drive/MyDrive/ColabNotebooks/out/working/prediction_model/ (stored 0%)\n",
            "  adding: content/drive/MyDrive/ColabNotebooks/out/working/prediction_model/checkpoints/ (stored 0%)\n",
            "  adding: content/drive/MyDrive/ColabNotebooks/out/working/prediction_model/checkpoints/checkpoint_0.pt (deflated 7%)\n",
            "  adding: content/drive/MyDrive/ColabNotebooks/out/working/prediction_model/checkpoints/checkpoint_1.pt (deflated 7%)\n",
            "  adding: content/drive/MyDrive/ColabNotebooks/out/working/prediction_model/checkpoints/checkpoint_2.pt (deflated 7%)\n",
            "  adding: content/drive/MyDrive/ColabNotebooks/out/working/prediction_model/checkpoints/checkpoint_3.pt (deflated 7%)\n",
            "  adding: content/drive/MyDrive/ColabNotebooks/out/working/prediction_model/checkpoints/checkpoint_5.pt (deflated 7%)\n",
            "  adding: content/drive/MyDrive/ColabNotebooks/out/working/prediction_model/checkpoints/checkpoint_8.pt (deflated 7%)\n",
            "  adding: content/drive/MyDrive/ColabNotebooks/out/working/prediction_model/checkpoints/checkpoint_10.pt (deflated 7%)\n",
            "  adding: content/drive/MyDrive/ColabNotebooks/out/working/prediction_model/checkpoints/checkpoint_12.pt (deflated 7%)\n",
            "  adding: content/drive/MyDrive/ColabNotebooks/out/working/prediction_model/checkpoints/checkpoint_13.pt (deflated 7%)\n",
            "  adding: content/drive/MyDrive/ColabNotebooks/out/working/prediction_model/checkpoints/checkpoint_17.pt (deflated 7%)\n",
            "  adding: content/drive/MyDrive/ColabNotebooks/out/working/prediction_model/checkpoints/icheckpoint_19.pt (deflated 7%)\n",
            "  adding: content/drive/MyDrive/ColabNotebooks/out/working/prediction_model/checkpoints/checkpoint_24.pt (deflated 7%)\n",
            "  adding: content/drive/MyDrive/ColabNotebooks/out/working/prediction_model/checkpoints/checkpoint_26.pt (deflated 7%)\n",
            "  adding: content/drive/MyDrive/ColabNotebooks/out/working/prediction_model/checkpoints/checkpoint_28.pt (deflated 7%)\n",
            "  adding: content/drive/MyDrive/ColabNotebooks/out/working/prediction_model/checkpoints/checkpoint_31.pt (deflated 7%)\n",
            "  adding: content/drive/MyDrive/ColabNotebooks/out/working/prediction_model/checkpoints/checkpoint_37.pt (deflated 7%)\n",
            "  adding: content/drive/MyDrive/ColabNotebooks/out/working/prediction_model/checkpoints/checkpoint_38.pt (deflated 7%)\n",
            "  adding: content/drive/MyDrive/ColabNotebooks/out/working/prediction_model/checkpoints/icheckpoint_39.pt (deflated 7%)\n",
            "  adding: content/drive/MyDrive/ColabNotebooks/out/working/prediction_model/checkpoints/checkpoint_45.pt (deflated 7%)\n",
            "  adding: content/drive/MyDrive/ColabNotebooks/out/working/prediction_model/checkpoints/checkpoint_49.pt (deflated 7%)\n",
            "  adding: content/drive/MyDrive/ColabNotebooks/out/working/prediction_model/checkpoints/checkpoint_52.pt (deflated 7%)\n",
            "  adding: content/drive/MyDrive/ColabNotebooks/out/working/prediction_model/checkpoints/checkpoint_59.pt (deflated 7%)\n",
            "  adding: content/drive/MyDrive/ColabNotebooks/out/working/prediction_model/checkpoints/checkpoint_62.pt (deflated 7%)\n",
            "  adding: content/drive/MyDrive/ColabNotebooks/out/working/prediction_model/checkpoints/checkpoint_76.pt (deflated 7%)\n",
            "  adding: content/drive/MyDrive/ColabNotebooks/out/working/prediction_model/checkpoints/icheckpoint_79.pt (deflated 7%)\n",
            "  adding: content/drive/MyDrive/ColabNotebooks/out/working/prediction_model/checkpoints/checkpoint_80.pt (deflated 7%)\n",
            "  adding: content/drive/MyDrive/ColabNotebooks/out/working/prediction_model/checkpoints/checkpoint_82.pt (deflated 7%)\n",
            "  adding: content/drive/MyDrive/ColabNotebooks/out/working/prediction_model/checkpoints/checkpoint_99.pt (deflated 7%)\n",
            "  adding: content/drive/MyDrive/ColabNotebooks/out/working/prediction_model/checkpoints/icheckpoint_119.pt (deflated 7%)\n",
            "  adding: content/drive/MyDrive/ColabNotebooks/out/working/prediction_model/checkpoints/icheckpoint_139.pt (deflated 7%)\n",
            "  adding: content/drive/MyDrive/ColabNotebooks/out/working/prediction_model/checkpoints/checkpoint_latest.pt (deflated 7%)\n"
          ]
        }
      ]
    },
    {
      "cell_type": "code",
      "source": [
        "from IPython.display import FileLink\n",
        "FileLink(r'/content/drive/MyDrive/ColabNotebooks/out/checkpoints.zip')"
      ],
      "metadata": {
        "execution": {
          "iopub.status.busy": "2023-10-10T12:48:34.136079Z",
          "iopub.execute_input": "2023-10-10T12:48:34.136453Z",
          "iopub.status.idle": "2023-10-10T12:48:34.145241Z",
          "shell.execute_reply.started": "2023-10-10T12:48:34.136421Z",
          "shell.execute_reply": "2023-10-10T12:48:34.144215Z"
        },
        "trusted": true,
        "colab": {
          "base_uri": "https://localhost:8080/",
          "height": 34
        },
        "id": "pe9O53MMLC-2",
        "outputId": "61f7e1f4-af06-4b55-dfe8-0da500041c07"
      },
      "execution_count": null,
      "outputs": [
        {
          "output_type": "execute_result",
          "data": {
            "text/plain": [
              "/content/drive/MyDrive/ColabNotebooks/out/checkpoints.zip"
            ],
            "text/html": [
              "<a href='/content/drive/MyDrive/ColabNotebooks/out/checkpoints.zip' target='_blank'>/content/drive/MyDrive/ColabNotebooks/out/checkpoints.zip</a><br>"
            ]
          },
          "metadata": {},
          "execution_count": 27
        }
      ]
    },
    {
      "cell_type": "markdown",
      "source": [
        "### 8. Testing"
      ],
      "metadata": {
        "id": "mX0MisXoLC-2"
      }
    },
    {
      "cell_type": "markdown",
      "source": [
        "#### 8.1 Test for Seen Dataset"
      ],
      "metadata": {
        "id": "5SsFlnvtLC-2"
      }
    },
    {
      "cell_type": "code",
      "source": [
        "# Please change the output dir & model path\n",
        "TEST_DIR = r'/content/drive/MyDrive/ColabNotebooks/original_data/test_seen' # Dataset directory for testing (unseen_subjects_test_set)\n",
        "OUT_DIR = r'/content/drive/MyDrive/ColabNotebooks/out/working/test_results/test_seen' # Output directory for both traning and testing\n",
        "MODEL_PATH = r'/content/drive/MyDrive/ColabNotebooks/out/working/prediction_model/checkpoints/checkpoint_latest.pt' # Model path for testing\n",
        "# Load config settings\n",
        "kwargs = load_config()\n",
        "\n",
        "import warnings\n",
        "# Suspend warnings\n",
        "warnings.filterwarnings('ignore')\n",
        "test(**kwargs)"
      ],
      "metadata": {
        "execution": {
          "iopub.status.busy": "2023-10-10T12:49:50.035055Z",
          "iopub.execute_input": "2023-10-10T12:49:50.035416Z",
          "iopub.status.idle": "2023-10-10T12:49:50.040130Z",
          "shell.execute_reply.started": "2023-10-10T12:49:50.035388Z",
          "shell.execute_reply": "2023-10-10T12:49:50.038991Z"
        },
        "trusted": true,
        "colab": {
          "base_uri": "https://localhost:8080/"
        },
        "id": "KYiMbBO8LC-2",
        "outputId": "5ed95b75-a174-48b2-810e-a678957f7637"
      },
      "execution_count": null,
      "outputs": [
        {
          "output_type": "stream",
          "name": "stdout",
          "text": [
            "Testing LSTM model\n",
            "LSTM model\n",
            "Network constructed. trainable parameters: 444632\n",
            "The model is loaded.\n",
            "Model /content/drive/MyDrive/ColabNotebooks/out/working/prediction_model/checkpoints/checkpoint_latest.pt loaded to device cuda:0.\n",
            "Reconstruct the tracermini_hw101_test20230311112635T\n",
            "Reconstruct the tracermini_hw101_test20230313011731T\n",
            "Reconstruct the tracermini_hw101_test20230313010204T\n",
            "Reconstruct the tracermini_hw101_test20230311112235T\n",
            "Reconstruct the tracermini_hw101_test20230313010546T\n",
            "Reconstruct the tracermini_hw101_test20230313011357T\n",
            "Reconstruct the tracermini_hw101_test20230311111842T\n",
            "Reconstruct the tracermini_hw101_test20230311111507T\n",
            "Reconstruct the tracermini_hw101_test20230313010954T\n",
            "Reconstruct the tracermini_hw101_test20230311111027T\n",
            "Reconstruct the tracermini_hw101_test20230313013335T\n",
            "Reconstruct the tracermini_hw101_test20230313012956T\n"
          ]
        }
      ]
    },
    {
      "cell_type": "markdown",
      "source": [
        "#### 8.2 Test for Unseen Dataset"
      ],
      "metadata": {
        "id": "8qh0D9NuLC-2"
      }
    },
    {
      "cell_type": "code",
      "source": [
        "# Please change the output dir & model path\n",
        "TEST_DIR = '/content/drive/MyDrive/ColabNotebooks/original_data/test_unseen' # Dataset directory for testing (unseen_subjects_test_set)\n",
        "OUT_DIR = '/content/drive/MyDrive/ColabNotebooks/out/working/test_results/test_unseen' # Output directory for both traning and testing\n",
        "MODEL_PATH = '/content/drive/MyDrive/ColabNotebooks/out/working/prediction_model/checkpoints/checkpoint_latest.pt' # Model path for testing\n",
        "# Load config settings\n",
        "kwargs = load_config()\n",
        "import warnings\n",
        "# Suspend warnings\n",
        "warnings.filterwarnings('ignore')\n",
        "test(**kwargs)"
      ],
      "metadata": {
        "execution": {
          "iopub.status.busy": "2023-10-10T12:50:14.335907Z",
          "iopub.execute_input": "2023-10-10T12:50:14.336590Z",
          "iopub.status.idle": "2023-10-10T12:50:14.340970Z",
          "shell.execute_reply.started": "2023-10-10T12:50:14.336557Z",
          "shell.execute_reply": "2023-10-10T12:50:14.340031Z"
        },
        "trusted": true,
        "colab": {
          "base_uri": "https://localhost:8080/"
        },
        "id": "PkaSnaHjLC-2",
        "outputId": "29913f00-bfa2-4a44-bc15-4124fb6cae61"
      },
      "execution_count": null,
      "outputs": [
        {
          "output_type": "stream",
          "name": "stdout",
          "text": [
            "Testing LSTM model\n",
            "LSTM model\n",
            "Network constructed. trainable parameters: 444632\n",
            "The model is loaded.\n",
            "Model /content/drive/MyDrive/ColabNotebooks/out/working/prediction_model/checkpoints/checkpoint_latest.pt loaded to device cuda:0.\n",
            "Reconstruct the tracermini_unseen_cym20230314100816T\n",
            "Reconstruct the tracermini_unseen_cym20230314101001T\n",
            "Reconstruct the tracermini_unseen_cym20230314101434T\n",
            "Reconstruct the tracermini_unseen_cym20230314100559T\n",
            "Reconstruct the tracermini_unseen_cym20230314101010T\n",
            "Reconstruct the tracermini_unseen_cym20230314101230T\n",
            "Reconstruct the tracermini_unseen_cym20230314100325T\n",
            "Reconstruct the tracermini_unseen_cym20230314100103T\n",
            "Reconstruct the tracermini_unseen_cym20230314101850T\n",
            "Reconstruct the tracermini_unseen_hw520230314082319T\n",
            "Reconstruct the tracermini_unseen_hw520230314082000T\n",
            "Reconstruct the tracermini_unseen_hw520230314091110T\n",
            "Reconstruct the tracermini_unseen_hw520230314091338T\n",
            "Reconstruct the tracermini_unseen_hw520230314081542T\n",
            "Reconstruct the tracermini_unseen_cym20230314101636T\n",
            "Reconstruct the tracermini_unseen_hw520230314081212T\n",
            "Reconstruct the tracermini_unseen_hw520230314083031T\n",
            "Reconstruct the tracermini_unseen_hw520230314090739T\n",
            "Reconstruct the tracermini_unseen_hw520230314091844T\n",
            "Reconstruct the tracermini_unseen_hw520230314091603T\n"
          ]
        }
      ]
    },
    {
      "cell_type": "markdown",
      "source": [
        "#### 8.3 Check the Results"
      ],
      "metadata": {
        "id": "FrJn7fxyLC-2"
      }
    },
    {
      "cell_type": "code",
      "source": [
        "for key, value in seen_unseen_pred.items():\n",
        "    # print the length of each sequence\n",
        "    print(seen_unseen_dataset[key], len(value))"
      ],
      "metadata": {
        "execution": {
          "iopub.status.busy": "2023-10-10T12:50:22.842965Z",
          "iopub.execute_input": "2023-10-10T12:50:22.843344Z",
          "iopub.status.idle": "2023-10-10T12:50:22.849114Z",
          "shell.execute_reply.started": "2023-10-10T12:50:22.843311Z",
          "shell.execute_reply": "2023-10-10T12:50:22.848223Z"
        },
        "trusted": true,
        "colab": {
          "base_uri": "https://localhost:8080/"
        },
        "id": "BD2-UYyMLC-2",
        "outputId": "ef3e4a8f-1ad1-4ab8-9b88-e928c23d77a8"
      },
      "execution_count": null,
      "outputs": [
        {
          "output_type": "stream",
          "name": "stdout",
          "text": [
            "tracermini_hw101_test20230311112635T 42097\n",
            "tracermini_hw101_test20230311111507T 37913\n",
            "tracermini_hw101_test20230311112235T 43462\n",
            "tracermini_hw101_test20230313011357T 38324\n",
            "tracermini_hw101_test20230311111842T 42839\n",
            "tracermini_hw101_test20230313010954T 39610\n",
            "tracermini_hw101_test20230313010546T 38378\n",
            "tracermini_hw101_test20230313011731T 37610\n",
            "tracermini_hw101_test20230313013335T 38254\n",
            "tracermini_hw101_test20230311111027T 44186\n",
            "tracermini_hw101_test20230313012956T 38694\n",
            "tracermini_hw101_test20230313010204T 39085\n",
            "tracermini_unseen_hw520230314091844T 19545\n",
            "tracermini_unseen_cym20230314101001T 283\n",
            "tracermini_unseen_hw520230314082319T 31657\n",
            "tracermini_unseen_cym20230314101636T 22690\n",
            "tracermini_unseen_hw520230314083031T 21208\n",
            "tracermini_unseen_hw520230314091110T 25327\n",
            "tracermini_unseen_cym20230314100816T 18914\n",
            "tracermini_unseen_cym20230314101230T 21364\n",
            "tracermini_unseen_cym20230314100559T 24483\n",
            "tracermini_unseen_hw520230314081212T 37662\n",
            "tracermini_unseen_hw520230314082000T 34311\n",
            "tracermini_unseen_hw520230314091603T 30173\n",
            "tracermini_unseen_cym20230314100325T 26852\n",
            "tracermini_unseen_cym20230314101434T 22394\n",
            "tracermini_unseen_cym20230314100103T 21781\n",
            "tracermini_unseen_hw520230314091338T 26671\n",
            "tracermini_unseen_cym20230314101010T 24564\n",
            "tracermini_unseen_cym20230314101850T 18695\n",
            "tracermini_unseen_hw520230314081542T 41291\n",
            "tracermini_unseen_hw520230314090739T 32802\n"
          ]
        }
      ]
    },
    {
      "cell_type": "markdown",
      "source": [
        "#### 8.4 Save the Results"
      ],
      "metadata": {
        "id": "wtOWJ-9XLC-2"
      }
    },
    {
      "cell_type": "code",
      "source": [
        "with open(\"/content/drive/MyDrive/ColabNotebooks/out/submission.csv\", \"w\") as f:\n",
        "    # The first row must be \"Id, Category\"\n",
        "    f.write(\"Id,Prediction\\n\")\n",
        "\n",
        "    # For the rest of the rows, each image id corresponds to a predicted class.\n",
        "    for key, value in seen_unseen_pred.items():\n",
        "        # print the length of each sequence\n",
        "        print(seen_unseen_dataset[key], len(value))\n",
        "        # print the prediction\n",
        "        for i in range(len(value)):\n",
        "            f.write(\"{},{}\\n\".format(key+'_'+str(i), value[i]))"
      ],
      "metadata": {
        "execution": {
          "iopub.status.busy": "2023-10-10T12:50:23.684518Z",
          "iopub.execute_input": "2023-10-10T12:50:23.685195Z",
          "iopub.status.idle": "2023-10-10T12:51:41.907052Z",
          "shell.execute_reply.started": "2023-10-10T12:50:23.685164Z",
          "shell.execute_reply": "2023-10-10T12:51:41.906019Z"
        },
        "trusted": true,
        "colab": {
          "base_uri": "https://localhost:8080/"
        },
        "id": "728b5bSCLC-2",
        "outputId": "2ae5fcb5-310b-4ffa-ed8b-e7b15079a348"
      },
      "execution_count": null,
      "outputs": [
        {
          "output_type": "stream",
          "name": "stdout",
          "text": [
            "tracermini_hw101_test20230311112635T 42097\n",
            "tracermini_hw101_test20230311111507T 37913\n",
            "tracermini_hw101_test20230311112235T 43462\n",
            "tracermini_hw101_test20230313011357T 38324\n",
            "tracermini_hw101_test20230311111842T 42839\n",
            "tracermini_hw101_test20230313010954T 39610\n",
            "tracermini_hw101_test20230313010546T 38378\n",
            "tracermini_hw101_test20230313011731T 37610\n",
            "tracermini_hw101_test20230313013335T 38254\n",
            "tracermini_hw101_test20230311111027T 44186\n",
            "tracermini_hw101_test20230313012956T 38694\n",
            "tracermini_hw101_test20230313010204T 39085\n",
            "tracermini_unseen_hw520230314091844T 19545\n",
            "tracermini_unseen_cym20230314101001T 283\n",
            "tracermini_unseen_hw520230314082319T 31657\n",
            "tracermini_unseen_cym20230314101636T 22690\n",
            "tracermini_unseen_hw520230314083031T 21208\n",
            "tracermini_unseen_hw520230314091110T 25327\n",
            "tracermini_unseen_cym20230314100816T 18914\n",
            "tracermini_unseen_cym20230314101230T 21364\n",
            "tracermini_unseen_cym20230314100559T 24483\n",
            "tracermini_unseen_hw520230314081212T 37662\n",
            "tracermini_unseen_hw520230314082000T 34311\n",
            "tracermini_unseen_hw520230314091603T 30173\n",
            "tracermini_unseen_cym20230314100325T 26852\n",
            "tracermini_unseen_cym20230314101434T 22394\n",
            "tracermini_unseen_cym20230314100103T 21781\n",
            "tracermini_unseen_hw520230314091338T 26671\n",
            "tracermini_unseen_cym20230314101010T 24564\n",
            "tracermini_unseen_cym20230314101850T 18695\n",
            "tracermini_unseen_hw520230314081542T 41291\n",
            "tracermini_unseen_hw520230314090739T 32802\n"
          ]
        }
      ]
    },
    {
      "cell_type": "code",
      "source": [],
      "metadata": {
        "id": "1F0ajZYTLC-2"
      },
      "execution_count": null,
      "outputs": []
    }
  ]
}